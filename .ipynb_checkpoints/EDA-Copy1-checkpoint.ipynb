{
 "cells": [
  {
   "cell_type": "markdown",
   "metadata": {},
   "source": [
    "### Import packages and data"
   ]
  },
  {
   "cell_type": "code",
   "execution_count": 1,
   "metadata": {},
   "outputs": [
    {
     "name": "stderr",
     "output_type": "stream",
     "text": [
      "C:\\Users\\hsin\\Anaconda3\\envs\\learn-env\\lib\\site-packages\\sklearn\\utils\\deprecation.py:143: FutureWarning: The sklearn.utils.testing module is  deprecated in version 0.22 and will be removed in version 0.24. The corresponding classes / functions should instead be imported from sklearn.utils. Anything that cannot be imported from sklearn.utils is now part of the private API.\n",
      "  warnings.warn(message, FutureWarning)\n"
     ]
    }
   ],
   "source": [
    "# import packages\n",
    "import pandas as pd\n",
    "import numpy as np\n",
    "\n",
    "#sklearn\n",
    "from sklearn.model_selection import train_test_split, GridSearchCV\n",
    "from sklearn.ensemble import RandomForestClassifier\n",
    "from sklearn.tree import DecisionTreeClassifier\n",
    "from sklearn import tree\n",
    "from sklearn.feature_selection import SelectFromModel\n",
    "from sklearn.metrics import accuracy_score\n",
    "from sklearn.preprocessing import OneHotEncoder, StandardScaler, LabelEncoder\n",
    "from sklearn.pipeline import Pipeline\n",
    "\n",
    "#visualisations\n",
    "import seaborn as sns\n",
    "import matplotlib.pyplot as plt\n",
    "\n",
    "#lazypredict\n",
    "import lazypredict\n",
    "from lazypredict.Supervised import LazyClassifier\n",
    "\n",
    "#mapping\n",
    "import folium\n",
    "from folium import FeatureGroup, plugins, LayerControl\n",
    "import geojson\n",
    "import geopandas as gpd\n",
    "import descartes\n",
    "from shapely.geometry import Point, Polygon\n",
    "\n",
    "%matplotlib inline"
   ]
  },
  {
   "cell_type": "code",
   "execution_count": 2,
   "metadata": {},
   "outputs": [],
   "source": [
    "# import data, which was as of 31 December 2020\n",
    "crash = pd.read_csv('Traffic_Crashes_-_Crashes.csv')\n",
    "vehicles = pd.read_csv('Traffic_Crashes_-_Vehicles.csv')\n",
    "people = pd.read_csv('Traffic_Crashes_-_People.csv')"
   ]
  },
  {
   "cell_type": "markdown",
   "metadata": {},
   "source": [
    "### Exploring and cleaning the crash data"
   ]
  },
  {
   "cell_type": "markdown",
   "metadata": {},
   "source": [
    "The objective of the section is to:\n",
    "\n",
    "1) investigate the primary contributory causes of the crash data and structure the dataset into a binary classification problem.\n",
    "\n",
    "2) review each column in the crash data, and identify which columns relate to data which have explanatory value in terms of causation and data which are administrative in nature (ie relating to the outcome of the crash, its location, ID numbers); and\n",
    "\n",
    "3) identify which columns from the dataframe derived from 2) above contain null values, investigate those columns and determine whether they can be removed.\n",
    "\n",
    "The intention is to produce a dataframe ('crash_df') which can then be merged with the other databases relating to vehicles and people. We will then proceed to model this merged dataset."
   ]
  },
  {
   "cell_type": "code",
   "execution_count": 3,
   "metadata": {
    "scrolled": true
   },
   "outputs": [
    {
     "name": "stdout",
     "output_type": "stream",
     "text": [
      "<class 'pandas.core.frame.DataFrame'>\n",
      "RangeIndex: 466056 entries, 0 to 466055\n",
      "Data columns (total 49 columns):\n",
      "CRASH_RECORD_ID                  466056 non-null object\n",
      "RD_NO                            462813 non-null object\n",
      "CRASH_DATE_EST_I                 34732 non-null object\n",
      "CRASH_DATE                       466056 non-null object\n",
      "POSTED_SPEED_LIMIT               466056 non-null int64\n",
      "TRAFFIC_CONTROL_DEVICE           466056 non-null object\n",
      "DEVICE_CONDITION                 466056 non-null object\n",
      "WEATHER_CONDITION                466056 non-null object\n",
      "LIGHTING_CONDITION               466056 non-null object\n",
      "FIRST_CRASH_TYPE                 466056 non-null object\n",
      "TRAFFICWAY_TYPE                  466056 non-null object\n",
      "LANE_CNT                         198960 non-null float64\n",
      "ALIGNMENT                        466056 non-null object\n",
      "ROADWAY_SURFACE_COND             466056 non-null object\n",
      "ROAD_DEFECT                      466056 non-null object\n",
      "REPORT_TYPE                      454866 non-null object\n",
      "CRASH_TYPE                       466056 non-null object\n",
      "INTERSECTION_RELATED_I           105253 non-null object\n",
      "NOT_RIGHT_OF_WAY_I               21841 non-null object\n",
      "HIT_AND_RUN_I                    135786 non-null object\n",
      "DAMAGE                           466056 non-null object\n",
      "DATE_POLICE_NOTIFIED             466056 non-null object\n",
      "PRIM_CONTRIBUTORY_CAUSE          466056 non-null object\n",
      "SEC_CONTRIBUTORY_CAUSE           466056 non-null object\n",
      "STREET_NO                        466056 non-null int64\n",
      "STREET_DIRECTION                 466053 non-null object\n",
      "STREET_NAME                      466055 non-null object\n",
      "BEAT_OF_OCCURRENCE               466051 non-null float64\n",
      "PHOTOS_TAKEN_I                   5875 non-null object\n",
      "STATEMENTS_TAKEN_I               9363 non-null object\n",
      "DOORING_I                        1526 non-null object\n",
      "WORK_ZONE_I                      3071 non-null object\n",
      "WORK_ZONE_TYPE                   2428 non-null object\n",
      "WORKERS_PRESENT_I                733 non-null object\n",
      "NUM_UNITS                        466056 non-null int64\n",
      "MOST_SEVERE_INJURY               465113 non-null object\n",
      "INJURIES_TOTAL                   465124 non-null float64\n",
      "INJURIES_FATAL                   465124 non-null float64\n",
      "INJURIES_INCAPACITATING          465124 non-null float64\n",
      "INJURIES_NON_INCAPACITATING      465124 non-null float64\n",
      "INJURIES_REPORTED_NOT_EVIDENT    465124 non-null float64\n",
      "INJURIES_NO_INDICATION           465124 non-null float64\n",
      "INJURIES_UNKNOWN                 465124 non-null float64\n",
      "CRASH_HOUR                       466056 non-null int64\n",
      "CRASH_DAY_OF_WEEK                466056 non-null int64\n",
      "CRASH_MONTH                      466056 non-null int64\n",
      "LATITUDE                         463510 non-null float64\n",
      "LONGITUDE                        463510 non-null float64\n",
      "LOCATION                         463510 non-null object\n",
      "dtypes: float64(11), int64(6), object(32)\n",
      "memory usage: 174.2+ MB\n"
     ]
    }
   ],
   "source": [
    "crash.info()"
   ]
  },
  {
   "cell_type": "markdown",
   "metadata": {},
   "source": [
    "We want to investigate the primary contributory causes of the crash. Let's take a look to see how many possible causes have been recorded in the data."
   ]
  },
  {
   "cell_type": "code",
   "execution_count": 4,
   "metadata": {
    "scrolled": true
   },
   "outputs": [
    {
     "data": {
      "text/plain": [
       "UNABLE TO DETERMINE                                                                 171500\n",
       "FAILING TO YIELD RIGHT-OF-WAY                                                        51661\n",
       "FOLLOWING TOO CLOSELY                                                                50013\n",
       "NOT APPLICABLE                                                                       25080\n",
       "IMPROPER OVERTAKING/PASSING                                                          22240\n",
       "IMPROPER BACKING                                                                     20522\n",
       "FAILING TO REDUCE SPEED TO AVOID CRASH                                               20058\n",
       "IMPROPER LANE USAGE                                                                  18236\n",
       "IMPROPER TURNING/NO SIGNAL                                                           15577\n",
       "DRIVING SKILLS/KNOWLEDGE/EXPERIENCE                                                  14539\n",
       "DISREGARDING TRAFFIC SIGNALS                                                          8408\n",
       "WEATHER                                                                               7303\n",
       "OPERATING VEHICLE IN ERRATIC, RECKLESS, CARELESS, NEGLIGENT OR AGGRESSIVE MANNER      5776\n",
       "DISREGARDING STOP SIGN                                                                5162\n",
       "DISTRACTION - FROM INSIDE VEHICLE                                                     3428\n",
       "EQUIPMENT - VEHICLE CONDITION                                                         2888\n",
       "VISION OBSCURED (SIGNS, TREE LIMBS, BUILDINGS, ETC.)                                  2729\n",
       "PHYSICAL CONDITION OF DRIVER                                                          2725\n",
       "UNDER THE INFLUENCE OF ALCOHOL/DRUGS (USE WHEN ARREST IS EFFECTED)                    2468\n",
       "DRIVING ON WRONG SIDE/WRONG WAY                                                       2176\n",
       "DISTRACTION - FROM OUTSIDE VEHICLE                                                    2078\n",
       "EXCEEDING AUTHORIZED SPEED LIMIT                                                      1982\n",
       "EXCEEDING SAFE SPEED FOR CONDITIONS                                                   1684\n",
       "ROAD ENGINEERING/SURFACE/MARKING DEFECTS                                              1344\n",
       "ROAD CONSTRUCTION/MAINTENANCE                                                         1149\n",
       "DISREGARDING OTHER TRAFFIC SIGNS                                                       985\n",
       "EVASIVE ACTION DUE TO ANIMAL, OBJECT, NONMOTORIST                                      862\n",
       "CELL PHONE USE OTHER THAN TEXTING                                                      660\n",
       "DISREGARDING ROAD MARKINGS                                                             642\n",
       "HAD BEEN DRINKING (USE WHEN ARREST IS NOT MADE)                                        521\n",
       "ANIMAL                                                                                 402\n",
       "TURNING RIGHT ON RED                                                                   323\n",
       "DISTRACTION - OTHER ELECTRONIC DEVICE (NAVIGATION DEVICE, DVD PLAYER, ETC.)            227\n",
       "TEXTING                                                                                207\n",
       "DISREGARDING YIELD SIGN                                                                178\n",
       "RELATED TO BUS STOP                                                                    150\n",
       "BICYCLE ADVANCING LEGALLY ON RED LIGHT                                                  64\n",
       "PASSING STOPPED SCHOOL BUS                                                              61\n",
       "OBSTRUCTED CROSSWALKS                                                                   29\n",
       "MOTORCYCLE ADVANCING LEGALLY ON RED LIGHT                                               19\n",
       "Name: PRIM_CONTRIBUTORY_CAUSE, dtype: int64"
      ]
     },
     "execution_count": 4,
     "metadata": {},
     "output_type": "execute_result"
    }
   ],
   "source": [
    "causes =pd.Series(crash.PRIM_CONTRIBUTORY_CAUSE.value_counts())\n",
    "causes"
   ]
  },
  {
   "cell_type": "markdown",
   "metadata": {},
   "source": [
    "Let's remove crashes which have indeterminate primary causes."
   ]
  },
  {
   "cell_type": "code",
   "execution_count": 5,
   "metadata": {
    "scrolled": true
   },
   "outputs": [
    {
     "data": {
      "text/plain": [
       "FAILING TO YIELD RIGHT-OF-WAY                                                       51661\n",
       "FOLLOWING TOO CLOSELY                                                               50013\n",
       "IMPROPER OVERTAKING/PASSING                                                         22240\n",
       "IMPROPER BACKING                                                                    20522\n",
       "FAILING TO REDUCE SPEED TO AVOID CRASH                                              20058\n",
       "IMPROPER LANE USAGE                                                                 18236\n",
       "IMPROPER TURNING/NO SIGNAL                                                          15577\n",
       "DRIVING SKILLS/KNOWLEDGE/EXPERIENCE                                                 14539\n",
       "DISREGARDING TRAFFIC SIGNALS                                                         8408\n",
       "WEATHER                                                                              7303\n",
       "OPERATING VEHICLE IN ERRATIC, RECKLESS, CARELESS, NEGLIGENT OR AGGRESSIVE MANNER     5776\n",
       "DISREGARDING STOP SIGN                                                               5162\n",
       "DISTRACTION - FROM INSIDE VEHICLE                                                    3428\n",
       "EQUIPMENT - VEHICLE CONDITION                                                        2888\n",
       "VISION OBSCURED (SIGNS, TREE LIMBS, BUILDINGS, ETC.)                                 2729\n",
       "PHYSICAL CONDITION OF DRIVER                                                         2725\n",
       "UNDER THE INFLUENCE OF ALCOHOL/DRUGS (USE WHEN ARREST IS EFFECTED)                   2468\n",
       "DRIVING ON WRONG SIDE/WRONG WAY                                                      2176\n",
       "DISTRACTION - FROM OUTSIDE VEHICLE                                                   2078\n",
       "EXCEEDING AUTHORIZED SPEED LIMIT                                                     1982\n",
       "EXCEEDING SAFE SPEED FOR CONDITIONS                                                  1684\n",
       "ROAD ENGINEERING/SURFACE/MARKING DEFECTS                                             1344\n",
       "ROAD CONSTRUCTION/MAINTENANCE                                                        1149\n",
       "DISREGARDING OTHER TRAFFIC SIGNS                                                      985\n",
       "EVASIVE ACTION DUE TO ANIMAL, OBJECT, NONMOTORIST                                     862\n",
       "CELL PHONE USE OTHER THAN TEXTING                                                     660\n",
       "DISREGARDING ROAD MARKINGS                                                            642\n",
       "HAD BEEN DRINKING (USE WHEN ARREST IS NOT MADE)                                       521\n",
       "ANIMAL                                                                                402\n",
       "TURNING RIGHT ON RED                                                                  323\n",
       "DISTRACTION - OTHER ELECTRONIC DEVICE (NAVIGATION DEVICE, DVD PLAYER, ETC.)           227\n",
       "TEXTING                                                                               207\n",
       "DISREGARDING YIELD SIGN                                                               178\n",
       "RELATED TO BUS STOP                                                                   150\n",
       "BICYCLE ADVANCING LEGALLY ON RED LIGHT                                                 64\n",
       "PASSING STOPPED SCHOOL BUS                                                             61\n",
       "OBSTRUCTED CROSSWALKS                                                                  29\n",
       "MOTORCYCLE ADVANCING LEGALLY ON RED LIGHT                                              19\n",
       "Name: PRIM_CONTRIBUTORY_CAUSE, dtype: int64"
      ]
     },
     "execution_count": 5,
     "metadata": {},
     "output_type": "execute_result"
    }
   ],
   "source": [
    "# drop NOT APPLICABLE & UNABLE TO DETERMINE from the crash dataset\n",
    "unknown = ['UNABLE TO DETERMINE','NOT APPLICABLE']\n",
    "crash_df = crash[~crash['PRIM_CONTRIBUTORY_CAUSE'].isin(unknown)]\n",
    "\n",
    "causes =pd.Series(crash_df.PRIM_CONTRIBUTORY_CAUSE.value_counts())\n",
    "causes"
   ]
  },
  {
   "cell_type": "markdown",
   "metadata": {},
   "source": [
    "#### Feature engineering to produce a target to predict on"
   ]
  },
  {
   "cell_type": "markdown",
   "metadata": {},
   "source": [
    "Looks like there are many different primary causes of accidents. We want to predict the causes of accidents so we can structure this as a binary classification problem by binning the multiple causes into 2 broad categories - **whether the accident was a result of a driver error or not**. "
   ]
  },
  {
   "cell_type": "code",
   "execution_count": 8,
   "metadata": {},
   "outputs": [],
   "source": [
    "# list causes which are NOT the result of driver error\n",
    "not_driver_error = ['WEATHER',\n",
    "                    'EQUIPMENT - VEHICLE CONDITION',\n",
    "                    'ROAD ENGINEERING/SURFACE/MARKING DEFECTS',\n",
    "                    'ROAD CONSTRUCTION/MAINTENANCE',\n",
    "                    'EVASIVE ACTION DUE TO ANIMAL, OBJECT, NONMOTORIST',\n",
    "                    'ANIMAL',\n",
    "                    'OBSTRUCTED CROSSWALKS',\n",
    "                    'RELATED TO BUS STOP',\n",
    "                    'VISION OBSCURED (SIGNS, TREE LIMBS, BUILDINGS, ETC.)']\n",
    "\n",
    "# this engineers a new feature DRIVER_ERROR which is TRUE if the primary contributory cause\n",
    "# is as a consequence of driver error, otherwise this will be FALSE\n",
    "\n",
    "crash_df['DRIVER_ERROR'] = crash['PRIM_CONTRIBUTORY_CAUSE'].apply(lambda x: 'FALSE' if x in not_driver_error else 'TRUE')\n",
    "\n",
    "# let's engineer a further feature VEHICLE_DEFECT which is TRUE if the primary contributory cause\n",
    "# is as a consequence of a vehicle defect, out of control of the driver, otherwise this will be FALSE\n",
    "\n",
    "crash_df['VEHICLE_DEFECT'] = crash['PRIM_CONTRIBUTORY_CAUSE'].apply(lambda x: 'TRUE' if x in not_driver_error else 'FALSE')"
   ]
  },
  {
   "cell_type": "markdown",
   "metadata": {},
   "source": [
    "The **DRIVER_ERROR** column is now the target on which we are trying to predict, let's take a quick look at the values we have engineered.  WE may use **VEHICLE_DEFECT** as an alternative target which we may also use to predict."
   ]
  },
  {
   "cell_type": "code",
   "execution_count": 9,
   "metadata": {},
   "outputs": [
    {
     "data": {
      "text/plain": [
       "TRUE     252620\n",
       "FALSE     16856\n",
       "Name: DRIVER_ERROR, dtype: int64"
      ]
     },
     "execution_count": 9,
     "metadata": {},
     "output_type": "execute_result"
    }
   ],
   "source": [
    "# this is the target, we want to figure out how to predict crashes which are the result of driver error\n",
    "crash_df.DRIVER_ERROR.value_counts() "
   ]
  },
  {
   "cell_type": "markdown",
   "metadata": {},
   "source": [
    "We now have what we need from the **PRIM_CONTRIBUTORY_CAUSE** column. We can now probably drop that column as well as the **SEC_CONTRIBUTORY_CAUSE** column."
   ]
  },
  {
   "cell_type": "code",
   "execution_count": 10,
   "metadata": {},
   "outputs": [
    {
     "name": "stdout",
     "output_type": "stream",
     "text": [
      "<class 'pandas.core.frame.DataFrame'>\n",
      "Int64Index: 269476 entries, 1 to 466055\n",
      "Data columns (total 51 columns):\n",
      "CRASH_RECORD_ID                  269476 non-null object\n",
      "RD_NO                            267691 non-null object\n",
      "CRASH_DATE_EST_I                 13792 non-null object\n",
      "CRASH_DATE                       269476 non-null object\n",
      "POSTED_SPEED_LIMIT               269476 non-null int64\n",
      "TRAFFIC_CONTROL_DEVICE           269476 non-null object\n",
      "DEVICE_CONDITION                 269476 non-null object\n",
      "WEATHER_CONDITION                269476 non-null object\n",
      "LIGHTING_CONDITION               269476 non-null object\n",
      "FIRST_CRASH_TYPE                 269476 non-null object\n",
      "TRAFFICWAY_TYPE                  269476 non-null object\n",
      "LANE_CNT                         122314 non-null float64\n",
      "ALIGNMENT                        269476 non-null object\n",
      "ROADWAY_SURFACE_COND             269476 non-null object\n",
      "ROAD_DEFECT                      269476 non-null object\n",
      "REPORT_TYPE                      262827 non-null object\n",
      "CRASH_TYPE                       269476 non-null object\n",
      "INTERSECTION_RELATED_I           75617 non-null object\n",
      "NOT_RIGHT_OF_WAY_I               11331 non-null object\n",
      "HIT_AND_RUN_I                    58948 non-null object\n",
      "DAMAGE                           269476 non-null object\n",
      "DATE_POLICE_NOTIFIED             269476 non-null object\n",
      "PRIM_CONTRIBUTORY_CAUSE          269476 non-null object\n",
      "SEC_CONTRIBUTORY_CAUSE           269476 non-null object\n",
      "STREET_NO                        269476 non-null int64\n",
      "STREET_DIRECTION                 269474 non-null object\n",
      "STREET_NAME                      269476 non-null object\n",
      "BEAT_OF_OCCURRENCE               269472 non-null float64\n",
      "PHOTOS_TAKEN_I                   3954 non-null object\n",
      "STATEMENTS_TAKEN_I               6798 non-null object\n",
      "DOORING_I                        707 non-null object\n",
      "WORK_ZONE_I                      2134 non-null object\n",
      "WORK_ZONE_TYPE                   1735 non-null object\n",
      "WORKERS_PRESENT_I                538 non-null object\n",
      "NUM_UNITS                        269476 non-null int64\n",
      "MOST_SEVERE_INJURY               269231 non-null object\n",
      "INJURIES_TOTAL                   269234 non-null float64\n",
      "INJURIES_FATAL                   269234 non-null float64\n",
      "INJURIES_INCAPACITATING          269234 non-null float64\n",
      "INJURIES_NON_INCAPACITATING      269234 non-null float64\n",
      "INJURIES_REPORTED_NOT_EVIDENT    269234 non-null float64\n",
      "INJURIES_NO_INDICATION           269234 non-null float64\n",
      "INJURIES_UNKNOWN                 269234 non-null float64\n",
      "CRASH_HOUR                       269476 non-null int64\n",
      "CRASH_DAY_OF_WEEK                269476 non-null int64\n",
      "CRASH_MONTH                      269476 non-null int64\n",
      "LATITUDE                         267858 non-null float64\n",
      "LONGITUDE                        267858 non-null float64\n",
      "LOCATION                         267858 non-null object\n",
      "DRIVER_ERROR                     269476 non-null object\n",
      "VEHICLE_DEFECT                   269476 non-null object\n",
      "dtypes: float64(11), int64(6), object(34)\n",
      "memory usage: 106.9+ MB\n"
     ]
    }
   ],
   "source": [
    "crash_df.info()"
   ]
  },
  {
   "cell_type": "code",
   "execution_count": 11,
   "metadata": {},
   "outputs": [],
   "source": [
    "crash_df.drop(['PRIM_CONTRIBUTORY_CAUSE','SEC_CONTRIBUTORY_CAUSE'], axis=1, inplace=True)"
   ]
  },
  {
   "cell_type": "markdown",
   "metadata": {},
   "source": [
    "Let's review the features in crash_df to try and weed out those which are irrelevant. Remember, we want to include data that may reasonably **explain** the accident, not data which merely records the outcome of the accident or its location. We can separate out the location data and outcome data independently for analysis if required."
   ]
  },
  {
   "cell_type": "code",
   "execution_count": 12,
   "metadata": {},
   "outputs": [],
   "source": [
    "crash_df_cols = list(crash_df.columns)\n",
    "len(crash_df_cols)\n",
    "\n",
    "# these are the columns we want to drop\n",
    "col_drop = ['RD_NO',\n",
    "            'CRASH_DATE',\n",
    "            'CRASH_DATE_EST_I',\n",
    "            'DEVICE_CONDITION',\n",
    "            'REPORT_TYPE',\n",
    "            'CRASH_TYPE',\n",
    "            'HIT_AND_RUN_I',\n",
    "            'DAMAGE',\n",
    "            'DATE_POLICE_NOTIFIED',\n",
    "            'STREET_NO',\n",
    "            'STREET_DIRECTION',\n",
    "            'STREET_NAME',\n",
    "            'BEAT_OF_OCCURRENCE',\n",
    "            'PHOTOS_TAKEN_I',\n",
    "            'STATEMENTS_TAKEN_I',\n",
    "            'DOORING_I',\n",
    "            'WORK_ZONE_I',\n",
    "            'WORK_ZONE_TYPE',\n",
    "            'WORKERS_PRESENT_I',\n",
    "            'MOST_SEVERE_INJURY',\n",
    "            'INJURIES_TOTAL',               \n",
    "            'INJURIES_FATAL',                   \n",
    "            'INJURIES_INCAPACITATING',          \n",
    "            'INJURIES_NON_INCAPACITATING',      \n",
    "            'INJURIES_REPORTED_NOT_EVIDENT',    \n",
    "            'INJURIES_NO_INDICATION',           \n",
    "            'INJURIES_UNKNOWN',\n",
    "            'LATITUDE',\n",
    "            'LONGITUDE',\n",
    "            'LOCATION']\n",
    "\n",
    "# trimmed crash_df\n",
    "crash_df.drop(col_drop, axis=1, inplace=True)"
   ]
  },
  {
   "cell_type": "markdown",
   "metadata": {},
   "source": [
    "#### Handling null values"
   ]
  },
  {
   "cell_type": "markdown",
   "metadata": {},
   "source": [
    "Let's find where the null values are in crash_df."
   ]
  },
  {
   "cell_type": "code",
   "execution_count": 13,
   "metadata": {},
   "outputs": [
    {
     "data": {
      "text/plain": [
       "CRASH_RECORD_ID           False\n",
       "POSTED_SPEED_LIMIT        False\n",
       "TRAFFIC_CONTROL_DEVICE    False\n",
       "WEATHER_CONDITION         False\n",
       "LIGHTING_CONDITION        False\n",
       "FIRST_CRASH_TYPE          False\n",
       "TRAFFICWAY_TYPE           False\n",
       "LANE_CNT                   True\n",
       "ALIGNMENT                 False\n",
       "ROADWAY_SURFACE_COND      False\n",
       "ROAD_DEFECT               False\n",
       "INTERSECTION_RELATED_I     True\n",
       "NOT_RIGHT_OF_WAY_I         True\n",
       "NUM_UNITS                 False\n",
       "CRASH_HOUR                False\n",
       "CRASH_DAY_OF_WEEK         False\n",
       "CRASH_MONTH               False\n",
       "DRIVER_ERROR              False\n",
       "VEHICLE_DEFECT            False\n",
       "dtype: bool"
      ]
     },
     "execution_count": 13,
     "metadata": {},
     "output_type": "execute_result"
    }
   ],
   "source": [
    "# where are the null values in this trimmed crash_df?\n",
    "crash_df.isna().any()"
   ]
  },
  {
   "cell_type": "markdown",
   "metadata": {},
   "source": [
    "##### LANE_CNT"
   ]
  },
  {
   "cell_type": "markdown",
   "metadata": {},
   "source": [
    "\"LANE_CNT\" means total number of through lanes in either direction, excluding turn lanes, as determined by reporting officer (0 = intersection). How many null values are there in this column?"
   ]
  },
  {
   "cell_type": "code",
   "execution_count": 14,
   "metadata": {},
   "outputs": [
    {
     "data": {
      "text/plain": [
       "True     147162\n",
       "False    122314\n",
       "Name: LANE_CNT, dtype: int64"
      ]
     },
     "execution_count": 14,
     "metadata": {},
     "output_type": "execute_result"
    }
   ],
   "source": [
    "crash_df['LANE_CNT'].isna().value_counts()"
   ]
  },
  {
   "cell_type": "markdown",
   "metadata": {},
   "source": [
    "More than half the data in this column **are** null values. It is difficult to ascertain what, if any value, should be imputed to replace these null values - for example, a simple average of the lane count simply wouldn't work because it would not return a number of lanes that is an integer. Moreover, any attempt to impute a value to these null values would introduce bias into any analysis. \n",
    "\n",
    "Therefore, the proposal here is to drop the \"LANE_CNT\" column."
   ]
  },
  {
   "cell_type": "markdown",
   "metadata": {},
   "source": [
    "##### INTERSECTION_RELATED_I"
   ]
  },
  {
   "cell_type": "markdown",
   "metadata": {},
   "source": [
    "\"INTERSECTION_RELATED_I\" means a field observation by the police officer whether an intersection played a role in the crash. Does not represent whether or not the crash occurred within the intersection."
   ]
  },
  {
   "cell_type": "code",
   "execution_count": 15,
   "metadata": {
    "scrolled": true
   },
   "outputs": [
    {
     "data": {
      "text/plain": [
       "True     193859\n",
       "False     75617\n",
       "Name: INTERSECTION_RELATED_I, dtype: int64"
      ]
     },
     "execution_count": 15,
     "metadata": {},
     "output_type": "execute_result"
    }
   ],
   "source": [
    "crash_df['INTERSECTION_RELATED_I'].isna().value_counts()"
   ]
  },
  {
   "cell_type": "code",
   "execution_count": 16,
   "metadata": {},
   "outputs": [
    {
     "data": {
      "text/plain": [
       "Y    72299\n",
       "N     3318\n",
       "Name: INTERSECTION_RELATED_I, dtype: int64"
      ]
     },
     "execution_count": 16,
     "metadata": {},
     "output_type": "execute_result"
    }
   ],
   "source": [
    "crash_df['INTERSECTION_RELATED_I'].value_counts()"
   ]
  },
  {
   "cell_type": "markdown",
   "metadata": {},
   "source": [
    "Again - there are a large number of null values. Given that the values of this feature are a \"Y\" (for Yes) and a \"N\" (for No), it would not be wise to impute a Y or N value to null values because of the bias it introduces to the data. Therefore, the proposal here is to drop the \"INTERSECTION_RELATED_I\" column."
   ]
  },
  {
   "cell_type": "markdown",
   "metadata": {},
   "source": [
    "##### NOT_RIGHT_OF_WAY_I"
   ]
  },
  {
   "cell_type": "markdown",
   "metadata": {},
   "source": [
    "\"NOT RIGHT OF WAY I\" means whether the crash begun or first contact was made outside of the public right-of-way."
   ]
  },
  {
   "cell_type": "code",
   "execution_count": 17,
   "metadata": {},
   "outputs": [
    {
     "data": {
      "text/plain": [
       "True     258145\n",
       "False     11331\n",
       "Name: NOT_RIGHT_OF_WAY_I, dtype: int64"
      ]
     },
     "execution_count": 17,
     "metadata": {},
     "output_type": "execute_result"
    }
   ],
   "source": [
    "crash_df['NOT_RIGHT_OF_WAY_I'].isna().value_counts()"
   ]
  },
  {
   "cell_type": "code",
   "execution_count": 18,
   "metadata": {},
   "outputs": [
    {
     "data": {
      "text/plain": [
       "Y    10291\n",
       "N     1040\n",
       "Name: NOT_RIGHT_OF_WAY_I, dtype: int64"
      ]
     },
     "execution_count": 18,
     "metadata": {},
     "output_type": "execute_result"
    }
   ],
   "source": [
    "crash_df['NOT_RIGHT_OF_WAY_I'].value_counts()"
   ]
  },
  {
   "cell_type": "markdown",
   "metadata": {},
   "source": [
    "The proposal here is also to drop \"NOT_RIGHT_OF_WAY_I\" for the same reasons as above."
   ]
  },
  {
   "cell_type": "markdown",
   "metadata": {},
   "source": [
    "We can therefore afford to drop all 3 columns with null values in them. This will leave a crash_df cleaned of null values."
   ]
  },
  {
   "cell_type": "code",
   "execution_count": 19,
   "metadata": {},
   "outputs": [
    {
     "name": "stdout",
     "output_type": "stream",
     "text": [
      "<class 'pandas.core.frame.DataFrame'>\n",
      "Int64Index: 269476 entries, 1 to 466055\n",
      "Data columns (total 16 columns):\n",
      "CRASH_RECORD_ID           269476 non-null object\n",
      "POSTED_SPEED_LIMIT        269476 non-null int64\n",
      "TRAFFIC_CONTROL_DEVICE    269476 non-null object\n",
      "WEATHER_CONDITION         269476 non-null object\n",
      "LIGHTING_CONDITION        269476 non-null object\n",
      "FIRST_CRASH_TYPE          269476 non-null object\n",
      "TRAFFICWAY_TYPE           269476 non-null object\n",
      "ALIGNMENT                 269476 non-null object\n",
      "ROADWAY_SURFACE_COND      269476 non-null object\n",
      "ROAD_DEFECT               269476 non-null object\n",
      "NUM_UNITS                 269476 non-null int64\n",
      "CRASH_HOUR                269476 non-null int64\n",
      "CRASH_DAY_OF_WEEK         269476 non-null int64\n",
      "CRASH_MONTH               269476 non-null int64\n",
      "DRIVER_ERROR              269476 non-null object\n",
      "VEHICLE_DEFECT            269476 non-null object\n",
      "dtypes: int64(5), object(11)\n",
      "memory usage: 35.0+ MB\n"
     ]
    }
   ],
   "source": [
    "crash_df = crash_df.drop(['LANE_CNT','INTERSECTION_RELATED_I','NOT_RIGHT_OF_WAY_I'], axis=1)\n",
    "crash_df.info()"
   ]
  },
  {
   "cell_type": "markdown",
   "metadata": {},
   "source": [
    "Thus we are investigating **269,476** crashes."
   ]
  },
  {
   "cell_type": "code",
   "execution_count": 20,
   "metadata": {},
   "outputs": [
    {
     "data": {
      "text/plain": [
       "CRASH_RECORD_ID           False\n",
       "POSTED_SPEED_LIMIT        False\n",
       "TRAFFIC_CONTROL_DEVICE    False\n",
       "WEATHER_CONDITION         False\n",
       "LIGHTING_CONDITION        False\n",
       "FIRST_CRASH_TYPE          False\n",
       "TRAFFICWAY_TYPE           False\n",
       "ALIGNMENT                 False\n",
       "ROADWAY_SURFACE_COND      False\n",
       "ROAD_DEFECT               False\n",
       "NUM_UNITS                 False\n",
       "CRASH_HOUR                False\n",
       "CRASH_DAY_OF_WEEK         False\n",
       "CRASH_MONTH               False\n",
       "DRIVER_ERROR              False\n",
       "VEHICLE_DEFECT            False\n",
       "dtype: bool"
      ]
     },
     "execution_count": 20,
     "metadata": {},
     "output_type": "execute_result"
    }
   ],
   "source": [
    "crash_df.isna().any()"
   ]
  },
  {
   "cell_type": "markdown",
   "metadata": {},
   "source": [
    "crash_df now constitutes meangingful data which covers 269,476 crashes, clean of null values."
   ]
  },
  {
   "cell_type": "code",
   "execution_count": 21,
   "metadata": {},
   "outputs": [
    {
     "name": "stdout",
     "output_type": "stream",
     "text": [
      "<class 'pandas.core.frame.DataFrame'>\n",
      "Int64Index: 269476 entries, 1 to 466055\n",
      "Data columns (total 16 columns):\n",
      "CRASH_RECORD_ID           269476 non-null object\n",
      "POSTED_SPEED_LIMIT        269476 non-null int64\n",
      "TRAFFIC_CONTROL_DEVICE    269476 non-null object\n",
      "WEATHER_CONDITION         269476 non-null object\n",
      "LIGHTING_CONDITION        269476 non-null object\n",
      "FIRST_CRASH_TYPE          269476 non-null object\n",
      "TRAFFICWAY_TYPE           269476 non-null object\n",
      "ALIGNMENT                 269476 non-null object\n",
      "ROADWAY_SURFACE_COND      269476 non-null object\n",
      "ROAD_DEFECT               269476 non-null object\n",
      "NUM_UNITS                 269476 non-null int64\n",
      "CRASH_HOUR                269476 non-null int64\n",
      "CRASH_DAY_OF_WEEK         269476 non-null int64\n",
      "CRASH_MONTH               269476 non-null int64\n",
      "DRIVER_ERROR              269476 non-null object\n",
      "VEHICLE_DEFECT            269476 non-null object\n",
      "dtypes: int64(5), object(11)\n",
      "memory usage: 35.0+ MB\n"
     ]
    }
   ],
   "source": [
    "crash_df.info()"
   ]
  },
  {
   "cell_type": "markdown",
   "metadata": {},
   "source": [
    "What values do each column of crash_df contain?"
   ]
  },
  {
   "cell_type": "code",
   "execution_count": 22,
   "metadata": {},
   "outputs": [
    {
     "name": "stdout",
     "output_type": "stream",
     "text": [
      "POSTED_SPEED_LIMIT [30 45 25 40 15 35  0 20 10  5 55  9 39 34 50  3 12 60  7  6 33 49 32 65\n",
      " 70  2  1 11 36 99 63 24 38 16 31]\n",
      "TRAFFIC_CONTROL_DEVICE ['NO CONTROLS' 'TRAFFIC SIGNAL' 'STOP SIGN/FLASHER' 'UNKNOWN'\n",
      " 'OTHER WARNING SIGN' 'LANE USE MARKING' 'OTHER' 'OTHER REG. SIGN'\n",
      " 'SCHOOL ZONE' 'FLASHING CONTROL SIGNAL' 'PEDESTRIAN CROSSING SIGN'\n",
      " 'YIELD' 'POLICE/FLAGMAN' 'RR CROSSING SIGN' 'RAILROAD CROSSING GATE'\n",
      " 'OTHER RAILROAD CROSSING' 'DELINEATORS' 'NO PASSING'\n",
      " 'BICYCLE CROSSING SIGN']\n",
      "WEATHER_CONDITION ['CLEAR' 'RAIN' 'SNOW' 'CLOUDY/OVERCAST' 'FOG/SMOKE/HAZE' 'OTHER'\n",
      " 'UNKNOWN' 'FREEZING RAIN/DRIZZLE' 'SLEET/HAIL' 'SEVERE CROSS WIND GATE'\n",
      " 'BLOWING SNOW' 'BLOWING SAND, SOIL, DIRT']\n",
      "LIGHTING_CONDITION ['DAYLIGHT' 'DARKNESS, LIGHTED ROAD' 'DARKNESS' 'DAWN' 'DUSK' 'UNKNOWN']\n",
      "FIRST_CRASH_TYPE ['REAR END' 'ANGLE' 'PARKED MOTOR VEHICLE' 'SIDESWIPE SAME DIRECTION'\n",
      " 'TURNING' 'REAR TO FRONT' 'PEDESTRIAN' 'PEDALCYCLIST' 'FIXED OBJECT'\n",
      " 'REAR TO SIDE' 'SIDESWIPE OPPOSITE DIRECTION' 'OTHER OBJECT' 'HEAD ON'\n",
      " 'OTHER NONCOLLISION' 'REAR TO REAR' 'ANIMAL' 'TRAIN' 'OVERTURNED']\n",
      "TRAFFICWAY_TYPE ['NOT DIVIDED' 'FOUR WAY' 'ONE-WAY' 'DIVIDED - W/MEDIAN BARRIER'\n",
      " 'DIVIDED - W/MEDIAN (NOT RAISED)' 'OTHER' 'UNKNOWN' 'PARKING LOT' 'ALLEY'\n",
      " 'CENTER TURN LANE' 'FIVE POINT, OR MORE' 'T-INTERSECTION' 'RAMP'\n",
      " 'TRAFFIC ROUTE' 'DRIVEWAY' 'NOT REPORTED' 'UNKNOWN INTERSECTION TYPE'\n",
      " 'Y-INTERSECTION' 'ROUNDABOUT' 'L-INTERSECTION']\n",
      "ALIGNMENT ['STRAIGHT AND LEVEL' 'CURVE, LEVEL' 'STRAIGHT ON GRADE'\n",
      " 'STRAIGHT ON HILLCREST' 'CURVE ON HILLCREST' 'CURVE ON GRADE']\n",
      "ROADWAY_SURFACE_COND ['DRY' 'WET' 'UNKNOWN' 'ICE' 'SNOW OR SLUSH' 'OTHER' 'SAND, MUD, DIRT']\n",
      "ROAD_DEFECT ['UNKNOWN' 'NO DEFECTS' 'WORN SURFACE' 'SHOULDER DEFECT'\n",
      " 'DEBRIS ON ROADWAY' 'OTHER' 'RUT, HOLES']\n",
      "NUM_UNITS [ 2  3  1  4  5  8  6  7  9 10 11 12 15 18 16]\n",
      "CRASH_HOUR [18  2 14 13  7 20 10 19  8 22 15 16 17 12  0  9 21  4  1 11  6 23  5  3]\n",
      "CRASH_DAY_OF_WEEK [2 7 6 5 1 4 3]\n",
      "CRASH_MONTH [ 7 11  2  8  9  6  3  4  5 10 12  1]\n",
      "DRIVER_ERROR ['TRUE' 'FALSE']\n",
      "VEHICLE_DEFECT ['FALSE' 'TRUE']\n"
     ]
    }
   ],
   "source": [
    "col_list = list(crash_df.columns)\n",
    "del col_list[0] #drop CRASH_RECORD_ID, we only need it as a key to join up with other datasets\n",
    "\n",
    "for col in col_list:\n",
    "    print(col,crash_df[col].unique())  #print the name of each column of crash_df and set out the unique values of that column"
   ]
  },
  {
   "cell_type": "code",
   "execution_count": null,
   "metadata": {},
   "outputs": [],
   "source": [
    "# crashes involving cyclists\n",
    "cyclist_crash = crash_df[crash_df['FIRST_CRASH_TYPE']=='PEDALCYCLIST']"
   ]
  },
  {
   "cell_type": "code",
   "execution_count": null,
   "metadata": {},
   "outputs": [],
   "source": [
    "cyclist_crash['TRAFFIC_CONTROL_DEVICE'].value_counts()"
   ]
  },
  {
   "cell_type": "code",
   "execution_count": null,
   "metadata": {},
   "outputs": [],
   "source": [
    "cyclist_crash['PRIM_CONTRIBUTORY_CAUSE'].value_counts().plot.bar();"
   ]
  },
  {
   "cell_type": "code",
   "execution_count": null,
   "metadata": {},
   "outputs": [],
   "source": [
    "# injuries_df\n",
    "\n",
    "injuries = crash[['INJURIES_TOTAL',               \n",
    "            'INJURIES_FATAL',                   \n",
    "            'INJURIES_INCAPACITATING',          \n",
    "            'INJURIES_NON_INCAPACITATING',      \n",
    "            'INJURIES_REPORTED_NOT_EVIDENT',    \n",
    "            'INJURIES_NO_INDICATION',           \n",
    "            'INJURIES_UNKNOWN']]"
   ]
  },
  {
   "cell_type": "code",
   "execution_count": null,
   "metadata": {},
   "outputs": [],
   "source": [
    "injuries.isna().any()"
   ]
  },
  {
   "cell_type": "code",
   "execution_count": null,
   "metadata": {},
   "outputs": [],
   "source": [
    "injuries['INJURIES_UNKNOWN'].value_counts()"
   ]
  },
  {
   "cell_type": "code",
   "execution_count": null,
   "metadata": {},
   "outputs": [],
   "source": [
    "# street name\n",
    "crash['STREET_NAME'].value_counts()[:10].plot.bar()"
   ]
  },
  {
   "cell_type": "code",
   "execution_count": null,
   "metadata": {},
   "outputs": [],
   "source": [
    "fatal = crash[['INJURIES_FATAL','LATITUDE','LONGITUDE']]\n",
    "crs = {'init':'epsg:4326'}\n",
    "geometry = [Point(xy) for xy in zip(fatal['LONGITUDE'],fatal['LATITUDE'])]"
   ]
  },
  {
   "cell_type": "code",
   "execution_count": null,
   "metadata": {},
   "outputs": [],
   "source": [
    "import os\n",
    "\n",
    "basepath ='C:/Users/hsin/OneDrive/Desktop/Flatiron Local/Module 3/Project/Flatiron-Module-3-Final-Project/Boundaries'\n",
    "\n",
    "for entry in os.listdir(basepath):\n",
    "    if os.path.isfile(os.path.join(basepath, entry)):\n",
    "        print(entry)"
   ]
  },
  {
   "cell_type": "code",
   "execution_count": null,
   "metadata": {},
   "outputs": [],
   "source": [
    "# chicago map\n",
    "chicago_map = gpd.read_file('C:/Users/hsin/OneDrive/Desktop/Flatiron Local/Module 3/Project/Flatiron-Module-3-Final-Project/Boundaries/geo_export_ca085062-687c-48db-865f-c728ad6dfe1c.shp')\n",
    "\n",
    "fig, ax = plt.subplots(figsize=(15,15))\n",
    "chicago_map.plot(ax=ax);"
   ]
  },
  {
   "cell_type": "code",
   "execution_count": null,
   "metadata": {},
   "outputs": [],
   "source": [
    "geo_df = gpd.GeoDataFrame(fatal,crs=crs, geometry=geometry)\n",
    "geo_df"
   ]
  },
  {
   "cell_type": "code",
   "execution_count": null,
   "metadata": {},
   "outputs": [],
   "source": [
    "fig, ax = plt.subplots(figsize=(15,15))\n",
    "chicago_map.plot(ax=ax, alpha=0.4, color='grey')\n",
    "geo_df[geo_df['INJURIES_FATAL'] == 1.00].plot(ax=ax, markersize=20, color='red', marker='o', label='One')\n",
    "geo_df[geo_df['INJURIES_FATAL'] == 2.00].plot(ax=ax, markersize=20, color='blue', marker='^', label='Two')\n",
    "plt.legend(prop={'size':15});"
   ]
  },
  {
   "cell_type": "code",
   "execution_count": null,
   "metadata": {},
   "outputs": [],
   "source": [
    "# consider whether to carve out location data for further analysis"
   ]
  },
  {
   "cell_type": "markdown",
   "metadata": {},
   "source": [
    "### Exploring and cleaning the vehicles dataset"
   ]
  },
  {
   "cell_type": "code",
   "execution_count": 23,
   "metadata": {},
   "outputs": [
    {
     "name": "stdout",
     "output_type": "stream",
     "text": [
      "<class 'pandas.core.frame.DataFrame'>\n",
      "RangeIndex: 950955 entries, 0 to 950954\n",
      "Data columns (total 72 columns):\n",
      "CRASH_UNIT_ID               950955 non-null int64\n",
      "CRASH_RECORD_ID             950955 non-null object\n",
      "RD_NO                       944309 non-null object\n",
      "CRASH_DATE                  950955 non-null object\n",
      "UNIT_NO                     950955 non-null int64\n",
      "UNIT_TYPE                   949530 non-null object\n",
      "NUM_PASSENGERS              142939 non-null float64\n",
      "VEHICLE_ID                  928755 non-null float64\n",
      "CMRC_VEH_I                  17648 non-null object\n",
      "MAKE                        928750 non-null object\n",
      "MODEL                       928608 non-null object\n",
      "LIC_PLATE_STATE             850815 non-null object\n",
      "VEHICLE_YEAR                779056 non-null float64\n",
      "VEHICLE_DEFECT              928755 non-null object\n",
      "VEHICLE_TYPE                928755 non-null object\n",
      "VEHICLE_USE                 928755 non-null object\n",
      "TRAVEL_DIRECTION            928755 non-null object\n",
      "MANEUVER                    928755 non-null object\n",
      "TOWED_I                     105850 non-null object\n",
      "FIRE_I                      674 non-null object\n",
      "OCCUPANT_CNT                928755 non-null float64\n",
      "EXCEED_SPEED_LIMIT_I        2387 non-null object\n",
      "TOWED_BY                    77157 non-null object\n",
      "TOWED_TO                    48512 non-null object\n",
      "AREA_00_I                   37343 non-null object\n",
      "AREA_01_I                   246294 non-null object\n",
      "AREA_02_I                   164472 non-null object\n",
      "AREA_03_I                   90373 non-null object\n",
      "AREA_04_I                   95760 non-null object\n",
      "AREA_05_I                   144928 non-null object\n",
      "AREA_06_I                   141939 non-null object\n",
      "AREA_07_I                   121143 non-null object\n",
      "AREA_08_I                   162980 non-null object\n",
      "AREA_09_I                   36444 non-null object\n",
      "AREA_10_I                   52863 non-null object\n",
      "AREA_11_I                   105385 non-null object\n",
      "AREA_12_I                   103570 non-null object\n",
      "AREA_99_I                   99087 non-null object\n",
      "FIRST_CONTACT_POINT         922944 non-null object\n",
      "CMV_ID                      10115 non-null float64\n",
      "USDOT_NO                    5904 non-null object\n",
      "CCMC_NO                     1321 non-null object\n",
      "ILCC_NO                     957 non-null object\n",
      "COMMERCIAL_SRC              7282 non-null object\n",
      "GVWR                        5879 non-null object\n",
      "CARRIER_NAME                9704 non-null object\n",
      "CARRIER_STATE               9175 non-null object\n",
      "CARRIER_CITY                9015 non-null object\n",
      "HAZMAT_PLACARDS_I           208 non-null object\n",
      "HAZMAT_NAME                 39 non-null object\n",
      "UN_NO                       381 non-null object\n",
      "HAZMAT_PRESENT_I            7446 non-null object\n",
      "HAZMAT_REPORT_I             7213 non-null object\n",
      "HAZMAT_REPORT_NO            0 non-null float64\n",
      "MCS_REPORT_I                7263 non-null object\n",
      "MCS_REPORT_NO               5 non-null object\n",
      "HAZMAT_VIO_CAUSE_CRASH_I    7326 non-null object\n",
      "MCS_VIO_CAUSE_CRASH_I       7208 non-null object\n",
      "IDOT_PERMIT_NO              604 non-null object\n",
      "WIDE_LOAD_I                 89 non-null object\n",
      "TRAILER1_WIDTH              2109 non-null object\n",
      "TRAILER2_WIDTH              237 non-null object\n",
      "TRAILER1_LENGTH             1720 non-null float64\n",
      "TRAILER2_LENGTH             47 non-null float64\n",
      "TOTAL_VEHICLE_LENGTH        2081 non-null float64\n",
      "AXLE_CNT                    2963 non-null float64\n",
      "VEHICLE_CONFIG              8432 non-null object\n",
      "CARGO_BODY_TYPE             8071 non-null object\n",
      "LOAD_TYPE                   7730 non-null object\n",
      "HAZMAT_OUT_OF_SERVICE_I     7003 non-null object\n",
      "MCS_OUT_OF_SERVICE_I        7197 non-null object\n",
      "HAZMAT_CLASS                698 non-null object\n",
      "dtypes: float64(10), int64(2), object(60)\n",
      "memory usage: 522.4+ MB\n"
     ]
    }
   ],
   "source": [
    "vehicles.info()"
   ]
  },
  {
   "cell_type": "markdown",
   "metadata": {},
   "source": [
    "There are a lot of features here, it might be easier to pick out relevant features which we think may have explanatory value."
   ]
  },
  {
   "cell_type": "code",
   "execution_count": 24,
   "metadata": {},
   "outputs": [],
   "source": [
    "vehicles_col_incl = ['CRASH_RECORD_ID', # remember to include the key to join with the crash dataset\n",
    "                     'NUM_PASSENGERS',\n",
    "                     'MAKE',\n",
    "                     'MODEL',\n",
    "                     'LIC_PLATE_STATE',\n",
    "                     'VEHICLE_YEAR',\n",
    "                     'VEHICLE_DEFECT',\n",
    "                     'VEHICLE_TYPE', \n",
    "                     'VEHICLE_USE',  \n",
    "                     'TRAVEL_DIRECTION',\n",
    "                     'MANEUVER',\n",
    "                     'EXCEED_SPEED_LIMIT_I'\n",
    "                    ]\n",
    "\n",
    "vehicles_df = vehicles[vehicles_col_incl] # we want to join vehicles_df to crash_df"
   ]
  },
  {
   "cell_type": "code",
   "execution_count": 25,
   "metadata": {},
   "outputs": [
    {
     "name": "stdout",
     "output_type": "stream",
     "text": [
      "<class 'pandas.core.frame.DataFrame'>\n",
      "RangeIndex: 950955 entries, 0 to 950954\n",
      "Data columns (total 12 columns):\n",
      "CRASH_RECORD_ID         950955 non-null object\n",
      "NUM_PASSENGERS          142939 non-null float64\n",
      "MAKE                    928750 non-null object\n",
      "MODEL                   928608 non-null object\n",
      "LIC_PLATE_STATE         850815 non-null object\n",
      "VEHICLE_YEAR            779056 non-null float64\n",
      "VEHICLE_DEFECT          928755 non-null object\n",
      "VEHICLE_TYPE            928755 non-null object\n",
      "VEHICLE_USE             928755 non-null object\n",
      "TRAVEL_DIRECTION        928755 non-null object\n",
      "MANEUVER                928755 non-null object\n",
      "EXCEED_SPEED_LIMIT_I    2387 non-null object\n",
      "dtypes: float64(2), object(10)\n",
      "memory usage: 87.1+ MB\n"
     ]
    }
   ],
   "source": [
    "vehicles_df.info()"
   ]
  },
  {
   "cell_type": "code",
   "execution_count": 26,
   "metadata": {},
   "outputs": [
    {
     "data": {
      "text/plain": [
       "CRASH_RECORD_ID         False\n",
       "NUM_PASSENGERS           True\n",
       "MAKE                     True\n",
       "MODEL                    True\n",
       "LIC_PLATE_STATE          True\n",
       "VEHICLE_YEAR             True\n",
       "VEHICLE_DEFECT           True\n",
       "VEHICLE_TYPE             True\n",
       "VEHICLE_USE              True\n",
       "TRAVEL_DIRECTION         True\n",
       "MANEUVER                 True\n",
       "EXCEED_SPEED_LIMIT_I     True\n",
       "dtype: bool"
      ]
     },
     "execution_count": 26,
     "metadata": {},
     "output_type": "execute_result"
    }
   ],
   "source": [
    "vehicles_df.isna().any()"
   ]
  },
  {
   "cell_type": "markdown",
   "metadata": {},
   "source": [
    "To reduce the size of the vehicle database we have to work with, let's list all the crash record IDs from crash_df and cross reference it with vehicles_df so that only vehicles which relate to the crashes we are investigating are in vehicles_df."
   ]
  },
  {
   "cell_type": "code",
   "execution_count": 27,
   "metadata": {},
   "outputs": [
    {
     "data": {
      "text/plain": [
       "269476"
      ]
     },
     "execution_count": 27,
     "metadata": {},
     "output_type": "execute_result"
    }
   ],
   "source": [
    "crash_ID_list = list(crash_df['CRASH_RECORD_ID'])\n",
    "len(crash_ID_list)"
   ]
  },
  {
   "cell_type": "code",
   "execution_count": 28,
   "metadata": {},
   "outputs": [],
   "source": [
    "vehicles_df = vehicles_df.loc[vehicles_df['CRASH_RECORD_ID'].isin(crash_ID_list)]"
   ]
  },
  {
   "cell_type": "code",
   "execution_count": 29,
   "metadata": {},
   "outputs": [
    {
     "name": "stdout",
     "output_type": "stream",
     "text": [
      "<class 'pandas.core.frame.DataFrame'>\n",
      "Int64Index: 554856 entries, 4 to 950952\n",
      "Data columns (total 12 columns):\n",
      "CRASH_RECORD_ID         554856 non-null object\n",
      "NUM_PASSENGERS          95603 non-null float64\n",
      "MAKE                    542188 non-null object\n",
      "MODEL                   542103 non-null object\n",
      "LIC_PLATE_STATE         507207 non-null object\n",
      "VEHICLE_YEAR            478924 non-null float64\n",
      "VEHICLE_DEFECT          542192 non-null object\n",
      "VEHICLE_TYPE            542192 non-null object\n",
      "VEHICLE_USE             542192 non-null object\n",
      "TRAVEL_DIRECTION        542192 non-null object\n",
      "MANEUVER                542192 non-null object\n",
      "EXCEED_SPEED_LIMIT_I    2144 non-null object\n",
      "dtypes: float64(2), object(10)\n",
      "memory usage: 55.0+ MB\n"
     ]
    }
   ],
   "source": [
    "vehicles_df.info()"
   ]
  },
  {
   "cell_type": "markdown",
   "metadata": {},
   "source": [
    "Whilst we are investigating 144,436 crashes, there are usually multiple vehicles involved in the same crash (and hence with the same crash record ID), this gives rise to a number of relevant vehicles which are in excess of 144,436."
   ]
  },
  {
   "cell_type": "code",
   "execution_count": 31,
   "metadata": {},
   "outputs": [],
   "source": [
    "crash_plus_vehicles = pd.merge(crash_df,vehicles_df, on='CRASH_RECORD_ID')"
   ]
  },
  {
   "cell_type": "code",
   "execution_count": 32,
   "metadata": {},
   "outputs": [
    {
     "name": "stdout",
     "output_type": "stream",
     "text": [
      "<class 'pandas.core.frame.DataFrame'>\n",
      "Int64Index: 554856 entries, 0 to 554855\n",
      "Data columns (total 27 columns):\n",
      "CRASH_RECORD_ID           554856 non-null object\n",
      "POSTED_SPEED_LIMIT        554856 non-null int64\n",
      "TRAFFIC_CONTROL_DEVICE    554856 non-null object\n",
      "WEATHER_CONDITION         554856 non-null object\n",
      "LIGHTING_CONDITION        554856 non-null object\n",
      "FIRST_CRASH_TYPE          554856 non-null object\n",
      "TRAFFICWAY_TYPE           554856 non-null object\n",
      "ALIGNMENT                 554856 non-null object\n",
      "ROADWAY_SURFACE_COND      554856 non-null object\n",
      "ROAD_DEFECT               554856 non-null object\n",
      "NUM_UNITS                 554856 non-null int64\n",
      "CRASH_HOUR                554856 non-null int64\n",
      "CRASH_DAY_OF_WEEK         554856 non-null int64\n",
      "CRASH_MONTH               554856 non-null int64\n",
      "DRIVER_ERROR              554856 non-null object\n",
      "VEHICLE_DEFECT_x          554856 non-null object\n",
      "NUM_PASSENGERS            95603 non-null float64\n",
      "MAKE                      542188 non-null object\n",
      "MODEL                     542103 non-null object\n",
      "LIC_PLATE_STATE           507207 non-null object\n",
      "VEHICLE_YEAR              478924 non-null float64\n",
      "VEHICLE_DEFECT_y          542192 non-null object\n",
      "VEHICLE_TYPE              542192 non-null object\n",
      "VEHICLE_USE               542192 non-null object\n",
      "TRAVEL_DIRECTION          542192 non-null object\n",
      "MANEUVER                  542192 non-null object\n",
      "EXCEED_SPEED_LIMIT_I      2144 non-null object\n",
      "dtypes: float64(2), int64(5), object(20)\n",
      "memory usage: 118.5+ MB\n"
     ]
    }
   ],
   "source": [
    "crash_plus_vehicles.info()"
   ]
  },
  {
   "cell_type": "code",
   "execution_count": null,
   "metadata": {},
   "outputs": [],
   "source": [
    "test = crash_plus_vehicles[['MAKE','MODEL','PRIM_CONTRIBUTORY_CAUSE']]\n",
    "test.dropna(axis=0, how='any', inplace=True)\n",
    "test = test[test['MAKE'] != 'UNKNOWN']\n",
    "test = test[test['MODEL'] != 'UNKNOWN']"
   ]
  },
  {
   "cell_type": "code",
   "execution_count": null,
   "metadata": {},
   "outputs": [],
   "source": [
    "target = test['PRIM_CONTRIBUTORY_CAUSE']\n",
    "data = pd.get_dummies(test.drop('PRIM_CONTRIBUTORY_CAUSE',axis=1))"
   ]
  },
  {
   "cell_type": "code",
   "execution_count": null,
   "metadata": {},
   "outputs": [],
   "source": [
    "X_train, X_test, y_train, y_test = train_test_split(data, target, test_size=0.25, random_state=42)"
   ]
  },
  {
   "cell_type": "code",
   "execution_count": null,
   "metadata": {},
   "outputs": [],
   "source": [
    "#lazypredict\n",
    "clf=LazyClassifier(verbose=0,ignore_warnings=True,custom_metric=None)\n",
    "models, predictions = clf.fit(X_train, X_test, y_train, y_test)\n",
    "models\n"
   ]
  },
  {
   "cell_type": "code",
   "execution_count": null,
   "metadata": {},
   "outputs": [],
   "source": [
    "clf2 = DecisionTreeClassifier(max_depth=4)\n",
    "clf2.fit(X_train,y_train)"
   ]
  },
  {
   "cell_type": "code",
   "execution_count": null,
   "metadata": {},
   "outputs": [],
   "source": [
    "clf2.score(X_test,y_test)"
   ]
  },
  {
   "cell_type": "code",
   "execution_count": null,
   "metadata": {},
   "outputs": [],
   "source": [
    "importances = pd.DataFrame({'feature':X_train.columns,'importance':np.round(clf2.feature_importances_,3)})\n",
    "importances = importances.sort_values('importance',ascending=False)"
   ]
  },
  {
   "cell_type": "code",
   "execution_count": null,
   "metadata": {},
   "outputs": [],
   "source": [
    "importances[:5].plot.bar(x='feature',y='importance');"
   ]
  },
  {
   "cell_type": "markdown",
   "metadata": {},
   "source": [
    "### Exploring and cleaning the people database"
   ]
  },
  {
   "cell_type": "markdown",
   "metadata": {},
   "source": [
    "As before, we will want to prune the database so that only data relating to people involved in the 144,436 accidents which constitute crash_df is included for analysis."
   ]
  },
  {
   "cell_type": "code",
   "execution_count": 33,
   "metadata": {},
   "outputs": [],
   "source": [
    "people_df = people.loc[people['CRASH_RECORD_ID'].isin(crash_ID_list)]"
   ]
  },
  {
   "cell_type": "code",
   "execution_count": 34,
   "metadata": {},
   "outputs": [
    {
     "name": "stdout",
     "output_type": "stream",
     "text": [
      "<class 'pandas.core.frame.DataFrame'>\n",
      "Int64Index: 646817 entries, 1 to 1032308\n",
      "Data columns (total 30 columns):\n",
      "PERSON_ID                646817 non-null object\n",
      "PERSON_TYPE              646817 non-null object\n",
      "CRASH_RECORD_ID          646817 non-null object\n",
      "RD_NO                    642595 non-null object\n",
      "VEHICLE_ID               635076 non-null float64\n",
      "CRASH_DATE               646817 non-null object\n",
      "SEAT_NO                  142606 non-null float64\n",
      "CITY                     515069 non-null object\n",
      "STATE                    520909 non-null object\n",
      "ZIPCODE                  475959 non-null object\n",
      "SEX                      636555 non-null object\n",
      "AGE                      498290 non-null float64\n",
      "DRIVERS_LICENSE_STATE    404411 non-null object\n",
      "DRIVERS_LICENSE_CLASS    362056 non-null object\n",
      "SAFETY_EQUIPMENT         645149 non-null object\n",
      "AIRBAG_DEPLOYED          635507 non-null object\n",
      "EJECTION                 639536 non-null object\n",
      "INJURY_CLASSIFICATION    646507 non-null object\n",
      "HOSPITAL                 135795 non-null object\n",
      "EMS_AGENCY               86971 non-null object\n",
      "EMS_RUN_NO               14610 non-null object\n",
      "DRIVER_ACTION            503178 non-null object\n",
      "DRIVER_VISION            503043 non-null object\n",
      "PHYSICAL_CONDITION       503509 non-null object\n",
      "PEDPEDAL_ACTION          11104 non-null object\n",
      "PEDPEDAL_VISIBILITY      11082 non-null object\n",
      "PEDPEDAL_LOCATION        11105 non-null object\n",
      "BAC_RESULT               503741 non-null object\n",
      "BAC_RESULT VALUE         1272 non-null float64\n",
      "CELL_PHONE_USE           965 non-null object\n",
      "dtypes: float64(4), object(26)\n",
      "memory usage: 153.0+ MB\n"
     ]
    }
   ],
   "source": [
    "people_df.info()"
   ]
  },
  {
   "cell_type": "code",
   "execution_count": 36,
   "metadata": {},
   "outputs": [
    {
     "data": {
      "text/plain": [
       "array(['DRIVER', 'PASSENGER', 'PEDESTRIAN', 'BICYCLE',\n",
       "       'NON-CONTACT VEHICLE', 'NON-MOTOR VEHICLE'], dtype=object)"
      ]
     },
     "execution_count": 36,
     "metadata": {},
     "output_type": "execute_result"
    }
   ],
   "source": [
    "people_df.PERSON_TYPE.unique()"
   ]
  },
  {
   "cell_type": "code",
   "execution_count": 37,
   "metadata": {},
   "outputs": [
    {
     "data": {
      "text/plain": [
       "array(['M', 'X', 'F', nan], dtype=object)"
      ]
     },
     "execution_count": 37,
     "metadata": {},
     "output_type": "execute_result"
    }
   ],
   "source": [
    "people_df.SEX.unique()"
   ]
  },
  {
   "cell_type": "code",
   "execution_count": null,
   "metadata": {},
   "outputs": [],
   "source": []
  }
 ],
 "metadata": {
  "hide_input": false,
  "kernelspec": {
   "display_name": "Python [conda env:learn-env] *",
   "language": "python",
   "name": "conda-env-learn-env-py"
  },
  "language_info": {
   "codemirror_mode": {
    "name": "ipython",
    "version": 3
   },
   "file_extension": ".py",
   "mimetype": "text/x-python",
   "name": "python",
   "nbconvert_exporter": "python",
   "pygments_lexer": "ipython3",
   "version": "3.6.9"
  },
  "toc": {
   "base_numbering": 1,
   "nav_menu": {},
   "number_sections": true,
   "sideBar": true,
   "skip_h1_title": false,
   "title_cell": "Table of Contents",
   "title_sidebar": "Contents",
   "toc_cell": false,
   "toc_position": {},
   "toc_section_display": true,
   "toc_window_display": false
  },
  "varInspector": {
   "cols": {
    "lenName": 16,
    "lenType": 16,
    "lenVar": 40
   },
   "kernels_config": {
    "python": {
     "delete_cmd_postfix": "",
     "delete_cmd_prefix": "del ",
     "library": "var_list.py",
     "varRefreshCmd": "print(var_dic_list())"
    },
    "r": {
     "delete_cmd_postfix": ") ",
     "delete_cmd_prefix": "rm(",
     "library": "var_list.r",
     "varRefreshCmd": "cat(var_dic_list()) "
    }
   },
   "types_to_exclude": [
    "module",
    "function",
    "builtin_function_or_method",
    "instance",
    "_Feature"
   ],
   "window_display": false
  }
 },
 "nbformat": 4,
 "nbformat_minor": 2
}
