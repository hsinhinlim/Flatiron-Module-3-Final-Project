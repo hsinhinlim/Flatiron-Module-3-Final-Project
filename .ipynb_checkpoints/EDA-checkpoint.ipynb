{
 "cells": [
  {
   "cell_type": "markdown",
   "metadata": {},
   "source": [
    "### Import packages and data"
   ]
  },
  {
   "cell_type": "code",
   "execution_count": 107,
   "metadata": {},
   "outputs": [],
   "source": [
    "# import packages\n",
    "import pandas as pd\n",
    "import numpy as np\n",
    "\n",
    "#sklearn\n",
    "from sklearn.model_selection import train_test_split, GridSearchCV\n",
    "from sklearn.ensemble import RandomForestClassifier\n",
    "from sklearn.tree import DecisionTreeClassifier\n",
    "from sklearn import tree\n",
    "from sklearn.feature_selection import SelectFromModel\n",
    "from sklearn.metrics import accuracy_score\n",
    "from sklearn.preprocessing import OneHotEncoder, StandardScaler\n",
    "from sklearn.pipeline import Pipeline\n",
    "\n",
    "#visualisations\n",
    "import seaborn as sns\n",
    "import matplotlib.pyplot as plt\n",
    "\n",
    "#lazypredict\n",
    "import lazypredict\n",
    "from lazypredict.Supervised import LazyClassifier\n",
    "\n",
    "#mapping\n",
    "import folium\n",
    "from folium import FeatureGroup, plugins, LayerControl\n",
    "import geojson\n",
    "import geopandas as gpd\n",
    "import descartes\n",
    "from shapely.geometry import Point, Polygon"
   ]
  },
  {
   "cell_type": "code",
   "execution_count": 2,
   "metadata": {},
   "outputs": [],
   "source": [
    "# import data, which was as of 31 December 2020\n",
    "crash = pd.read_csv('Traffic_Crashes_-_Crashes.csv')\n",
    "vehicles = pd.read_csv('Traffic_Crashes_-_Vehicles.csv')\n",
    "people = pd.read_csv('Traffic_Crashes_-_People.csv')"
   ]
  },
  {
   "cell_type": "markdown",
   "metadata": {},
   "source": [
    "### Exploring and cleaning the crash data"
   ]
  },
  {
   "cell_type": "markdown",
   "metadata": {},
   "source": [
    "The objective of the section is to:\n",
    "\n",
    "1) identify the target categories required and prune the crash dataset such that only crashes which have a primary contributory cause that match any one of the target categories are analysed\n",
    "\n",
    "2) review each column in the crash data, and identify which columns relate to data which have explanatory value in terms of causation and data which are administrative in nature (ie relating to the outcome of the crash, its location, ID numbers); and\n",
    "\n",
    "3) identify which columns from the dataframe derived from 2) above contain null values, investigate those columns and determine whether they can be removed.\n",
    "\n",
    "The intention is to produce a dataframe ('crash_df') which can then be merged with the other databases relating to vehicles and people. We will then proceed to model this merged dataset."
   ]
  },
  {
   "cell_type": "code",
   "execution_count": 3,
   "metadata": {},
   "outputs": [
    {
     "name": "stdout",
     "output_type": "stream",
     "text": [
      "<class 'pandas.core.frame.DataFrame'>\n",
      "RangeIndex: 466056 entries, 0 to 466055\n",
      "Data columns (total 49 columns):\n",
      "CRASH_RECORD_ID                  466056 non-null object\n",
      "RD_NO                            462813 non-null object\n",
      "CRASH_DATE_EST_I                 34732 non-null object\n",
      "CRASH_DATE                       466056 non-null object\n",
      "POSTED_SPEED_LIMIT               466056 non-null int64\n",
      "TRAFFIC_CONTROL_DEVICE           466056 non-null object\n",
      "DEVICE_CONDITION                 466056 non-null object\n",
      "WEATHER_CONDITION                466056 non-null object\n",
      "LIGHTING_CONDITION               466056 non-null object\n",
      "FIRST_CRASH_TYPE                 466056 non-null object\n",
      "TRAFFICWAY_TYPE                  466056 non-null object\n",
      "LANE_CNT                         198960 non-null float64\n",
      "ALIGNMENT                        466056 non-null object\n",
      "ROADWAY_SURFACE_COND             466056 non-null object\n",
      "ROAD_DEFECT                      466056 non-null object\n",
      "REPORT_TYPE                      454866 non-null object\n",
      "CRASH_TYPE                       466056 non-null object\n",
      "INTERSECTION_RELATED_I           105253 non-null object\n",
      "NOT_RIGHT_OF_WAY_I               21841 non-null object\n",
      "HIT_AND_RUN_I                    135786 non-null object\n",
      "DAMAGE                           466056 non-null object\n",
      "DATE_POLICE_NOTIFIED             466056 non-null object\n",
      "PRIM_CONTRIBUTORY_CAUSE          466056 non-null object\n",
      "SEC_CONTRIBUTORY_CAUSE           466056 non-null object\n",
      "STREET_NO                        466056 non-null int64\n",
      "STREET_DIRECTION                 466053 non-null object\n",
      "STREET_NAME                      466055 non-null object\n",
      "BEAT_OF_OCCURRENCE               466051 non-null float64\n",
      "PHOTOS_TAKEN_I                   5875 non-null object\n",
      "STATEMENTS_TAKEN_I               9363 non-null object\n",
      "DOORING_I                        1526 non-null object\n",
      "WORK_ZONE_I                      3071 non-null object\n",
      "WORK_ZONE_TYPE                   2428 non-null object\n",
      "WORKERS_PRESENT_I                733 non-null object\n",
      "NUM_UNITS                        466056 non-null int64\n",
      "MOST_SEVERE_INJURY               465113 non-null object\n",
      "INJURIES_TOTAL                   465124 non-null float64\n",
      "INJURIES_FATAL                   465124 non-null float64\n",
      "INJURIES_INCAPACITATING          465124 non-null float64\n",
      "INJURIES_NON_INCAPACITATING      465124 non-null float64\n",
      "INJURIES_REPORTED_NOT_EVIDENT    465124 non-null float64\n",
      "INJURIES_NO_INDICATION           465124 non-null float64\n",
      "INJURIES_UNKNOWN                 465124 non-null float64\n",
      "CRASH_HOUR                       466056 non-null int64\n",
      "CRASH_DAY_OF_WEEK                466056 non-null int64\n",
      "CRASH_MONTH                      466056 non-null int64\n",
      "LATITUDE                         463510 non-null float64\n",
      "LONGITUDE                        463510 non-null float64\n",
      "LOCATION                         463510 non-null object\n",
      "dtypes: float64(11), int64(6), object(32)\n",
      "memory usage: 174.2+ MB\n"
     ]
    }
   ],
   "source": [
    "crash.info()"
   ]
  },
  {
   "cell_type": "code",
   "execution_count": 4,
   "metadata": {},
   "outputs": [
    {
     "data": {
      "text/plain": [
       "UNABLE TO DETERMINE                                                                 171500\n",
       "FAILING TO YIELD RIGHT-OF-WAY                                                        51661\n",
       "FOLLOWING TOO CLOSELY                                                                50013\n",
       "NOT APPLICABLE                                                                       25080\n",
       "IMPROPER OVERTAKING/PASSING                                                          22240\n",
       "IMPROPER BACKING                                                                     20522\n",
       "FAILING TO REDUCE SPEED TO AVOID CRASH                                               20058\n",
       "IMPROPER LANE USAGE                                                                  18236\n",
       "IMPROPER TURNING/NO SIGNAL                                                           15577\n",
       "DRIVING SKILLS/KNOWLEDGE/EXPERIENCE                                                  14539\n",
       "DISREGARDING TRAFFIC SIGNALS                                                          8408\n",
       "WEATHER                                                                               7303\n",
       "OPERATING VEHICLE IN ERRATIC, RECKLESS, CARELESS, NEGLIGENT OR AGGRESSIVE MANNER      5776\n",
       "DISREGARDING STOP SIGN                                                                5162\n",
       "DISTRACTION - FROM INSIDE VEHICLE                                                     3428\n",
       "EQUIPMENT - VEHICLE CONDITION                                                         2888\n",
       "VISION OBSCURED (SIGNS, TREE LIMBS, BUILDINGS, ETC.)                                  2729\n",
       "PHYSICAL CONDITION OF DRIVER                                                          2725\n",
       "UNDER THE INFLUENCE OF ALCOHOL/DRUGS (USE WHEN ARREST IS EFFECTED)                    2468\n",
       "DRIVING ON WRONG SIDE/WRONG WAY                                                       2176\n",
       "DISTRACTION - FROM OUTSIDE VEHICLE                                                    2078\n",
       "EXCEEDING AUTHORIZED SPEED LIMIT                                                      1982\n",
       "EXCEEDING SAFE SPEED FOR CONDITIONS                                                   1684\n",
       "ROAD ENGINEERING/SURFACE/MARKING DEFECTS                                              1344\n",
       "ROAD CONSTRUCTION/MAINTENANCE                                                         1149\n",
       "DISREGARDING OTHER TRAFFIC SIGNS                                                       985\n",
       "EVASIVE ACTION DUE TO ANIMAL, OBJECT, NONMOTORIST                                      862\n",
       "CELL PHONE USE OTHER THAN TEXTING                                                      660\n",
       "DISREGARDING ROAD MARKINGS                                                             642\n",
       "HAD BEEN DRINKING (USE WHEN ARREST IS NOT MADE)                                        521\n",
       "ANIMAL                                                                                 402\n",
       "TURNING RIGHT ON RED                                                                   323\n",
       "DISTRACTION - OTHER ELECTRONIC DEVICE (NAVIGATION DEVICE, DVD PLAYER, ETC.)            227\n",
       "TEXTING                                                                                207\n",
       "DISREGARDING YIELD SIGN                                                                178\n",
       "RELATED TO BUS STOP                                                                    150\n",
       "BICYCLE ADVANCING LEGALLY ON RED LIGHT                                                  64\n",
       "PASSING STOPPED SCHOOL BUS                                                              61\n",
       "OBSTRUCTED CROSSWALKS                                                                   29\n",
       "MOTORCYCLE ADVANCING LEGALLY ON RED LIGHT                                               19\n",
       "Name: PRIM_CONTRIBUTORY_CAUSE, dtype: int64"
      ]
     },
     "execution_count": 4,
     "metadata": {},
     "output_type": "execute_result"
    }
   ],
   "source": [
    "# these are the lists of primary contributory causes for which one has to predict, ie the target.\n",
    "\n",
    "causes =pd.Series(crash.PRIM_CONTRIBUTORY_CAUSE.value_counts())\n",
    "causes"
   ]
  },
  {
   "cell_type": "code",
   "execution_count": 5,
   "metadata": {},
   "outputs": [
    {
     "data": {
      "text/plain": [
       "FAILING TO YIELD RIGHT-OF-WAY    51661\n",
       "FOLLOWING TOO CLOSELY            50013\n",
       "IMPROPER OVERTAKING/PASSING      22240\n",
       "IMPROPER BACKING                 20522\n",
       "Name: PRIM_CONTRIBUTORY_CAUSE, dtype: int64"
      ]
     },
     "execution_count": 5,
     "metadata": {},
     "output_type": "execute_result"
    }
   ],
   "source": [
    "# the goal here is to select a number of target categories from this list\n",
    "# need to drop UNABLE TO DETERMINE and NOT APPLICABLE from consideration that accounts for nearly half of the database\n",
    "\n",
    "# we should start pruning the database by first determining the target categories\n",
    "target_cat = ['FAILING TO YIELD RIGHT-OF-WAY','FOLLOWING TOO CLOSELY','IMPROPER OVERTAKING/PASSING','IMPROPER BACKING']\n",
    "\n",
    "# we can then select only crashes in the target categories into a dataframe crash_df  \n",
    "crash_df = crash.loc[crash['PRIM_CONTRIBUTORY_CAUSE'].isin(target_cat)]\n",
    "crash_df['PRIM_CONTRIBUTORY_CAUSE'].value_counts()"
   ]
  },
  {
   "cell_type": "code",
   "execution_count": 6,
   "metadata": {},
   "outputs": [
    {
     "data": {
      "text/plain": [
       "'crash_df now contains 144436 observations, the original dataframe had 466056.'"
      ]
     },
     "execution_count": 6,
     "metadata": {},
     "output_type": "execute_result"
    }
   ],
   "source": [
    "f'crash_df now contains {len(crash_df)} observations, the original dataframe had {len(crash)}.'"
   ]
  },
  {
   "cell_type": "code",
   "execution_count": 7,
   "metadata": {},
   "outputs": [
    {
     "name": "stdout",
     "output_type": "stream",
     "text": [
      "<class 'pandas.core.frame.DataFrame'>\n",
      "Int64Index: 144436 entries, 1 to 466055\n",
      "Data columns (total 49 columns):\n",
      "CRASH_RECORD_ID                  144436 non-null object\n",
      "RD_NO                            143589 non-null object\n",
      "CRASH_DATE_EST_I                 7121 non-null object\n",
      "CRASH_DATE                       144436 non-null object\n",
      "POSTED_SPEED_LIMIT               144436 non-null int64\n",
      "TRAFFIC_CONTROL_DEVICE           144436 non-null object\n",
      "DEVICE_CONDITION                 144436 non-null object\n",
      "WEATHER_CONDITION                144436 non-null object\n",
      "LIGHTING_CONDITION               144436 non-null object\n",
      "FIRST_CRASH_TYPE                 144436 non-null object\n",
      "TRAFFICWAY_TYPE                  144436 non-null object\n",
      "LANE_CNT                         65706 non-null float64\n",
      "ALIGNMENT                        144436 non-null object\n",
      "ROADWAY_SURFACE_COND             144436 non-null object\n",
      "ROAD_DEFECT                      144436 non-null object\n",
      "REPORT_TYPE                      141035 non-null object\n",
      "CRASH_TYPE                       144436 non-null object\n",
      "INTERSECTION_RELATED_I           37570 non-null object\n",
      "NOT_RIGHT_OF_WAY_I               5653 non-null object\n",
      "HIT_AND_RUN_I                    30397 non-null object\n",
      "DAMAGE                           144436 non-null object\n",
      "DATE_POLICE_NOTIFIED             144436 non-null object\n",
      "PRIM_CONTRIBUTORY_CAUSE          144436 non-null object\n",
      "SEC_CONTRIBUTORY_CAUSE           144436 non-null object\n",
      "STREET_NO                        144436 non-null int64\n",
      "STREET_DIRECTION                 144435 non-null object\n",
      "STREET_NAME                      144436 non-null object\n",
      "BEAT_OF_OCCURRENCE               144433 non-null float64\n",
      "PHOTOS_TAKEN_I                   1913 non-null object\n",
      "STATEMENTS_TAKEN_I               3103 non-null object\n",
      "DOORING_I                        366 non-null object\n",
      "WORK_ZONE_I                      898 non-null object\n",
      "WORK_ZONE_TYPE                   720 non-null object\n",
      "WORKERS_PRESENT_I                245 non-null object\n",
      "NUM_UNITS                        144436 non-null int64\n",
      "MOST_SEVERE_INJURY               144403 non-null object\n",
      "INJURIES_TOTAL                   144403 non-null float64\n",
      "INJURIES_FATAL                   144403 non-null float64\n",
      "INJURIES_INCAPACITATING          144403 non-null float64\n",
      "INJURIES_NON_INCAPACITATING      144403 non-null float64\n",
      "INJURIES_REPORTED_NOT_EVIDENT    144403 non-null float64\n",
      "INJURIES_NO_INDICATION           144403 non-null float64\n",
      "INJURIES_UNKNOWN                 144403 non-null float64\n",
      "CRASH_HOUR                       144436 non-null int64\n",
      "CRASH_DAY_OF_WEEK                144436 non-null int64\n",
      "CRASH_MONTH                      144436 non-null int64\n",
      "LATITUDE                         143605 non-null float64\n",
      "LONGITUDE                        143605 non-null float64\n",
      "LOCATION                         143605 non-null object\n",
      "dtypes: float64(11), int64(6), object(32)\n",
      "memory usage: 55.1+ MB\n"
     ]
    }
   ],
   "source": [
    "crash_df.info()"
   ]
  },
  {
   "cell_type": "code",
   "execution_count": 8,
   "metadata": {},
   "outputs": [],
   "source": [
    "# let's review the features in crash_df to try and weed out those which are irrelevant\n",
    "# remember, we want to include data that explains the accident, not data which records the outcome of the accident or location\n",
    "# we can separate out the location data and outcome data independently for analysis\n",
    "\n",
    "crash_df_cols = list(crash_df.columns)\n",
    "len(crash_df_cols)\n",
    "\n",
    "# these are the columns we want to drop\n",
    "col_drop = ['RD_NO',\n",
    "            'CRASH_DATE_EST_I',\n",
    "            'DEVICE_CONDITION',\n",
    "            'REPORT_TYPE',\n",
    "            'CRASH_TYPE',\n",
    "            'HIT_AND_RUN_I',\n",
    "            'DAMAGE',\n",
    "            'DATE_POLICE_NOTIFIED',\n",
    "            'STREET_NO',\n",
    "            'STREET_DIRECTION',\n",
    "            'STREET_NAME',\n",
    "            'BEAT_OF_OCCURRENCE',\n",
    "            'PHOTOS_TAKEN_I',\n",
    "            'STATEMENTS_TAKEN_I',\n",
    "            'DOORING_I',\n",
    "            'WORK_ZONE_I',\n",
    "            'WORK_ZONE_TYPE',\n",
    "            'WORKERS_PRESENT_I',\n",
    "            'MOST_SEVERE_INJURY',\n",
    "            'INJURIES_TOTAL',               \n",
    "            'INJURIES_FATAL',                   \n",
    "            'INJURIES_INCAPACITATING',          \n",
    "            'INJURIES_NON_INCAPACITATING',      \n",
    "            'INJURIES_REPORTED_NOT_EVIDENT',    \n",
    "            'INJURIES_NO_INDICATION',           \n",
    "            'INJURIES_UNKNOWN',\n",
    "            'LATITUDE',\n",
    "            'LONGITUDE',\n",
    "            'LOCATION']\n",
    "\n",
    "# trimmed crash_df\n",
    "crash_df = crash_df.drop(col_drop, axis=1)"
   ]
  },
  {
   "cell_type": "code",
   "execution_count": 9,
   "metadata": {},
   "outputs": [
    {
     "data": {
      "text/plain": [
       "CRASH_RECORD_ID            False\n",
       "CRASH_DATE                 False\n",
       "POSTED_SPEED_LIMIT         False\n",
       "TRAFFIC_CONTROL_DEVICE     False\n",
       "WEATHER_CONDITION          False\n",
       "LIGHTING_CONDITION         False\n",
       "FIRST_CRASH_TYPE           False\n",
       "TRAFFICWAY_TYPE            False\n",
       "LANE_CNT                    True\n",
       "ALIGNMENT                  False\n",
       "ROADWAY_SURFACE_COND       False\n",
       "ROAD_DEFECT                False\n",
       "INTERSECTION_RELATED_I      True\n",
       "NOT_RIGHT_OF_WAY_I          True\n",
       "PRIM_CONTRIBUTORY_CAUSE    False\n",
       "SEC_CONTRIBUTORY_CAUSE     False\n",
       "NUM_UNITS                  False\n",
       "CRASH_HOUR                 False\n",
       "CRASH_DAY_OF_WEEK          False\n",
       "CRASH_MONTH                False\n",
       "dtype: bool"
      ]
     },
     "execution_count": 9,
     "metadata": {},
     "output_type": "execute_result"
    }
   ],
   "source": [
    "# where are the null values in this trimmed crash_df?\n",
    "crash_df.isna().any()"
   ]
  },
  {
   "cell_type": "markdown",
   "metadata": {},
   "source": [
    "\"LANE_CNT\" means total number of through lanes in either direction, excluding turn lanes, as determined by reporting officer (0 = intersection)"
   ]
  },
  {
   "cell_type": "code",
   "execution_count": 10,
   "metadata": {},
   "outputs": [
    {
     "data": {
      "text/plain": [
       "2.00         31040\n",
       "4.00         17920\n",
       "1.00          7816\n",
       "3.00          3063\n",
       "0.00          2696\n",
       "6.00          1595\n",
       "5.00           746\n",
       "8.00           616\n",
       "7.00            79\n",
       "10.00           51\n",
       "99.00           28\n",
       "9.00            14\n",
       "12.00            9\n",
       "11.00            8\n",
       "20.00            6\n",
       "22.00            3\n",
       "15.00            3\n",
       "30.00            3\n",
       "16.00            2\n",
       "14.00            2\n",
       "60.00            1\n",
       "433634.00        1\n",
       "41.00            1\n",
       "21.00            1\n",
       "44.00            1\n",
       "28.00            1\n",
       "Name: LANE_CNT, dtype: int64"
      ]
     },
     "execution_count": 10,
     "metadata": {},
     "output_type": "execute_result"
    }
   ],
   "source": [
    "crash_df['LANE_CNT'].value_counts()"
   ]
  },
  {
   "cell_type": "markdown",
   "metadata": {},
   "source": [
    "\"INTERSECTION_RELATED_I\" means a field observation by the police officer whether an intersection played a role in the crash. Does not represent whether or not the crash occurred within the intersection."
   ]
  },
  {
   "cell_type": "code",
   "execution_count": 11,
   "metadata": {},
   "outputs": [
    {
     "data": {
      "text/plain": [
       "Y    35889\n",
       "N     1681\n",
       "Name: INTERSECTION_RELATED_I, dtype: int64"
      ]
     },
     "execution_count": 11,
     "metadata": {},
     "output_type": "execute_result"
    }
   ],
   "source": [
    "crash_df['INTERSECTION_RELATED_I'].value_counts()"
   ]
  },
  {
   "cell_type": "markdown",
   "metadata": {},
   "source": [
    "\"NOT RIGHT OF WAY I\" means whether the crash begun or first contact was made outside of the public right-of-way."
   ]
  },
  {
   "cell_type": "code",
   "execution_count": 12,
   "metadata": {},
   "outputs": [
    {
     "data": {
      "text/plain": [
       "Y    5245\n",
       "N     408\n",
       "Name: NOT_RIGHT_OF_WAY_I, dtype: int64"
      ]
     },
     "execution_count": 12,
     "metadata": {},
     "output_type": "execute_result"
    }
   ],
   "source": [
    "crash_df['NOT_RIGHT_OF_WAY_I'].value_counts()"
   ]
  },
  {
   "cell_type": "markdown",
   "metadata": {},
   "source": [
    "We can therefore afford to drop all 3 columns with null values in them. This will leave a crash_df cleaned of null values."
   ]
  },
  {
   "cell_type": "code",
   "execution_count": 13,
   "metadata": {},
   "outputs": [
    {
     "name": "stdout",
     "output_type": "stream",
     "text": [
      "<class 'pandas.core.frame.DataFrame'>\n",
      "Int64Index: 144436 entries, 1 to 466055\n",
      "Data columns (total 17 columns):\n",
      "CRASH_RECORD_ID            144436 non-null object\n",
      "CRASH_DATE                 144436 non-null object\n",
      "POSTED_SPEED_LIMIT         144436 non-null int64\n",
      "TRAFFIC_CONTROL_DEVICE     144436 non-null object\n",
      "WEATHER_CONDITION          144436 non-null object\n",
      "LIGHTING_CONDITION         144436 non-null object\n",
      "FIRST_CRASH_TYPE           144436 non-null object\n",
      "TRAFFICWAY_TYPE            144436 non-null object\n",
      "ALIGNMENT                  144436 non-null object\n",
      "ROADWAY_SURFACE_COND       144436 non-null object\n",
      "ROAD_DEFECT                144436 non-null object\n",
      "PRIM_CONTRIBUTORY_CAUSE    144436 non-null object\n",
      "SEC_CONTRIBUTORY_CAUSE     144436 non-null object\n",
      "NUM_UNITS                  144436 non-null int64\n",
      "CRASH_HOUR                 144436 non-null int64\n",
      "CRASH_DAY_OF_WEEK          144436 non-null int64\n",
      "CRASH_MONTH                144436 non-null int64\n",
      "dtypes: int64(5), object(12)\n",
      "memory usage: 19.8+ MB\n"
     ]
    }
   ],
   "source": [
    "crash_df = crash_df.drop(['LANE_CNT','INTERSECTION_RELATED_I','NOT_RIGHT_OF_WAY_I'], axis=1)\n",
    "crash_df.info()"
   ]
  },
  {
   "cell_type": "markdown",
   "metadata": {},
   "source": [
    "Thus we are investigating **144,436** crashes."
   ]
  },
  {
   "cell_type": "code",
   "execution_count": 43,
   "metadata": {},
   "outputs": [],
   "source": [
    "# crashes involving cyclists\n",
    "cyclist_crash = crash_df[crash_df['FIRST_CRASH_TYPE']=='PEDALCYCLIST']"
   ]
  },
  {
   "cell_type": "code",
   "execution_count": 48,
   "metadata": {},
   "outputs": [
    {
     "data": {
      "text/plain": [
       "NO CONTROLS                 984\n",
       "TRAFFIC SIGNAL              661\n",
       "STOP SIGN/FLASHER           369\n",
       "UNKNOWN                      40\n",
       "OTHER                        16\n",
       "YIELD                        10\n",
       "LANE USE MARKING              9\n",
       "OTHER WARNING SIGN            3\n",
       "OTHER REG. SIGN               3\n",
       "BICYCLE CROSSING SIGN         2\n",
       "POLICE/FLAGMAN                1\n",
       "PEDESTRIAN CROSSING SIGN      1\n",
       "DELINEATORS                   1\n",
       "Name: TRAFFIC_CONTROL_DEVICE, dtype: int64"
      ]
     },
     "execution_count": 48,
     "metadata": {},
     "output_type": "execute_result"
    }
   ],
   "source": [
    "cyclist_crash['TRAFFIC_CONTROL_DEVICE'].value_counts()"
   ]
  },
  {
   "cell_type": "code",
   "execution_count": 55,
   "metadata": {},
   "outputs": [
    {
     "data": {
      "image/png": "[encoded data removed]",
      "text/plain": [
       "<Figure size 432x288 with 1 Axes>"
      ]
     },
     "metadata": {
      "needs_background": "light"
     },
     "output_type": "display_data"
    }
   ],
   "source": [
    "cyclist_crash['PRIM_CONTRIBUTORY_CAUSE'].value_counts().plot.bar();"
   ]
  },
  {
   "cell_type": "code",
   "execution_count": 59,
   "metadata": {},
   "outputs": [],
   "source": [
    "# injuries_df\n",
    "\n",
    "injuries = crash[['INJURIES_TOTAL',               \n",
    "            'INJURIES_FATAL',                   \n",
    "            'INJURIES_INCAPACITATING',          \n",
    "            'INJURIES_NON_INCAPACITATING',      \n",
    "            'INJURIES_REPORTED_NOT_EVIDENT',    \n",
    "            'INJURIES_NO_INDICATION',           \n",
    "            'INJURIES_UNKNOWN']]"
   ]
  },
  {
   "cell_type": "code",
   "execution_count": 71,
   "metadata": {},
   "outputs": [
    {
     "data": {
      "text/plain": [
       "INJURIES_TOTAL                   True\n",
       "INJURIES_FATAL                   True\n",
       "INJURIES_INCAPACITATING          True\n",
       "INJURIES_NON_INCAPACITATING      True\n",
       "INJURIES_REPORTED_NOT_EVIDENT    True\n",
       "INJURIES_NO_INDICATION           True\n",
       "INJURIES_UNKNOWN                 True\n",
       "dtype: bool"
      ]
     },
     "execution_count": 71,
     "metadata": {},
     "output_type": "execute_result"
    }
   ],
   "source": [
    "injuries.isna().any()"
   ]
  },
  {
   "cell_type": "code",
   "execution_count": 65,
   "metadata": {},
   "outputs": [
    {
     "data": {
      "text/plain": [
       "0.00    465124\n",
       "Name: INJURIES_UNKNOWN, dtype: int64"
      ]
     },
     "execution_count": 65,
     "metadata": {},
     "output_type": "execute_result"
    }
   ],
   "source": [
    "injuries['INJURIES_UNKNOWN'].value_counts()"
   ]
  },
  {
   "cell_type": "code",
   "execution_count": 75,
   "metadata": {},
   "outputs": [
    {
     "data": {
      "text/plain": [
       "<matplotlib.axes._subplots.AxesSubplot at 0x1bff91a0f98>"
      ]
     },
     "execution_count": 75,
     "metadata": {},
     "output_type": "execute_result"
    },
    {
     "data": {
      "image/png": "[encoded data removed]",
      "text/plain": [
       "<Figure size 432x288 with 1 Axes>"
      ]
     },
     "metadata": {
      "needs_background": "light"
     },
     "output_type": "display_data"
    }
   ],
   "source": [
    "# street name\n",
    "crash['STREET_NAME'].value_counts()[:10].plot.bar()"
   ]
  },
  {
   "cell_type": "code",
   "execution_count": 135,
   "metadata": {},
   "outputs": [],
   "source": [
    "fatal = crash[['INJURIES_FATAL','LATITUDE','LONGITUDE']]\n",
    "crs = {'init':'epsg:4326'}\n",
    "geometry = [Point(xy) for xy in zip(fatal['LONGITUDE'],fatal['LATITUDE'])]"
   ]
  },
  {
   "cell_type": "code",
   "execution_count": 97,
   "metadata": {},
   "outputs": [
    {
     "name": "stdout",
     "output_type": "stream",
     "text": [
      "geo_export_ca085062-687c-48db-865f-c728ad6dfe1c.dbf\n",
      "geo_export_ca085062-687c-48db-865f-c728ad6dfe1c.prj\n",
      "geo_export_ca085062-687c-48db-865f-c728ad6dfe1c.shp\n",
      "geo_export_ca085062-687c-48db-865f-c728ad6dfe1c.shx\n"
     ]
    }
   ],
   "source": [
    "import os\n",
    "\n",
    "basepath ='C:/Users/hsin/OneDrive/Desktop/Flatiron Local/Module 3/Project/Flatiron-Module-3-Final-Project/Boundaries'\n",
    "\n",
    "for entry in os.listdir(basepath):\n",
    "    if os.path.isfile(os.path.join(basepath, entry)):\n",
    "        print(entry)"
   ]
  },
  {
   "cell_type": "code",
   "execution_count": 109,
   "metadata": {},
   "outputs": [
    {
     "data": {
      "image/png": "[encoded data removed]",
      "text/plain": [
       "<Figure size 1080x1080 with 1 Axes>"
      ]
     },
     "metadata": {
      "needs_background": "light"
     },
     "output_type": "display_data"
    }
   ],
   "source": [
    "# chicago map\n",
    "chicago_map = gpd.read_file('C:/Users/hsin/OneDrive/Desktop/Flatiron Local/Module 3/Project/Flatiron-Module-3-Final-Project/Boundaries/geo_export_ca085062-687c-48db-865f-c728ad6dfe1c.shp')\n",
    "\n",
    "fig, ax = plt.subplots(figsize=(15,15))\n",
    "chicago_map.plot(ax=ax);"
   ]
  },
  {
   "cell_type": "code",
   "execution_count": 136,
   "metadata": {},
   "outputs": [
    {
     "data": {
      "text/html": [
       "<div>\n",
       "<style scoped>\n",
       "    .dataframe tbody tr th:only-of-type {\n",
       "        vertical-align: middle;\n",
       "    }\n",
       "\n",
       "    .dataframe tbody tr th {\n",
       "        vertical-align: top;\n",
       "    }\n",
       "\n",
       "    .dataframe thead th {\n",
       "        text-align: right;\n",
       "    }\n",
       "</style>\n",
       "<table border=\"1\" class=\"dataframe\">\n",
       "  <thead>\n",
       "    <tr style=\"text-align: right;\">\n",
       "      <th></th>\n",
       "      <th>INJURIES_FATAL</th>\n",
       "      <th>LATITUDE</th>\n",
       "      <th>LONGITUDE</th>\n",
       "      <th>geometry</th>\n",
       "    </tr>\n",
       "  </thead>\n",
       "  <tbody>\n",
       "    <tr>\n",
       "      <td>0</td>\n",
       "      <td>0.00</td>\n",
       "      <td>41.89</td>\n",
       "      <td>-87.72</td>\n",
       "      <td>POINT (-87.72111 41.88723)</td>\n",
       "    </tr>\n",
       "    <tr>\n",
       "      <td>1</td>\n",
       "      <td>0.00</td>\n",
       "      <td>41.92</td>\n",
       "      <td>-87.79</td>\n",
       "      <td>POINT (-87.78528 41.92310)</td>\n",
       "    </tr>\n",
       "    <tr>\n",
       "      <td>2</td>\n",
       "      <td>0.00</td>\n",
       "      <td>41.81</td>\n",
       "      <td>-87.65</td>\n",
       "      <td>POINT (-87.64568 41.80882)</td>\n",
       "    </tr>\n",
       "    <tr>\n",
       "      <td>3</td>\n",
       "      <td>0.00</td>\n",
       "      <td>41.86</td>\n",
       "      <td>-87.72</td>\n",
       "      <td>POINT (-87.71545 41.86232)</td>\n",
       "    </tr>\n",
       "    <tr>\n",
       "      <td>4</td>\n",
       "      <td>0.00</td>\n",
       "      <td>41.89</td>\n",
       "      <td>-87.62</td>\n",
       "      <td>POINT (-87.62083 41.88601)</td>\n",
       "    </tr>\n",
       "    <tr>\n",
       "      <td>...</td>\n",
       "      <td>...</td>\n",
       "      <td>...</td>\n",
       "      <td>...</td>\n",
       "      <td>...</td>\n",
       "    </tr>\n",
       "    <tr>\n",
       "      <td>466051</td>\n",
       "      <td>0.00</td>\n",
       "      <td>41.93</td>\n",
       "      <td>-87.77</td>\n",
       "      <td>POINT (-87.76563 41.93118)</td>\n",
       "    </tr>\n",
       "    <tr>\n",
       "      <td>466052</td>\n",
       "      <td>0.00</td>\n",
       "      <td>41.68</td>\n",
       "      <td>-87.62</td>\n",
       "      <td>POINT (-87.62078 41.68171)</td>\n",
       "    </tr>\n",
       "    <tr>\n",
       "      <td>466053</td>\n",
       "      <td>0.00</td>\n",
       "      <td>41.95</td>\n",
       "      <td>-87.82</td>\n",
       "      <td>POINT (-87.82175 41.94528)</td>\n",
       "    </tr>\n",
       "    <tr>\n",
       "      <td>466054</td>\n",
       "      <td>0.00</td>\n",
       "      <td>41.71</td>\n",
       "      <td>-87.54</td>\n",
       "      <td>POINT (-87.53747 41.71185)</td>\n",
       "    </tr>\n",
       "    <tr>\n",
       "      <td>466055</td>\n",
       "      <td>0.00</td>\n",
       "      <td>41.94</td>\n",
       "      <td>-87.73</td>\n",
       "      <td>POINT (-87.72694 41.93559)</td>\n",
       "    </tr>\n",
       "  </tbody>\n",
       "</table>\n",
       "<p>466056 rows × 4 columns</p>\n",
       "</div>"
      ],
      "text/plain": [
       "        INJURIES_FATAL  LATITUDE  LONGITUDE                    geometry\n",
       "0                 0.00     41.89     -87.72  POINT (-87.72111 41.88723)\n",
       "1                 0.00     41.92     -87.79  POINT (-87.78528 41.92310)\n",
       "2                 0.00     41.81     -87.65  POINT (-87.64568 41.80882)\n",
       "3                 0.00     41.86     -87.72  POINT (-87.71545 41.86232)\n",
       "4                 0.00     41.89     -87.62  POINT (-87.62083 41.88601)\n",
       "...                ...       ...        ...                         ...\n",
       "466051            0.00     41.93     -87.77  POINT (-87.76563 41.93118)\n",
       "466052            0.00     41.68     -87.62  POINT (-87.62078 41.68171)\n",
       "466053            0.00     41.95     -87.82  POINT (-87.82175 41.94528)\n",
       "466054            0.00     41.71     -87.54  POINT (-87.53747 41.71185)\n",
       "466055            0.00     41.94     -87.73  POINT (-87.72694 41.93559)\n",
       "\n",
       "[466056 rows x 4 columns]"
      ]
     },
     "execution_count": 136,
     "metadata": {},
     "output_type": "execute_result"
    }
   ],
   "source": [
    "geo_df = gpd.GeoDataFrame(fatal,crs=crs, geometry=geometry)\n",
    "geo_df"
   ]
  },
  {
   "cell_type": "code",
   "execution_count": 137,
   "metadata": {},
   "outputs": [
    {
     "data": {
      "image/png": "[encoded data removed]",
      "text/plain": [
       "<Figure size 1080x1080 with 1 Axes>"
      ]
     },
     "metadata": {
      "needs_background": "light"
     },
     "output_type": "display_data"
    }
   ],
   "source": [
    "fig, ax = plt.subplots(figsize=(15,15))\n",
    "chicago_map.plot(ax=ax, alpha=0.4, color='grey')\n",
    "geo_df[geo_df['INJURIES_FATAL'] == 1.00].plot(ax=ax, markersize=20, color='red', marker='o', label='One')\n",
    "geo_df[geo_df['INJURIES_FATAL'] == 2.00].plot(ax=ax, markersize=20, color='blue', marker='^', label='Two')\n",
    "plt.legend(prop={'size':15});"
   ]
  },
  {
   "cell_type": "code",
   "execution_count": 14,
   "metadata": {},
   "outputs": [],
   "source": [
    "# consider whether to carve out location data for further analysis"
   ]
  },
  {
   "cell_type": "markdown",
   "metadata": {},
   "source": [
    "### Exploring and cleaning the vehicles dataset"
   ]
  },
  {
   "cell_type": "code",
   "execution_count": 15,
   "metadata": {},
   "outputs": [
    {
     "name": "stdout",
     "output_type": "stream",
     "text": [
      "<class 'pandas.core.frame.DataFrame'>\n",
      "RangeIndex: 950955 entries, 0 to 950954\n",
      "Data columns (total 72 columns):\n",
      "CRASH_UNIT_ID               950955 non-null int64\n",
      "CRASH_RECORD_ID             950955 non-null object\n",
      "RD_NO                       944309 non-null object\n",
      "CRASH_DATE                  950955 non-null object\n",
      "UNIT_NO                     950955 non-null int64\n",
      "UNIT_TYPE                   949530 non-null object\n",
      "NUM_PASSENGERS              142939 non-null float64\n",
      "VEHICLE_ID                  928755 non-null float64\n",
      "CMRC_VEH_I                  17648 non-null object\n",
      "MAKE                        928750 non-null object\n",
      "MODEL                       928608 non-null object\n",
      "LIC_PLATE_STATE             850815 non-null object\n",
      "VEHICLE_YEAR                779056 non-null float64\n",
      "VEHICLE_DEFECT              928755 non-null object\n",
      "VEHICLE_TYPE                928755 non-null object\n",
      "VEHICLE_USE                 928755 non-null object\n",
      "TRAVEL_DIRECTION            928755 non-null object\n",
      "MANEUVER                    928755 non-null object\n",
      "TOWED_I                     105850 non-null object\n",
      "FIRE_I                      674 non-null object\n",
      "OCCUPANT_CNT                928755 non-null float64\n",
      "EXCEED_SPEED_LIMIT_I        2387 non-null object\n",
      "TOWED_BY                    77157 non-null object\n",
      "TOWED_TO                    48512 non-null object\n",
      "AREA_00_I                   37343 non-null object\n",
      "AREA_01_I                   246294 non-null object\n",
      "AREA_02_I                   164472 non-null object\n",
      "AREA_03_I                   90373 non-null object\n",
      "AREA_04_I                   95760 non-null object\n",
      "AREA_05_I                   144928 non-null object\n",
      "AREA_06_I                   141939 non-null object\n",
      "AREA_07_I                   121143 non-null object\n",
      "AREA_08_I                   162980 non-null object\n",
      "AREA_09_I                   36444 non-null object\n",
      "AREA_10_I                   52863 non-null object\n",
      "AREA_11_I                   105385 non-null object\n",
      "AREA_12_I                   103570 non-null object\n",
      "AREA_99_I                   99087 non-null object\n",
      "FIRST_CONTACT_POINT         922944 non-null object\n",
      "CMV_ID                      10115 non-null float64\n",
      "USDOT_NO                    5904 non-null object\n",
      "CCMC_NO                     1321 non-null object\n",
      "ILCC_NO                     957 non-null object\n",
      "COMMERCIAL_SRC              7282 non-null object\n",
      "GVWR                        5879 non-null object\n",
      "CARRIER_NAME                9704 non-null object\n",
      "CARRIER_STATE               9175 non-null object\n",
      "CARRIER_CITY                9015 non-null object\n",
      "HAZMAT_PLACARDS_I           208 non-null object\n",
      "HAZMAT_NAME                 39 non-null object\n",
      "UN_NO                       381 non-null object\n",
      "HAZMAT_PRESENT_I            7446 non-null object\n",
      "HAZMAT_REPORT_I             7213 non-null object\n",
      "HAZMAT_REPORT_NO            0 non-null float64\n",
      "MCS_REPORT_I                7263 non-null object\n",
      "MCS_REPORT_NO               5 non-null object\n",
      "HAZMAT_VIO_CAUSE_CRASH_I    7326 non-null object\n",
      "MCS_VIO_CAUSE_CRASH_I       7208 non-null object\n",
      "IDOT_PERMIT_NO              604 non-null object\n",
      "WIDE_LOAD_I                 89 non-null object\n",
      "TRAILER1_WIDTH              2109 non-null object\n",
      "TRAILER2_WIDTH              237 non-null object\n",
      "TRAILER1_LENGTH             1720 non-null float64\n",
      "TRAILER2_LENGTH             47 non-null float64\n",
      "TOTAL_VEHICLE_LENGTH        2081 non-null float64\n",
      "AXLE_CNT                    2963 non-null float64\n",
      "VEHICLE_CONFIG              8432 non-null object\n",
      "CARGO_BODY_TYPE             8071 non-null object\n",
      "LOAD_TYPE                   7730 non-null object\n",
      "HAZMAT_OUT_OF_SERVICE_I     7003 non-null object\n",
      "MCS_OUT_OF_SERVICE_I        7197 non-null object\n",
      "HAZMAT_CLASS                698 non-null object\n",
      "dtypes: float64(10), int64(2), object(60)\n",
      "memory usage: 522.4+ MB\n"
     ]
    }
   ],
   "source": [
    "vehicles.info()"
   ]
  },
  {
   "cell_type": "markdown",
   "metadata": {},
   "source": [
    "There are a lot of features here, it might be easier to pick out relevant features which we think may have explanatory value."
   ]
  },
  {
   "cell_type": "code",
   "execution_count": 16,
   "metadata": {},
   "outputs": [],
   "source": [
    "vehicles_col_incl = ['CRASH_RECORD_ID', # remember to include the key to join with the crash dataset\n",
    "                     'NUM_PASSENGERS',\n",
    "                     'MAKE',\n",
    "                     'MODEL',\n",
    "                     'LIC_PLATE_STATE',\n",
    "                     'VEHICLE_YEAR',\n",
    "                     'VEHICLE_DEFECT',\n",
    "                     'VEHICLE_TYPE', \n",
    "                     'VEHICLE_USE',  \n",
    "                     'TRAVEL_DIRECTION',\n",
    "                     'MANEUVER',\n",
    "                     'EXCEED_SPEED_LIMIT_I'\n",
    "                    ]\n",
    "\n",
    "vehicles_df = vehicles[vehicles_col_incl] # we want to join vehicles_df to crash_df"
   ]
  },
  {
   "cell_type": "code",
   "execution_count": 17,
   "metadata": {},
   "outputs": [
    {
     "name": "stdout",
     "output_type": "stream",
     "text": [
      "<class 'pandas.core.frame.DataFrame'>\n",
      "RangeIndex: 950955 entries, 0 to 950954\n",
      "Data columns (total 12 columns):\n",
      "CRASH_RECORD_ID         950955 non-null object\n",
      "NUM_PASSENGERS          142939 non-null float64\n",
      "MAKE                    928750 non-null object\n",
      "MODEL                   928608 non-null object\n",
      "LIC_PLATE_STATE         850815 non-null object\n",
      "VEHICLE_YEAR            779056 non-null float64\n",
      "VEHICLE_DEFECT          928755 non-null object\n",
      "VEHICLE_TYPE            928755 non-null object\n",
      "VEHICLE_USE             928755 non-null object\n",
      "TRAVEL_DIRECTION        928755 non-null object\n",
      "MANEUVER                928755 non-null object\n",
      "EXCEED_SPEED_LIMIT_I    2387 non-null object\n",
      "dtypes: float64(2), object(10)\n",
      "memory usage: 87.1+ MB\n"
     ]
    }
   ],
   "source": [
    "vehicles_df.info()"
   ]
  },
  {
   "cell_type": "code",
   "execution_count": 18,
   "metadata": {},
   "outputs": [
    {
     "data": {
      "text/plain": [
       "CRASH_RECORD_ID         False\n",
       "NUM_PASSENGERS           True\n",
       "MAKE                     True\n",
       "MODEL                    True\n",
       "LIC_PLATE_STATE          True\n",
       "VEHICLE_YEAR             True\n",
       "VEHICLE_DEFECT           True\n",
       "VEHICLE_TYPE             True\n",
       "VEHICLE_USE              True\n",
       "TRAVEL_DIRECTION         True\n",
       "MANEUVER                 True\n",
       "EXCEED_SPEED_LIMIT_I     True\n",
       "dtype: bool"
      ]
     },
     "execution_count": 18,
     "metadata": {},
     "output_type": "execute_result"
    }
   ],
   "source": [
    "vehicles_df.isna().any()"
   ]
  },
  {
   "cell_type": "markdown",
   "metadata": {},
   "source": [
    "To reduce the size of the vehicle database we have to work with, let's list all the crash record IDs from crash_df and cross reference it with vehicles_df so that only vehicles which relate to the crashes we are investigating are in vehicles_df."
   ]
  },
  {
   "cell_type": "code",
   "execution_count": 19,
   "metadata": {},
   "outputs": [
    {
     "data": {
      "text/plain": [
       "144436"
      ]
     },
     "execution_count": 19,
     "metadata": {},
     "output_type": "execute_result"
    }
   ],
   "source": [
    "crash_ID_list = list(crash_df['CRASH_RECORD_ID'])\n",
    "len(crash_ID_list)"
   ]
  },
  {
   "cell_type": "code",
   "execution_count": 20,
   "metadata": {},
   "outputs": [],
   "source": [
    "vehicles_df = vehicles_df.loc[vehicles_df['CRASH_RECORD_ID'].isin(crash_ID_list)]"
   ]
  },
  {
   "cell_type": "code",
   "execution_count": 21,
   "metadata": {},
   "outputs": [
    {
     "name": "stdout",
     "output_type": "stream",
     "text": [
      "<class 'pandas.core.frame.DataFrame'>\n",
      "Int64Index: 297848 entries, 4 to 950941\n",
      "Data columns (total 12 columns):\n",
      "CRASH_RECORD_ID         297848 non-null object\n",
      "NUM_PASSENGERS          50119 non-null float64\n",
      "MAKE                    291217 non-null object\n",
      "MODEL                   291173 non-null object\n",
      "LIC_PLATE_STATE         272543 non-null object\n",
      "VEHICLE_YEAR            257165 non-null float64\n",
      "VEHICLE_DEFECT          291220 non-null object\n",
      "VEHICLE_TYPE            291220 non-null object\n",
      "VEHICLE_USE             291220 non-null object\n",
      "TRAVEL_DIRECTION        291220 non-null object\n",
      "MANEUVER                291220 non-null object\n",
      "EXCEED_SPEED_LIMIT_I    355 non-null object\n",
      "dtypes: float64(2), object(10)\n",
      "memory usage: 29.5+ MB\n"
     ]
    }
   ],
   "source": [
    "vehicles_df.info()"
   ]
  },
  {
   "cell_type": "code",
   "execution_count": 22,
   "metadata": {},
   "outputs": [
    {
     "data": {
      "text/plain": [
       "1.00     35353\n",
       "2.00      9296\n",
       "3.00      3708\n",
       "4.00      1193\n",
       "5.00       302\n",
       "6.00       115\n",
       "7.00        43\n",
       "8.00        19\n",
       "9.00        13\n",
       "10.00       13\n",
       "11.00       11\n",
       "12.00        9\n",
       "14.00        6\n",
       "19.00        5\n",
       "13.00        4\n",
       "15.00        4\n",
       "17.00        3\n",
       "18.00        3\n",
       "16.00        2\n",
       "25.00        2\n",
       "29.00        2\n",
       "43.00        1\n",
       "42.00        1\n",
       "23.00        1\n",
       "32.00        1\n",
       "21.00        1\n",
       "28.00        1\n",
       "38.00        1\n",
       "36.00        1\n",
       "20.00        1\n",
       "27.00        1\n",
       "26.00        1\n",
       "40.00        1\n",
       "24.00        1\n",
       "Name: NUM_PASSENGERS, dtype: int64"
      ]
     },
     "execution_count": 22,
     "metadata": {},
     "output_type": "execute_result"
    }
   ],
   "source": [
    "vehicles_df['NUM_PASSENGERS'].value_counts()"
   ]
  },
  {
   "cell_type": "markdown",
   "metadata": {},
   "source": [
    "Whilst we are investigating 144,436 crashes, there are usually multiple vehicles involved in the same crash (and hence with the same crash record ID), this gives rise to a number of relevant vehicles which are in excess of 144,436."
   ]
  },
  {
   "cell_type": "code",
   "execution_count": 23,
   "metadata": {},
   "outputs": [],
   "source": [
    "crash_plus_vehicles = pd.merge(crash_df,vehicles_df, on='CRASH_RECORD_ID')"
   ]
  },
  {
   "cell_type": "code",
   "execution_count": 24,
   "metadata": {},
   "outputs": [
    {
     "name": "stdout",
     "output_type": "stream",
     "text": [
      "<class 'pandas.core.frame.DataFrame'>\n",
      "Int64Index: 297848 entries, 0 to 297847\n",
      "Data columns (total 28 columns):\n",
      "CRASH_RECORD_ID            297848 non-null object\n",
      "CRASH_DATE                 297848 non-null object\n",
      "POSTED_SPEED_LIMIT         297848 non-null int64\n",
      "TRAFFIC_CONTROL_DEVICE     297848 non-null object\n",
      "WEATHER_CONDITION          297848 non-null object\n",
      "LIGHTING_CONDITION         297848 non-null object\n",
      "FIRST_CRASH_TYPE           297848 non-null object\n",
      "TRAFFICWAY_TYPE            297848 non-null object\n",
      "ALIGNMENT                  297848 non-null object\n",
      "ROADWAY_SURFACE_COND       297848 non-null object\n",
      "ROAD_DEFECT                297848 non-null object\n",
      "PRIM_CONTRIBUTORY_CAUSE    297848 non-null object\n",
      "SEC_CONTRIBUTORY_CAUSE     297848 non-null object\n",
      "NUM_UNITS                  297848 non-null int64\n",
      "CRASH_HOUR                 297848 non-null int64\n",
      "CRASH_DAY_OF_WEEK          297848 non-null int64\n",
      "CRASH_MONTH                297848 non-null int64\n",
      "NUM_PASSENGERS             50119 non-null float64\n",
      "MAKE                       291217 non-null object\n",
      "MODEL                      291173 non-null object\n",
      "LIC_PLATE_STATE            272543 non-null object\n",
      "VEHICLE_YEAR               257165 non-null float64\n",
      "VEHICLE_DEFECT             291220 non-null object\n",
      "VEHICLE_TYPE               291220 non-null object\n",
      "VEHICLE_USE                291220 non-null object\n",
      "TRAVEL_DIRECTION           291220 non-null object\n",
      "MANEUVER                   291220 non-null object\n",
      "EXCEED_SPEED_LIMIT_I       355 non-null object\n",
      "dtypes: float64(2), int64(5), object(21)\n",
      "memory usage: 65.9+ MB\n"
     ]
    }
   ],
   "source": [
    "crash_plus_vehicles.info()"
   ]
  },
  {
   "cell_type": "code",
   "execution_count": 25,
   "metadata": {},
   "outputs": [],
   "source": [
    "test = crash_plus_vehicles[['MAKE','MODEL','PRIM_CONTRIBUTORY_CAUSE']]\n",
    "test.dropna(axis=0, how='any', inplace=True)\n",
    "test = test[test['MAKE'] != 'UNKNOWN']\n",
    "test = test[test['MODEL'] != 'UNKNOWN']"
   ]
  },
  {
   "cell_type": "code",
   "execution_count": 26,
   "metadata": {},
   "outputs": [
    {
     "data": {
      "text/plain": [
       "239644"
      ]
     },
     "execution_count": 26,
     "metadata": {},
     "output_type": "execute_result"
    }
   ],
   "source": [
    "len(test)"
   ]
  },
  {
   "cell_type": "code",
   "execution_count": 27,
   "metadata": {},
   "outputs": [
    {
     "data": {
      "text/plain": [
       "16    26214\n",
       "17    25652\n",
       "15    25457\n",
       "14    21886\n",
       "18    20094\n",
       "13    19850\n",
       "12    18472\n",
       "8     17106\n",
       "11    16005\n",
       "9     14258\n",
       "7     13925\n",
       "10    13898\n",
       "19    13836\n",
       "20    10043\n",
       "21     8186\n",
       "22     7076\n",
       "6      5981\n",
       "23     5378\n",
       "0      3628\n",
       "1      2817\n",
       "5      2541\n",
       "2      2321\n",
       "3      1638\n",
       "4      1586\n",
       "Name: CRASH_HOUR, dtype: int64"
      ]
     },
     "execution_count": 27,
     "metadata": {},
     "output_type": "execute_result"
    }
   ],
   "source": [
    "crash_plus_vehicles.CRASH_HOUR.value_counts()"
   ]
  },
  {
   "cell_type": "code",
   "execution_count": 28,
   "metadata": {},
   "outputs": [],
   "source": [
    "target = test['PRIM_CONTRIBUTORY_CAUSE']\n",
    "data = pd.get_dummies(test.drop('PRIM_CONTRIBUTORY_CAUSE',axis=1))"
   ]
  },
  {
   "cell_type": "code",
   "execution_count": 29,
   "metadata": {},
   "outputs": [],
   "source": [
    "X_train, X_test, y_train, y_test = train_test_split(data, target, test_size=0.25, random_state=42)"
   ]
  },
  {
   "cell_type": "code",
   "execution_count": 30,
   "metadata": {},
   "outputs": [
    {
     "name": "stderr",
     "output_type": "stream",
     "text": [
      "100%|██████████| 30/30 [00:01<00:00, 15.89it/s]\n"
     ]
    },
    {
     "data": {
      "text/html": [
       "<div>\n",
       "<style scoped>\n",
       "    .dataframe tbody tr th:only-of-type {\n",
       "        vertical-align: middle;\n",
       "    }\n",
       "\n",
       "    .dataframe tbody tr th {\n",
       "        vertical-align: top;\n",
       "    }\n",
       "\n",
       "    .dataframe thead th {\n",
       "        text-align: right;\n",
       "    }\n",
       "</style>\n",
       "<table border=\"1\" class=\"dataframe\">\n",
       "  <thead>\n",
       "    <tr style=\"text-align: right;\">\n",
       "      <th></th>\n",
       "      <th>Accuracy</th>\n",
       "      <th>Balanced Accuracy</th>\n",
       "      <th>ROC AUC</th>\n",
       "      <th>F1 Score</th>\n",
       "      <th>Time Taken</th>\n",
       "    </tr>\n",
       "    <tr>\n",
       "      <th>Model</th>\n",
       "      <th></th>\n",
       "      <th></th>\n",
       "      <th></th>\n",
       "      <th></th>\n",
       "      <th></th>\n",
       "    </tr>\n",
       "  </thead>\n",
       "  <tbody>\n",
       "    <tr>\n",
       "      <td>DummyClassifier</td>\n",
       "      <td>0.30</td>\n",
       "      <td>0.25</td>\n",
       "      <td>None</td>\n",
       "      <td>0.30</td>\n",
       "      <td>1.32</td>\n",
       "    </tr>\n",
       "  </tbody>\n",
       "</table>\n",
       "</div>"
      ],
      "text/plain": [
       "                 Accuracy  Balanced Accuracy ROC AUC  F1 Score  Time Taken\n",
       "Model                                                                     \n",
       "DummyClassifier      0.30               0.25    None      0.30        1.32"
      ]
     },
     "execution_count": 30,
     "metadata": {},
     "output_type": "execute_result"
    }
   ],
   "source": [
    "#lazypredict\n",
    "clf=LazyClassifier(verbose=0,ignore_warnings=True,custom_metric=None)\n",
    "models, predictions = clf.fit(X_train, X_test, y_train, y_test)\n",
    "models\n"
   ]
  },
  {
   "cell_type": "code",
   "execution_count": 31,
   "metadata": {},
   "outputs": [
    {
     "data": {
      "text/plain": [
       "DecisionTreeClassifier(max_depth=4)"
      ]
     },
     "execution_count": 31,
     "metadata": {},
     "output_type": "execute_result"
    }
   ],
   "source": [
    "clf2 = DecisionTreeClassifier(max_depth=4)\n",
    "clf2.fit(X_train,y_train)"
   ]
  },
  {
   "cell_type": "code",
   "execution_count": 32,
   "metadata": {},
   "outputs": [
    {
     "data": {
      "text/plain": [
       "0.36111899317320695"
      ]
     },
     "execution_count": 32,
     "metadata": {},
     "output_type": "execute_result"
    }
   ],
   "source": [
    "clf2.score(X_test,y_test)"
   ]
  },
  {
   "cell_type": "code",
   "execution_count": 33,
   "metadata": {},
   "outputs": [],
   "source": [
    "importances = pd.DataFrame({'feature':X_train.columns,'importance':np.round(clf2.feature_importances_,3)})\n",
    "importances = importances.sort_values('importance',ascending=False)"
   ]
  },
  {
   "cell_type": "code",
   "execution_count": 34,
   "metadata": {},
   "outputs": [
    {
     "data": {
      "image/png": "[encoded data removed]",
      "text/plain": [
       "<Figure size 432x288 with 1 Axes>"
      ]
     },
     "metadata": {
      "needs_background": "light"
     },
     "output_type": "display_data"
    }
   ],
   "source": [
    "importances[:5].plot.bar(x='feature',y='importance');"
   ]
  },
  {
   "cell_type": "markdown",
   "metadata": {},
   "source": [
    "### Exploring and cleaning the people database"
   ]
  },
  {
   "cell_type": "markdown",
   "metadata": {},
   "source": [
    "As before, we will want to prune the database so that only data relating to people involved in the 144,436 accidents which constitute crash_df is included for analysis."
   ]
  },
  {
   "cell_type": "code",
   "execution_count": 35,
   "metadata": {},
   "outputs": [],
   "source": [
    "people_df = people.loc[people['CRASH_RECORD_ID'].isin(crash_ID_list)]"
   ]
  },
  {
   "cell_type": "code",
   "execution_count": 36,
   "metadata": {},
   "outputs": [
    {
     "name": "stdout",
     "output_type": "stream",
     "text": [
      "<class 'pandas.core.frame.DataFrame'>\n",
      "Int64Index: 355345 entries, 1 to 1032308\n",
      "Data columns (total 30 columns):\n",
      "PERSON_ID                355345 non-null object\n",
      "PERSON_TYPE              355345 non-null object\n",
      "CRASH_RECORD_ID          355345 non-null object\n",
      "RD_NO                    353293 non-null object\n",
      "VEHICLE_ID               349066 non-null float64\n",
      "CRASH_DATE               355345 non-null object\n",
      "SEAT_NO                  73906 non-null float64\n",
      "CITY                     282457 non-null object\n",
      "STATE                    285046 non-null object\n",
      "ZIPCODE                  262287 non-null object\n",
      "SEX                      350392 non-null object\n",
      "AGE                      272032 non-null float64\n",
      "DRIVERS_LICENSE_STATE    226328 non-null object\n",
      "DRIVERS_LICENSE_CLASS    203572 non-null object\n",
      "SAFETY_EQUIPMENT         354589 non-null object\n",
      "AIRBAG_DEPLOYED          349209 non-null object\n",
      "EJECTION                 351344 non-null object\n",
      "INJURY_CLASSIFICATION    355262 non-null object\n",
      "HOSPITAL                 63233 non-null object\n",
      "EMS_AGENCY               38293 non-null object\n",
      "EMS_RUN_NO               5966 non-null object\n",
      "DRIVER_ACTION            281012 non-null object\n",
      "DRIVER_VISION            280945 non-null object\n",
      "PHYSICAL_CONDITION       281188 non-null object\n",
      "PEDPEDAL_ACTION          6089 non-null object\n",
      "PEDPEDAL_VISIBILITY      6084 non-null object\n",
      "PEDPEDAL_LOCATION        6088 non-null object\n",
      "BAC_RESULT               281248 non-null object\n",
      "BAC_RESULT VALUE         90 non-null float64\n",
      "CELL_PHONE_USE           298 non-null object\n",
      "dtypes: float64(4), object(26)\n",
      "memory usage: 84.0+ MB\n"
     ]
    }
   ],
   "source": [
    "people_df.info()"
   ]
  },
  {
   "cell_type": "code",
   "execution_count": 37,
   "metadata": {},
   "outputs": [
    {
     "data": {
      "text/html": [
       "<div>\n",
       "<style scoped>\n",
       "    .dataframe tbody tr th:only-of-type {\n",
       "        vertical-align: middle;\n",
       "    }\n",
       "\n",
       "    .dataframe tbody tr th {\n",
       "        vertical-align: top;\n",
       "    }\n",
       "\n",
       "    .dataframe thead th {\n",
       "        text-align: right;\n",
       "    }\n",
       "</style>\n",
       "<table border=\"1\" class=\"dataframe\">\n",
       "  <thead>\n",
       "    <tr style=\"text-align: right;\">\n",
       "      <th></th>\n",
       "      <th>PERSON_ID</th>\n",
       "      <th>PERSON_TYPE</th>\n",
       "      <th>CRASH_RECORD_ID</th>\n",
       "      <th>RD_NO</th>\n",
       "      <th>VEHICLE_ID</th>\n",
       "      <th>CRASH_DATE</th>\n",
       "      <th>SEAT_NO</th>\n",
       "      <th>CITY</th>\n",
       "      <th>STATE</th>\n",
       "      <th>ZIPCODE</th>\n",
       "      <th>...</th>\n",
       "      <th>EMS_RUN_NO</th>\n",
       "      <th>DRIVER_ACTION</th>\n",
       "      <th>DRIVER_VISION</th>\n",
       "      <th>PHYSICAL_CONDITION</th>\n",
       "      <th>PEDPEDAL_ACTION</th>\n",
       "      <th>PEDPEDAL_VISIBILITY</th>\n",
       "      <th>PEDPEDAL_LOCATION</th>\n",
       "      <th>BAC_RESULT</th>\n",
       "      <th>BAC_RESULT VALUE</th>\n",
       "      <th>CELL_PHONE_USE</th>\n",
       "    </tr>\n",
       "  </thead>\n",
       "  <tbody>\n",
       "    <tr>\n",
       "      <td>16</td>\n",
       "      <td>O879679</td>\n",
       "      <td>DRIVER</td>\n",
       "      <td>49336aaca932f7935c361c892d31e01360a08133079e3a...</td>\n",
       "      <td>JD224756</td>\n",
       "      <td>834553.00</td>\n",
       "      <td>05/05/2020 12:20:00 PM</td>\n",
       "      <td>nan</td>\n",
       "      <td>WESTCHESTER</td>\n",
       "      <td>IL</td>\n",
       "      <td>60154</td>\n",
       "      <td>...</td>\n",
       "      <td>NaN</td>\n",
       "      <td>IMPROPER BACKING</td>\n",
       "      <td>WINDSHIELD (WATER/ICE)</td>\n",
       "      <td>NORMAL</td>\n",
       "      <td>NaN</td>\n",
       "      <td>NaN</td>\n",
       "      <td>NaN</td>\n",
       "      <td>TEST NOT OFFERED</td>\n",
       "      <td>nan</td>\n",
       "      <td>NaN</td>\n",
       "    </tr>\n",
       "    <tr>\n",
       "      <td>25</td>\n",
       "      <td>O10151</td>\n",
       "      <td>DRIVER</td>\n",
       "      <td>c182528a9237790a2ebcf42647bd07451248dcba072ca9...</td>\n",
       "      <td>HY485683</td>\n",
       "      <td>9709.00</td>\n",
       "      <td>11/01/2015 04:00:00 PM</td>\n",
       "      <td>nan</td>\n",
       "      <td>NaN</td>\n",
       "      <td>NaN</td>\n",
       "      <td>NaN</td>\n",
       "      <td>...</td>\n",
       "      <td>NaN</td>\n",
       "      <td>IMPROPER BACKING</td>\n",
       "      <td>UNKNOWN</td>\n",
       "      <td>UNKNOWN</td>\n",
       "      <td>NaN</td>\n",
       "      <td>NaN</td>\n",
       "      <td>NaN</td>\n",
       "      <td>TEST NOT OFFERED</td>\n",
       "      <td>nan</td>\n",
       "      <td>NaN</td>\n",
       "    </tr>\n",
       "    <tr>\n",
       "      <td>32</td>\n",
       "      <td>O10202</td>\n",
       "      <td>DRIVER</td>\n",
       "      <td>7a5636603e1ebdb7dc9f9e49a159f7dbf167efb7c3b207...</td>\n",
       "      <td>HY486122</td>\n",
       "      <td>9761.00</td>\n",
       "      <td>11/01/2015 08:00:00 PM</td>\n",
       "      <td>nan</td>\n",
       "      <td>NaN</td>\n",
       "      <td>NaN</td>\n",
       "      <td>NaN</td>\n",
       "      <td>...</td>\n",
       "      <td>NaN</td>\n",
       "      <td>FOLLOWED TOO CLOSELY</td>\n",
       "      <td>UNKNOWN</td>\n",
       "      <td>UNKNOWN</td>\n",
       "      <td>NaN</td>\n",
       "      <td>NaN</td>\n",
       "      <td>NaN</td>\n",
       "      <td>TEST NOT OFFERED</td>\n",
       "      <td>nan</td>\n",
       "      <td>NaN</td>\n",
       "    </tr>\n",
       "    <tr>\n",
       "      <td>34</td>\n",
       "      <td>O10222</td>\n",
       "      <td>DRIVER</td>\n",
       "      <td>6ef389ac337b4d2139a5aec179746525832ca42b60a47b...</td>\n",
       "      <td>HY486184</td>\n",
       "      <td>9781.00</td>\n",
       "      <td>11/02/2015 12:45:00 PM</td>\n",
       "      <td>nan</td>\n",
       "      <td>NaN</td>\n",
       "      <td>NaN</td>\n",
       "      <td>NaN</td>\n",
       "      <td>...</td>\n",
       "      <td>NaN</td>\n",
       "      <td>IMPROPER LANE CHANGE</td>\n",
       "      <td>UNKNOWN</td>\n",
       "      <td>UNKNOWN</td>\n",
       "      <td>NaN</td>\n",
       "      <td>NaN</td>\n",
       "      <td>NaN</td>\n",
       "      <td>TEST NOT OFFERED</td>\n",
       "      <td>nan</td>\n",
       "      <td>NaN</td>\n",
       "    </tr>\n",
       "    <tr>\n",
       "      <td>35</td>\n",
       "      <td>O10226</td>\n",
       "      <td>DRIVER</td>\n",
       "      <td>b6f1e9522ba107bd33aaf750f405e31e8c4dbb3fc60e99...</td>\n",
       "      <td>HY486263</td>\n",
       "      <td>9785.00</td>\n",
       "      <td>11/01/2015 04:00:00 PM</td>\n",
       "      <td>nan</td>\n",
       "      <td>NaN</td>\n",
       "      <td>NaN</td>\n",
       "      <td>NaN</td>\n",
       "      <td>...</td>\n",
       "      <td>NaN</td>\n",
       "      <td>IMPROPER PASSING</td>\n",
       "      <td>UNKNOWN</td>\n",
       "      <td>UNKNOWN</td>\n",
       "      <td>NaN</td>\n",
       "      <td>NaN</td>\n",
       "      <td>NaN</td>\n",
       "      <td>TEST NOT OFFERED</td>\n",
       "      <td>nan</td>\n",
       "      <td>NaN</td>\n",
       "    </tr>\n",
       "    <tr>\n",
       "      <td>...</td>\n",
       "      <td>...</td>\n",
       "      <td>...</td>\n",
       "      <td>...</td>\n",
       "      <td>...</td>\n",
       "      <td>...</td>\n",
       "      <td>...</td>\n",
       "      <td>...</td>\n",
       "      <td>...</td>\n",
       "      <td>...</td>\n",
       "      <td>...</td>\n",
       "      <td>...</td>\n",
       "      <td>...</td>\n",
       "      <td>...</td>\n",
       "      <td>...</td>\n",
       "      <td>...</td>\n",
       "      <td>...</td>\n",
       "      <td>...</td>\n",
       "      <td>...</td>\n",
       "      <td>...</td>\n",
       "      <td>...</td>\n",
       "      <td>...</td>\n",
       "    </tr>\n",
       "    <tr>\n",
       "      <td>1032183</td>\n",
       "      <td>O1009592</td>\n",
       "      <td>DRIVER</td>\n",
       "      <td>a19e890ecc803cb6c1dbe13927b029a48484a079a00fb1...</td>\n",
       "      <td>JD460141</td>\n",
       "      <td>956826.00</td>\n",
       "      <td>12/15/2020 06:20:00 PM</td>\n",
       "      <td>nan</td>\n",
       "      <td>NaN</td>\n",
       "      <td>NaN</td>\n",
       "      <td>NaN</td>\n",
       "      <td>...</td>\n",
       "      <td>NaN</td>\n",
       "      <td>FAILED TO YIELD</td>\n",
       "      <td>UNKNOWN</td>\n",
       "      <td>UNKNOWN</td>\n",
       "      <td>NaN</td>\n",
       "      <td>NaN</td>\n",
       "      <td>NaN</td>\n",
       "      <td>TEST NOT OFFERED</td>\n",
       "      <td>nan</td>\n",
       "      <td>NaN</td>\n",
       "    </tr>\n",
       "    <tr>\n",
       "      <td>1032189</td>\n",
       "      <td>O1009602</td>\n",
       "      <td>DRIVER</td>\n",
       "      <td>04814bc2e869e8dc67e22eb549364239554fa938401e53...</td>\n",
       "      <td>JD460148</td>\n",
       "      <td>956844.00</td>\n",
       "      <td>12/15/2020 06:25:00 PM</td>\n",
       "      <td>nan</td>\n",
       "      <td>NORTHLAKE</td>\n",
       "      <td>IL</td>\n",
       "      <td>60164</td>\n",
       "      <td>...</td>\n",
       "      <td>NaN</td>\n",
       "      <td>FAILED TO YIELD</td>\n",
       "      <td>NOT OBSCURED</td>\n",
       "      <td>NORMAL</td>\n",
       "      <td>NaN</td>\n",
       "      <td>NaN</td>\n",
       "      <td>NaN</td>\n",
       "      <td>TEST NOT OFFERED</td>\n",
       "      <td>nan</td>\n",
       "      <td>NaN</td>\n",
       "    </tr>\n",
       "    <tr>\n",
       "      <td>1032204</td>\n",
       "      <td>O1009625</td>\n",
       "      <td>DRIVER</td>\n",
       "      <td>a41ea7e0aa0d12a8e59f595d653839de92e1aee12a2e0a...</td>\n",
       "      <td>JD460250</td>\n",
       "      <td>956861.00</td>\n",
       "      <td>12/15/2020 07:30:00 PM</td>\n",
       "      <td>nan</td>\n",
       "      <td>NaN</td>\n",
       "      <td>NaN</td>\n",
       "      <td>NaN</td>\n",
       "      <td>...</td>\n",
       "      <td>NaN</td>\n",
       "      <td>FAILED TO YIELD</td>\n",
       "      <td>UNKNOWN</td>\n",
       "      <td>UNKNOWN</td>\n",
       "      <td>NaN</td>\n",
       "      <td>NaN</td>\n",
       "      <td>NaN</td>\n",
       "      <td>TEST NOT OFFERED</td>\n",
       "      <td>nan</td>\n",
       "      <td>NaN</td>\n",
       "    </tr>\n",
       "    <tr>\n",
       "      <td>1032218</td>\n",
       "      <td>O1009643</td>\n",
       "      <td>DRIVER</td>\n",
       "      <td>fbb47f04839f1cc6d9d285c4cdefc9d2201ffc6c20afd3...</td>\n",
       "      <td>JD460251</td>\n",
       "      <td>956878.00</td>\n",
       "      <td>12/15/2020 08:05:00 PM</td>\n",
       "      <td>nan</td>\n",
       "      <td>NaN</td>\n",
       "      <td>NaN</td>\n",
       "      <td>NaN</td>\n",
       "      <td>...</td>\n",
       "      <td>NaN</td>\n",
       "      <td>IMPROPER PASSING</td>\n",
       "      <td>UNKNOWN</td>\n",
       "      <td>UNKNOWN</td>\n",
       "      <td>NaN</td>\n",
       "      <td>NaN</td>\n",
       "      <td>NaN</td>\n",
       "      <td>TEST NOT OFFERED</td>\n",
       "      <td>nan</td>\n",
       "      <td>NaN</td>\n",
       "    </tr>\n",
       "    <tr>\n",
       "      <td>1032225</td>\n",
       "      <td>O1009666</td>\n",
       "      <td>DRIVER</td>\n",
       "      <td>4e8e6524ee34f4e0a2b86ce12b2dd4f6d34febbb33b1ce...</td>\n",
       "      <td>JD460344</td>\n",
       "      <td>956903.00</td>\n",
       "      <td>12/15/2020 11:30:00 PM</td>\n",
       "      <td>nan</td>\n",
       "      <td>FISHERS</td>\n",
       "      <td>IN</td>\n",
       "      <td>46038</td>\n",
       "      <td>...</td>\n",
       "      <td>NaN</td>\n",
       "      <td>NONE</td>\n",
       "      <td>NOT OBSCURED</td>\n",
       "      <td>NORMAL</td>\n",
       "      <td>NaN</td>\n",
       "      <td>NaN</td>\n",
       "      <td>NaN</td>\n",
       "      <td>TEST NOT OFFERED</td>\n",
       "      <td>nan</td>\n",
       "      <td>NaN</td>\n",
       "    </tr>\n",
       "  </tbody>\n",
       "</table>\n",
       "<p>155095 rows × 30 columns</p>\n",
       "</div>"
      ],
      "text/plain": [
       "        PERSON_ID PERSON_TYPE  \\\n",
       "16        O879679      DRIVER   \n",
       "25         O10151      DRIVER   \n",
       "32         O10202      DRIVER   \n",
       "34         O10222      DRIVER   \n",
       "35         O10226      DRIVER   \n",
       "...           ...         ...   \n",
       "1032183  O1009592      DRIVER   \n",
       "1032189  O1009602      DRIVER   \n",
       "1032204  O1009625      DRIVER   \n",
       "1032218  O1009643      DRIVER   \n",
       "1032225  O1009666      DRIVER   \n",
       "\n",
       "                                           CRASH_RECORD_ID     RD_NO  \\\n",
       "16       49336aaca932f7935c361c892d31e01360a08133079e3a...  JD224756   \n",
       "25       c182528a9237790a2ebcf42647bd07451248dcba072ca9...  HY485683   \n",
       "32       7a5636603e1ebdb7dc9f9e49a159f7dbf167efb7c3b207...  HY486122   \n",
       "34       6ef389ac337b4d2139a5aec179746525832ca42b60a47b...  HY486184   \n",
       "35       b6f1e9522ba107bd33aaf750f405e31e8c4dbb3fc60e99...  HY486263   \n",
       "...                                                    ...       ...   \n",
       "1032183  a19e890ecc803cb6c1dbe13927b029a48484a079a00fb1...  JD460141   \n",
       "1032189  04814bc2e869e8dc67e22eb549364239554fa938401e53...  JD460148   \n",
       "1032204  a41ea7e0aa0d12a8e59f595d653839de92e1aee12a2e0a...  JD460250   \n",
       "1032218  fbb47f04839f1cc6d9d285c4cdefc9d2201ffc6c20afd3...  JD460251   \n",
       "1032225  4e8e6524ee34f4e0a2b86ce12b2dd4f6d34febbb33b1ce...  JD460344   \n",
       "\n",
       "         VEHICLE_ID              CRASH_DATE  SEAT_NO         CITY STATE  \\\n",
       "16        834553.00  05/05/2020 12:20:00 PM      nan  WESTCHESTER    IL   \n",
       "25          9709.00  11/01/2015 04:00:00 PM      nan          NaN   NaN   \n",
       "32          9761.00  11/01/2015 08:00:00 PM      nan          NaN   NaN   \n",
       "34          9781.00  11/02/2015 12:45:00 PM      nan          NaN   NaN   \n",
       "35          9785.00  11/01/2015 04:00:00 PM      nan          NaN   NaN   \n",
       "...             ...                     ...      ...          ...   ...   \n",
       "1032183   956826.00  12/15/2020 06:20:00 PM      nan          NaN   NaN   \n",
       "1032189   956844.00  12/15/2020 06:25:00 PM      nan    NORTHLAKE    IL   \n",
       "1032204   956861.00  12/15/2020 07:30:00 PM      nan          NaN   NaN   \n",
       "1032218   956878.00  12/15/2020 08:05:00 PM      nan          NaN   NaN   \n",
       "1032225   956903.00  12/15/2020 11:30:00 PM      nan      FISHERS    IN   \n",
       "\n",
       "        ZIPCODE  ... EMS_RUN_NO         DRIVER_ACTION           DRIVER_VISION  \\\n",
       "16        60154  ...        NaN      IMPROPER BACKING  WINDSHIELD (WATER/ICE)   \n",
       "25          NaN  ...        NaN      IMPROPER BACKING                 UNKNOWN   \n",
       "32          NaN  ...        NaN  FOLLOWED TOO CLOSELY                 UNKNOWN   \n",
       "34          NaN  ...        NaN  IMPROPER LANE CHANGE                 UNKNOWN   \n",
       "35          NaN  ...        NaN      IMPROPER PASSING                 UNKNOWN   \n",
       "...         ...  ...        ...                   ...                     ...   \n",
       "1032183     NaN  ...        NaN       FAILED TO YIELD                 UNKNOWN   \n",
       "1032189   60164  ...        NaN       FAILED TO YIELD            NOT OBSCURED   \n",
       "1032204     NaN  ...        NaN       FAILED TO YIELD                 UNKNOWN   \n",
       "1032218     NaN  ...        NaN      IMPROPER PASSING                 UNKNOWN   \n",
       "1032225   46038  ...        NaN                  NONE            NOT OBSCURED   \n",
       "\n",
       "        PHYSICAL_CONDITION PEDPEDAL_ACTION PEDPEDAL_VISIBILITY  \\\n",
       "16                  NORMAL             NaN                 NaN   \n",
       "25                 UNKNOWN             NaN                 NaN   \n",
       "32                 UNKNOWN             NaN                 NaN   \n",
       "34                 UNKNOWN             NaN                 NaN   \n",
       "35                 UNKNOWN             NaN                 NaN   \n",
       "...                    ...             ...                 ...   \n",
       "1032183            UNKNOWN             NaN                 NaN   \n",
       "1032189             NORMAL             NaN                 NaN   \n",
       "1032204            UNKNOWN             NaN                 NaN   \n",
       "1032218            UNKNOWN             NaN                 NaN   \n",
       "1032225             NORMAL             NaN                 NaN   \n",
       "\n",
       "        PEDPEDAL_LOCATION        BAC_RESULT BAC_RESULT VALUE CELL_PHONE_USE  \n",
       "16                    NaN  TEST NOT OFFERED              nan            NaN  \n",
       "25                    NaN  TEST NOT OFFERED              nan            NaN  \n",
       "32                    NaN  TEST NOT OFFERED              nan            NaN  \n",
       "34                    NaN  TEST NOT OFFERED              nan            NaN  \n",
       "35                    NaN  TEST NOT OFFERED              nan            NaN  \n",
       "...                   ...               ...              ...            ...  \n",
       "1032183               NaN  TEST NOT OFFERED              nan            NaN  \n",
       "1032189               NaN  TEST NOT OFFERED              nan            NaN  \n",
       "1032204               NaN  TEST NOT OFFERED              nan            NaN  \n",
       "1032218               NaN  TEST NOT OFFERED              nan            NaN  \n",
       "1032225               NaN  TEST NOT OFFERED              nan            NaN  \n",
       "\n",
       "[155095 rows x 30 columns]"
      ]
     },
     "execution_count": 37,
     "metadata": {},
     "output_type": "execute_result"
    }
   ],
   "source": [
    "people_df[people_df.CITY != 'CHICAGO']"
   ]
  },
  {
   "cell_type": "code",
   "execution_count": null,
   "metadata": {},
   "outputs": [],
   "source": []
  }
 ],
 "metadata": {
  "hide_input": false,
  "kernelspec": {
   "display_name": "Python [conda env:learn-env] *",
   "language": "python",
   "name": "conda-env-learn-env-py"
  },
  "language_info": {
   "codemirror_mode": {
    "name": "ipython",
    "version": 3
   },
   "file_extension": ".py",
   "mimetype": "text/x-python",
   "name": "python",
   "nbconvert_exporter": "python",
   "pygments_lexer": "ipython3",
   "version": "3.6.9"
  },
  "toc": {
   "base_numbering": 1,
   "nav_menu": {},
   "number_sections": true,
   "sideBar": true,
   "skip_h1_title": false,
   "title_cell": "Table of Contents",
   "title_sidebar": "Contents",
   "toc_cell": false,
   "toc_position": {},
   "toc_section_display": true,
   "toc_window_display": false
  },
  "varInspector": {
   "cols": {
    "lenName": 16,
    "lenType": 16,
    "lenVar": 40
   },
   "kernels_config": {
    "python": {
     "delete_cmd_postfix": "",
     "delete_cmd_prefix": "del ",
     "library": "var_list.py",
     "varRefreshCmd": "print(var_dic_list())"
    },
    "r": {
     "delete_cmd_postfix": ") ",
     "delete_cmd_prefix": "rm(",
     "library": "var_list.r",
     "varRefreshCmd": "cat(var_dic_list()) "
    }
   },
   "types_to_exclude": [
    "module",
    "function",
    "builtin_function_or_method",
    "instance",
    "_Feature"
   ],
   "window_display": false
  }
 },
 "nbformat": 4,
 "nbformat_minor": 2
}
