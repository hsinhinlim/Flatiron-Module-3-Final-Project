{
 "cells": [
  {
   "cell_type": "markdown",
   "metadata": {},
   "source": [
    "# Import packages and data"
   ]
  },
  {
   "cell_type": "code",
   "execution_count": 1,
   "metadata": {},
   "outputs": [],
   "source": [
    "# import packages\n",
    "import pandas as pd\n",
    "import numpy as np\n",
    "\n",
    "#sklearn\n",
    "from sklearn.model_selection import train_test_split, GridSearchCV, cross_val_predict, cross_val_score\n",
    "from sklearn.ensemble import RandomForestClassifier, VotingClassifier\n",
    "from sklearn.tree import DecisionTreeClassifier, DecisionTreeRegressor\n",
    "from sklearn.svm import SVC\n",
    "from sklearn.linear_model import LogisticRegression\n",
    "from sklearn import tree\n",
    "from sklearn.feature_selection import SelectFromModel\n",
    "from sklearn.metrics import accuracy_score, roc_curve, auc, confusion_matrix, classification_report, plot_confusion_matrix\n",
    "from sklearn.metrics import precision_score, recall_score\n",
    "from sklearn.preprocessing import OneHotEncoder, StandardScaler, LabelEncoder, OrdinalEncoder\n",
    "from sklearn.pipeline import Pipeline\n",
    "\n",
    "# SMOTE\n",
    "from imblearn.over_sampling import SMOTE\n",
    "\n",
    "# XGBoost\n",
    "import xgboost as xgb\n",
    "\n",
    "#visualisations\n",
    "import seaborn as sns\n",
    "import matplotlib.pyplot as plt\n",
    "\n",
    "#mapping\n",
    "import folium\n",
    "from folium import FeatureGroup, plugins, LayerControl\n",
    "import geojson\n",
    "import geopandas as gpd\n",
    "import descartes\n",
    "from shapely.geometry import Point, Polygon\n",
    "\n",
    "%matplotlib inline\n",
    "\n",
    "# suppress warnings\n",
    "import warnings\n",
    "warnings.filterwarnings('ignore')\n",
    "\n",
    "# tdqm progress bars - so you don't have to stare at an asterix\n",
    "from tqdm.notebook import tqdm, trange"
   ]
  },
  {
   "cell_type": "code",
   "execution_count": 2,
   "metadata": {},
   "outputs": [],
   "source": [
    "# import data, which was as of 31 December 2020\n",
    "crash = pd.read_csv('Traffic_Crashes_-_Crashes.csv')\n",
    "vehicles = pd.read_csv('Traffic_Crashes_-_Vehicles.csv')\n",
    "people = pd.read_csv('Traffic_Crashes_-_People.csv')"
   ]
  },
  {
   "cell_type": "markdown",
   "metadata": {},
   "source": [
    "# EDA of crash dataset"
   ]
  },
  {
   "cell_type": "markdown",
   "metadata": {},
   "source": [
    "<div class=\"alert alert-block alert-success\">\n",
    "    \n",
    "The objective of the section is to:\n",
    "\n",
    "1) investigate the primary contributory causes of the crash data and structure the dataset into a binary classification problem.\n",
    "\n",
    "2) review each column in the crash data, and identify which columns relate to data which have explanatory value in terms of causation and data which are administrative in nature (ie relating to the outcome of the crash, its location, ID numbers); and\n",
    "\n",
    "3) identify which columns from the dataframe derived from 2) above contain null values, investigate those columns and determine whether they can be removed.\n",
    "\n",
    "The intention is to produce a dataframe ('crash_df') which can then be merged with the other databases relating to vehicles and people. We will then proceed to model this merged dataset.</div>"
   ]
  },
  {
   "cell_type": "code",
   "execution_count": 3,
   "metadata": {
    "scrolled": true
   },
   "outputs": [
    {
     "name": "stdout",
     "output_type": "stream",
     "text": [
      "<class 'pandas.core.frame.DataFrame'>\n",
      "RangeIndex: 466056 entries, 0 to 466055\n",
      "Data columns (total 49 columns):\n",
      "CRASH_RECORD_ID                  466056 non-null object\n",
      "RD_NO                            462813 non-null object\n",
      "CRASH_DATE_EST_I                 34732 non-null object\n",
      "CRASH_DATE                       466056 non-null object\n",
      "POSTED_SPEED_LIMIT               466056 non-null int64\n",
      "TRAFFIC_CONTROL_DEVICE           466056 non-null object\n",
      "DEVICE_CONDITION                 466056 non-null object\n",
      "WEATHER_CONDITION                466056 non-null object\n",
      "LIGHTING_CONDITION               466056 non-null object\n",
      "FIRST_CRASH_TYPE                 466056 non-null object\n",
      "TRAFFICWAY_TYPE                  466056 non-null object\n",
      "LANE_CNT                         198960 non-null float64\n",
      "ALIGNMENT                        466056 non-null object\n",
      "ROADWAY_SURFACE_COND             466056 non-null object\n",
      "ROAD_DEFECT                      466056 non-null object\n",
      "REPORT_TYPE                      454866 non-null object\n",
      "CRASH_TYPE                       466056 non-null object\n",
      "INTERSECTION_RELATED_I           105253 non-null object\n",
      "NOT_RIGHT_OF_WAY_I               21841 non-null object\n",
      "HIT_AND_RUN_I                    135786 non-null object\n",
      "DAMAGE                           466056 non-null object\n",
      "DATE_POLICE_NOTIFIED             466056 non-null object\n",
      "PRIM_CONTRIBUTORY_CAUSE          466056 non-null object\n",
      "SEC_CONTRIBUTORY_CAUSE           466056 non-null object\n",
      "STREET_NO                        466056 non-null int64\n",
      "STREET_DIRECTION                 466053 non-null object\n",
      "STREET_NAME                      466055 non-null object\n",
      "BEAT_OF_OCCURRENCE               466051 non-null float64\n",
      "PHOTOS_TAKEN_I                   5875 non-null object\n",
      "STATEMENTS_TAKEN_I               9363 non-null object\n",
      "DOORING_I                        1526 non-null object\n",
      "WORK_ZONE_I                      3071 non-null object\n",
      "WORK_ZONE_TYPE                   2428 non-null object\n",
      "WORKERS_PRESENT_I                733 non-null object\n",
      "NUM_UNITS                        466056 non-null int64\n",
      "MOST_SEVERE_INJURY               465113 non-null object\n",
      "INJURIES_TOTAL                   465124 non-null float64\n",
      "INJURIES_FATAL                   465124 non-null float64\n",
      "INJURIES_INCAPACITATING          465124 non-null float64\n",
      "INJURIES_NON_INCAPACITATING      465124 non-null float64\n",
      "INJURIES_REPORTED_NOT_EVIDENT    465124 non-null float64\n",
      "INJURIES_NO_INDICATION           465124 non-null float64\n",
      "INJURIES_UNKNOWN                 465124 non-null float64\n",
      "CRASH_HOUR                       466056 non-null int64\n",
      "CRASH_DAY_OF_WEEK                466056 non-null int64\n",
      "CRASH_MONTH                      466056 non-null int64\n",
      "LATITUDE                         463510 non-null float64\n",
      "LONGITUDE                        463510 non-null float64\n",
      "LOCATION                         463510 non-null object\n",
      "dtypes: float64(11), int64(6), object(32)\n",
      "memory usage: 174.2+ MB\n"
     ]
    }
   ],
   "source": [
    "crash.info()"
   ]
  },
  {
   "cell_type": "markdown",
   "metadata": {},
   "source": [
    "We want to investigate the primary contributory causes of the crash. Let's take a look to see how many possible causes have been recorded in the data."
   ]
  },
  {
   "cell_type": "code",
   "execution_count": 4,
   "metadata": {
    "scrolled": true
   },
   "outputs": [
    {
     "data": {
      "text/plain": [
       "UNABLE TO DETERMINE                                                                 171500\n",
       "FAILING TO YIELD RIGHT-OF-WAY                                                        51661\n",
       "FOLLOWING TOO CLOSELY                                                                50013\n",
       "NOT APPLICABLE                                                                       25080\n",
       "IMPROPER OVERTAKING/PASSING                                                          22240\n",
       "IMPROPER BACKING                                                                     20522\n",
       "FAILING TO REDUCE SPEED TO AVOID CRASH                                               20058\n",
       "IMPROPER LANE USAGE                                                                  18236\n",
       "IMPROPER TURNING/NO SIGNAL                                                           15577\n",
       "DRIVING SKILLS/KNOWLEDGE/EXPERIENCE                                                  14539\n",
       "DISREGARDING TRAFFIC SIGNALS                                                          8408\n",
       "WEATHER                                                                               7303\n",
       "OPERATING VEHICLE IN ERRATIC, RECKLESS, CARELESS, NEGLIGENT OR AGGRESSIVE MANNER      5776\n",
       "DISREGARDING STOP SIGN                                                                5162\n",
       "DISTRACTION - FROM INSIDE VEHICLE                                                     3428\n",
       "EQUIPMENT - VEHICLE CONDITION                                                         2888\n",
       "VISION OBSCURED (SIGNS, TREE LIMBS, BUILDINGS, ETC.)                                  2729\n",
       "PHYSICAL CONDITION OF DRIVER                                                          2725\n",
       "UNDER THE INFLUENCE OF ALCOHOL/DRUGS (USE WHEN ARREST IS EFFECTED)                    2468\n",
       "DRIVING ON WRONG SIDE/WRONG WAY                                                       2176\n",
       "DISTRACTION - FROM OUTSIDE VEHICLE                                                    2078\n",
       "EXCEEDING AUTHORIZED SPEED LIMIT                                                      1982\n",
       "EXCEEDING SAFE SPEED FOR CONDITIONS                                                   1684\n",
       "ROAD ENGINEERING/SURFACE/MARKING DEFECTS                                              1344\n",
       "ROAD CONSTRUCTION/MAINTENANCE                                                         1149\n",
       "DISREGARDING OTHER TRAFFIC SIGNS                                                       985\n",
       "EVASIVE ACTION DUE TO ANIMAL, OBJECT, NONMOTORIST                                      862\n",
       "CELL PHONE USE OTHER THAN TEXTING                                                      660\n",
       "DISREGARDING ROAD MARKINGS                                                             642\n",
       "HAD BEEN DRINKING (USE WHEN ARREST IS NOT MADE)                                        521\n",
       "ANIMAL                                                                                 402\n",
       "TURNING RIGHT ON RED                                                                   323\n",
       "DISTRACTION - OTHER ELECTRONIC DEVICE (NAVIGATION DEVICE, DVD PLAYER, ETC.)            227\n",
       "TEXTING                                                                                207\n",
       "DISREGARDING YIELD SIGN                                                                178\n",
       "RELATED TO BUS STOP                                                                    150\n",
       "BICYCLE ADVANCING LEGALLY ON RED LIGHT                                                  64\n",
       "PASSING STOPPED SCHOOL BUS                                                              61\n",
       "OBSTRUCTED CROSSWALKS                                                                   29\n",
       "MOTORCYCLE ADVANCING LEGALLY ON RED LIGHT                                               19\n",
       "Name: PRIM_CONTRIBUTORY_CAUSE, dtype: int64"
      ]
     },
     "execution_count": 4,
     "metadata": {},
     "output_type": "execute_result"
    }
   ],
   "source": [
    "causes =pd.Series(crash.PRIM_CONTRIBUTORY_CAUSE.value_counts())\n",
    "causes"
   ]
  },
  {
   "cell_type": "markdown",
   "metadata": {},
   "source": [
    "Let's remove crashes which have indeterminate primary causes."
   ]
  },
  {
   "cell_type": "code",
   "execution_count": 5,
   "metadata": {
    "scrolled": true
   },
   "outputs": [
    {
     "data": {
      "text/plain": [
       "FAILING TO YIELD RIGHT-OF-WAY                                                       51661\n",
       "FOLLOWING TOO CLOSELY                                                               50013\n",
       "IMPROPER OVERTAKING/PASSING                                                         22240\n",
       "IMPROPER BACKING                                                                    20522\n",
       "FAILING TO REDUCE SPEED TO AVOID CRASH                                              20058\n",
       "IMPROPER LANE USAGE                                                                 18236\n",
       "IMPROPER TURNING/NO SIGNAL                                                          15577\n",
       "DRIVING SKILLS/KNOWLEDGE/EXPERIENCE                                                 14539\n",
       "DISREGARDING TRAFFIC SIGNALS                                                         8408\n",
       "WEATHER                                                                              7303\n",
       "OPERATING VEHICLE IN ERRATIC, RECKLESS, CARELESS, NEGLIGENT OR AGGRESSIVE MANNER     5776\n",
       "DISREGARDING STOP SIGN                                                               5162\n",
       "DISTRACTION - FROM INSIDE VEHICLE                                                    3428\n",
       "EQUIPMENT - VEHICLE CONDITION                                                        2888\n",
       "VISION OBSCURED (SIGNS, TREE LIMBS, BUILDINGS, ETC.)                                 2729\n",
       "PHYSICAL CONDITION OF DRIVER                                                         2725\n",
       "UNDER THE INFLUENCE OF ALCOHOL/DRUGS (USE WHEN ARREST IS EFFECTED)                   2468\n",
       "DRIVING ON WRONG SIDE/WRONG WAY                                                      2176\n",
       "DISTRACTION - FROM OUTSIDE VEHICLE                                                   2078\n",
       "EXCEEDING AUTHORIZED SPEED LIMIT                                                     1982\n",
       "EXCEEDING SAFE SPEED FOR CONDITIONS                                                  1684\n",
       "ROAD ENGINEERING/SURFACE/MARKING DEFECTS                                             1344\n",
       "ROAD CONSTRUCTION/MAINTENANCE                                                        1149\n",
       "DISREGARDING OTHER TRAFFIC SIGNS                                                      985\n",
       "EVASIVE ACTION DUE TO ANIMAL, OBJECT, NONMOTORIST                                     862\n",
       "CELL PHONE USE OTHER THAN TEXTING                                                     660\n",
       "DISREGARDING ROAD MARKINGS                                                            642\n",
       "HAD BEEN DRINKING (USE WHEN ARREST IS NOT MADE)                                       521\n",
       "ANIMAL                                                                                402\n",
       "TURNING RIGHT ON RED                                                                  323\n",
       "DISTRACTION - OTHER ELECTRONIC DEVICE (NAVIGATION DEVICE, DVD PLAYER, ETC.)           227\n",
       "TEXTING                                                                               207\n",
       "DISREGARDING YIELD SIGN                                                               178\n",
       "RELATED TO BUS STOP                                                                   150\n",
       "BICYCLE ADVANCING LEGALLY ON RED LIGHT                                                 64\n",
       "PASSING STOPPED SCHOOL BUS                                                             61\n",
       "OBSTRUCTED CROSSWALKS                                                                  29\n",
       "MOTORCYCLE ADVANCING LEGALLY ON RED LIGHT                                              19\n",
       "Name: PRIM_CONTRIBUTORY_CAUSE, dtype: int64"
      ]
     },
     "execution_count": 5,
     "metadata": {},
     "output_type": "execute_result"
    }
   ],
   "source": [
    "# drop NOT APPLICABLE & UNABLE TO DETERMINE from the crash dataset\n",
    "unknown = ['UNABLE TO DETERMINE','NOT APPLICABLE']\n",
    "crash_df = crash[~crash['PRIM_CONTRIBUTORY_CAUSE'].isin(unknown)]\n",
    "\n",
    "causes =pd.Series(crash_df.PRIM_CONTRIBUTORY_CAUSE.value_counts())\n",
    "causes"
   ]
  },
  {
   "cell_type": "markdown",
   "metadata": {},
   "source": [
    "## Engineering a target to predict on"
   ]
  },
  {
   "cell_type": "markdown",
   "metadata": {},
   "source": [
    "Looks like there are many different primary causes of accidents. We want to predict the causes of accidents so we can structure this as a binary classification problem by binning the multiple causes into 2 broad categories - **whether the accident was a result of a driver error or not**. "
   ]
  },
  {
   "cell_type": "code",
   "execution_count": 6,
   "metadata": {},
   "outputs": [],
   "source": [
    "# list causes which are NOT the result of driver error\n",
    "not_driver_error = ['WEATHER',\n",
    "                    'EQUIPMENT - VEHICLE CONDITION',\n",
    "                    'ROAD ENGINEERING/SURFACE/MARKING DEFECTS',\n",
    "                    'ROAD CONSTRUCTION/MAINTENANCE',\n",
    "                    'EVASIVE ACTION DUE TO ANIMAL, OBJECT, NONMOTORIST',\n",
    "                    'ANIMAL',\n",
    "                    'OBSTRUCTED CROSSWALKS',\n",
    "                    'RELATED TO BUS STOP',\n",
    "                    'VISION OBSCURED (SIGNS, TREE LIMBS, BUILDINGS, ETC.)']\n",
    "\n",
    "# this engineers a new feature DRIVER_ERROR which is TRUE if the primary contributory cause\n",
    "# is as a consequence of driver error, otherwise this will be FALSE\n",
    "\n",
    "crash_df['DRIVER_ERROR'] = crash['PRIM_CONTRIBUTORY_CAUSE'].apply(lambda x: 0 if x in not_driver_error else 1)"
   ]
  },
  {
   "cell_type": "markdown",
   "metadata": {},
   "source": [
    "It is critical to note that the **DRIVER_ERROR** column is now the target on which we are trying to predict, let's take a quick look at the values we have engineered. For **DRIVER_ERROR**, 1 represents True and the accident has, as its primary contributory cause, driver error. If 0 it is False, in other words, its primary contributory cause is not as a consequence of driver error."
   ]
  },
  {
   "cell_type": "code",
   "execution_count": 7,
   "metadata": {},
   "outputs": [
    {
     "data": {
      "text/plain": [
       "1    252620\n",
       "0     16856\n",
       "Name: DRIVER_ERROR, dtype: int64"
      ]
     },
     "execution_count": 7,
     "metadata": {},
     "output_type": "execute_result"
    }
   ],
   "source": [
    "# this is the target, we want to figure out how to predict crashes which are the result of driver error\n",
    "crash_df.DRIVER_ERROR.value_counts() "
   ]
  },
  {
   "cell_type": "markdown",
   "metadata": {},
   "source": [
    "We now have what we need from the **PRIM_CONTRIBUTORY_CAUSE** column. We can now probably drop that column as well as the **SEC_CONTRIBUTORY_CAUSE** column."
   ]
  },
  {
   "cell_type": "code",
   "execution_count": 8,
   "metadata": {},
   "outputs": [
    {
     "name": "stdout",
     "output_type": "stream",
     "text": [
      "<class 'pandas.core.frame.DataFrame'>\n",
      "Int64Index: 269476 entries, 1 to 466055\n",
      "Data columns (total 50 columns):\n",
      "CRASH_RECORD_ID                  269476 non-null object\n",
      "RD_NO                            267691 non-null object\n",
      "CRASH_DATE_EST_I                 13792 non-null object\n",
      "CRASH_DATE                       269476 non-null object\n",
      "POSTED_SPEED_LIMIT               269476 non-null int64\n",
      "TRAFFIC_CONTROL_DEVICE           269476 non-null object\n",
      "DEVICE_CONDITION                 269476 non-null object\n",
      "WEATHER_CONDITION                269476 non-null object\n",
      "LIGHTING_CONDITION               269476 non-null object\n",
      "FIRST_CRASH_TYPE                 269476 non-null object\n",
      "TRAFFICWAY_TYPE                  269476 non-null object\n",
      "LANE_CNT                         122314 non-null float64\n",
      "ALIGNMENT                        269476 non-null object\n",
      "ROADWAY_SURFACE_COND             269476 non-null object\n",
      "ROAD_DEFECT                      269476 non-null object\n",
      "REPORT_TYPE                      262827 non-null object\n",
      "CRASH_TYPE                       269476 non-null object\n",
      "INTERSECTION_RELATED_I           75617 non-null object\n",
      "NOT_RIGHT_OF_WAY_I               11331 non-null object\n",
      "HIT_AND_RUN_I                    58948 non-null object\n",
      "DAMAGE                           269476 non-null object\n",
      "DATE_POLICE_NOTIFIED             269476 non-null object\n",
      "PRIM_CONTRIBUTORY_CAUSE          269476 non-null object\n",
      "SEC_CONTRIBUTORY_CAUSE           269476 non-null object\n",
      "STREET_NO                        269476 non-null int64\n",
      "STREET_DIRECTION                 269474 non-null object\n",
      "STREET_NAME                      269476 non-null object\n",
      "BEAT_OF_OCCURRENCE               269472 non-null float64\n",
      "PHOTOS_TAKEN_I                   3954 non-null object\n",
      "STATEMENTS_TAKEN_I               6798 non-null object\n",
      "DOORING_I                        707 non-null object\n",
      "WORK_ZONE_I                      2134 non-null object\n",
      "WORK_ZONE_TYPE                   1735 non-null object\n",
      "WORKERS_PRESENT_I                538 non-null object\n",
      "NUM_UNITS                        269476 non-null int64\n",
      "MOST_SEVERE_INJURY               269231 non-null object\n",
      "INJURIES_TOTAL                   269234 non-null float64\n",
      "INJURIES_FATAL                   269234 non-null float64\n",
      "INJURIES_INCAPACITATING          269234 non-null float64\n",
      "INJURIES_NON_INCAPACITATING      269234 non-null float64\n",
      "INJURIES_REPORTED_NOT_EVIDENT    269234 non-null float64\n",
      "INJURIES_NO_INDICATION           269234 non-null float64\n",
      "INJURIES_UNKNOWN                 269234 non-null float64\n",
      "CRASH_HOUR                       269476 non-null int64\n",
      "CRASH_DAY_OF_WEEK                269476 non-null int64\n",
      "CRASH_MONTH                      269476 non-null int64\n",
      "LATITUDE                         267858 non-null float64\n",
      "LONGITUDE                        267858 non-null float64\n",
      "LOCATION                         267858 non-null object\n",
      "DRIVER_ERROR                     269476 non-null int64\n",
      "dtypes: float64(11), int64(7), object(32)\n",
      "memory usage: 104.9+ MB\n"
     ]
    }
   ],
   "source": [
    "crash_df.info()"
   ]
  },
  {
   "cell_type": "code",
   "execution_count": 9,
   "metadata": {},
   "outputs": [],
   "source": [
    "crash_df.drop(['PRIM_CONTRIBUTORY_CAUSE','SEC_CONTRIBUTORY_CAUSE'], axis=1, inplace=True)"
   ]
  },
  {
   "cell_type": "markdown",
   "metadata": {},
   "source": [
    "Let's review the features in crash_df to try and weed out those which are irrelevant. Remember, we want to include data that may reasonably **explain** the accident, not data which merely records the outcome of the accident or its location. We can separate out the location data and outcome data independently for analysis if required."
   ]
  },
  {
   "cell_type": "markdown",
   "metadata": {},
   "source": [
    "## Exploring and cleaning the crash dataset"
   ]
  },
  {
   "cell_type": "markdown",
   "metadata": {},
   "source": [
    "### Initial exploration of crash dataset and dealing with null values in crash_df"
   ]
  },
  {
   "cell_type": "code",
   "execution_count": 10,
   "metadata": {},
   "outputs": [],
   "source": [
    "crash_df_cols = list(crash_df.columns)\n",
    "len(crash_df_cols)\n",
    "\n",
    "# these are the columns we want to drop\n",
    "col_drop = ['RD_NO',\n",
    "            'CRASH_DATE',\n",
    "            'CRASH_DATE_EST_I',\n",
    "            'DEVICE_CONDITION',\n",
    "            'REPORT_TYPE',\n",
    "            'CRASH_TYPE',\n",
    "            'HIT_AND_RUN_I',\n",
    "            'DAMAGE',\n",
    "            'DATE_POLICE_NOTIFIED',\n",
    "            'STREET_NO',\n",
    "            'STREET_DIRECTION',\n",
    "            'STREET_NAME',\n",
    "            'BEAT_OF_OCCURRENCE',\n",
    "            'PHOTOS_TAKEN_I',\n",
    "            'STATEMENTS_TAKEN_I',\n",
    "            'DOORING_I',\n",
    "            'WORK_ZONE_I',\n",
    "            'WORK_ZONE_TYPE',\n",
    "            'WORKERS_PRESENT_I',\n",
    "            'MOST_SEVERE_INJURY',\n",
    "            'INJURIES_TOTAL',               \n",
    "            'INJURIES_FATAL',                   \n",
    "            'INJURIES_INCAPACITATING',          \n",
    "            'INJURIES_NON_INCAPACITATING',      \n",
    "            'INJURIES_REPORTED_NOT_EVIDENT',    \n",
    "            'INJURIES_NO_INDICATION',           \n",
    "            'INJURIES_UNKNOWN',\n",
    "            'LATITUDE',\n",
    "            'LONGITUDE',\n",
    "            'LOCATION']\n",
    "\n",
    "# trimmed crash_df\n",
    "crash_df.drop(col_drop, axis=1, inplace=True)"
   ]
  },
  {
   "cell_type": "markdown",
   "metadata": {},
   "source": [
    "Let's find where the null values are in crash_df."
   ]
  },
  {
   "cell_type": "code",
   "execution_count": 11,
   "metadata": {},
   "outputs": [
    {
     "data": {
      "text/plain": [
       "CRASH_RECORD_ID           False\n",
       "POSTED_SPEED_LIMIT        False\n",
       "TRAFFIC_CONTROL_DEVICE    False\n",
       "WEATHER_CONDITION         False\n",
       "LIGHTING_CONDITION        False\n",
       "FIRST_CRASH_TYPE          False\n",
       "TRAFFICWAY_TYPE           False\n",
       "LANE_CNT                   True\n",
       "ALIGNMENT                 False\n",
       "ROADWAY_SURFACE_COND      False\n",
       "ROAD_DEFECT               False\n",
       "INTERSECTION_RELATED_I     True\n",
       "NOT_RIGHT_OF_WAY_I         True\n",
       "NUM_UNITS                 False\n",
       "CRASH_HOUR                False\n",
       "CRASH_DAY_OF_WEEK         False\n",
       "CRASH_MONTH               False\n",
       "DRIVER_ERROR              False\n",
       "dtype: bool"
      ]
     },
     "execution_count": 11,
     "metadata": {},
     "output_type": "execute_result"
    }
   ],
   "source": [
    "# where are the null values in this trimmed crash_df?\n",
    "crash_df.isna().any()"
   ]
  },
  {
   "cell_type": "markdown",
   "metadata": {},
   "source": [
    "\"LANE_CNT\" means total number of through lanes in either direction, excluding turn lanes, as determined by reporting officer (0 = intersection). How many null values are there in this column?"
   ]
  },
  {
   "cell_type": "code",
   "execution_count": 12,
   "metadata": {},
   "outputs": [
    {
     "data": {
      "text/plain": [
       "True     147162\n",
       "False    122314\n",
       "Name: LANE_CNT, dtype: int64"
      ]
     },
     "execution_count": 12,
     "metadata": {},
     "output_type": "execute_result"
    }
   ],
   "source": [
    "crash_df['LANE_CNT'].isna().value_counts()"
   ]
  },
  {
   "cell_type": "markdown",
   "metadata": {},
   "source": [
    "More than half the data in this column **are** null values. It is difficult to ascertain what, if any value, should be imputed to replace these null values - for example, a simple average of the lane count simply wouldn't work because it would not return a number of lanes that is an integer. Moreover, any attempt to impute a value to these null values would introduce bias into any analysis. \n",
    "\n",
    "Therefore, the proposal here is to drop the \"LANE_CNT\" column."
   ]
  },
  {
   "cell_type": "markdown",
   "metadata": {},
   "source": [
    "\"INTERSECTION_RELATED_I\" means a field observation by the police officer whether an intersection played a role in the crash. Does not represent whether or not the crash occurred within the intersection."
   ]
  },
  {
   "cell_type": "code",
   "execution_count": 13,
   "metadata": {
    "scrolled": true
   },
   "outputs": [
    {
     "data": {
      "text/plain": [
       "True     193859\n",
       "False     75617\n",
       "Name: INTERSECTION_RELATED_I, dtype: int64"
      ]
     },
     "execution_count": 13,
     "metadata": {},
     "output_type": "execute_result"
    }
   ],
   "source": [
    "crash_df['INTERSECTION_RELATED_I'].isna().value_counts()"
   ]
  },
  {
   "cell_type": "code",
   "execution_count": 14,
   "metadata": {},
   "outputs": [
    {
     "data": {
      "text/plain": [
       "Y    72299\n",
       "N     3318\n",
       "Name: INTERSECTION_RELATED_I, dtype: int64"
      ]
     },
     "execution_count": 14,
     "metadata": {},
     "output_type": "execute_result"
    }
   ],
   "source": [
    "crash_df['INTERSECTION_RELATED_I'].value_counts()"
   ]
  },
  {
   "cell_type": "markdown",
   "metadata": {},
   "source": [
    "Again - there are a large number of null values. Given that the values of this feature are a \"Y\" (for Yes) and a \"N\" (for No), it would not be wise to impute a Y or N value to null values because of the bias it introduces to the data. Therefore, the proposal here is to drop the \"INTERSECTION_RELATED_I\" column."
   ]
  },
  {
   "cell_type": "markdown",
   "metadata": {},
   "source": [
    "\"NOT RIGHT OF WAY I\" means whether the crash begun or first contact was made outside of the public right-of-way."
   ]
  },
  {
   "cell_type": "code",
   "execution_count": 15,
   "metadata": {},
   "outputs": [
    {
     "data": {
      "text/plain": [
       "True     258145\n",
       "False     11331\n",
       "Name: NOT_RIGHT_OF_WAY_I, dtype: int64"
      ]
     },
     "execution_count": 15,
     "metadata": {},
     "output_type": "execute_result"
    }
   ],
   "source": [
    "crash_df['NOT_RIGHT_OF_WAY_I'].isna().value_counts()"
   ]
  },
  {
   "cell_type": "code",
   "execution_count": 16,
   "metadata": {},
   "outputs": [
    {
     "data": {
      "text/plain": [
       "Y    10291\n",
       "N     1040\n",
       "Name: NOT_RIGHT_OF_WAY_I, dtype: int64"
      ]
     },
     "execution_count": 16,
     "metadata": {},
     "output_type": "execute_result"
    }
   ],
   "source": [
    "crash_df['NOT_RIGHT_OF_WAY_I'].value_counts()"
   ]
  },
  {
   "cell_type": "markdown",
   "metadata": {},
   "source": [
    "The proposal here is also to drop \"NOT_RIGHT_OF_WAY_I\" for the same reasons as above."
   ]
  },
  {
   "cell_type": "markdown",
   "metadata": {},
   "source": [
    "We can therefore afford to drop all 3 columns with null values in them. This will leave a crash_df cleaned of null values."
   ]
  },
  {
   "cell_type": "code",
   "execution_count": 17,
   "metadata": {},
   "outputs": [
    {
     "name": "stdout",
     "output_type": "stream",
     "text": [
      "<class 'pandas.core.frame.DataFrame'>\n",
      "Int64Index: 269476 entries, 1 to 466055\n",
      "Data columns (total 15 columns):\n",
      "CRASH_RECORD_ID           269476 non-null object\n",
      "POSTED_SPEED_LIMIT        269476 non-null int64\n",
      "TRAFFIC_CONTROL_DEVICE    269476 non-null object\n",
      "WEATHER_CONDITION         269476 non-null object\n",
      "LIGHTING_CONDITION        269476 non-null object\n",
      "FIRST_CRASH_TYPE          269476 non-null object\n",
      "TRAFFICWAY_TYPE           269476 non-null object\n",
      "ALIGNMENT                 269476 non-null object\n",
      "ROADWAY_SURFACE_COND      269476 non-null object\n",
      "ROAD_DEFECT               269476 non-null object\n",
      "NUM_UNITS                 269476 non-null int64\n",
      "CRASH_HOUR                269476 non-null int64\n",
      "CRASH_DAY_OF_WEEK         269476 non-null int64\n",
      "CRASH_MONTH               269476 non-null int64\n",
      "DRIVER_ERROR              269476 non-null int64\n",
      "dtypes: int64(6), object(9)\n",
      "memory usage: 32.9+ MB\n"
     ]
    }
   ],
   "source": [
    "crash_df = crash_df.drop(['LANE_CNT','INTERSECTION_RELATED_I','NOT_RIGHT_OF_WAY_I'], axis=1)\n",
    "crash_df.info()"
   ]
  },
  {
   "cell_type": "markdown",
   "metadata": {},
   "source": [
    "Thus we are investigating **269,476** crashes."
   ]
  },
  {
   "cell_type": "code",
   "execution_count": 18,
   "metadata": {},
   "outputs": [
    {
     "data": {
      "text/plain": [
       "CRASH_RECORD_ID           False\n",
       "POSTED_SPEED_LIMIT        False\n",
       "TRAFFIC_CONTROL_DEVICE    False\n",
       "WEATHER_CONDITION         False\n",
       "LIGHTING_CONDITION        False\n",
       "FIRST_CRASH_TYPE          False\n",
       "TRAFFICWAY_TYPE           False\n",
       "ALIGNMENT                 False\n",
       "ROADWAY_SURFACE_COND      False\n",
       "ROAD_DEFECT               False\n",
       "NUM_UNITS                 False\n",
       "CRASH_HOUR                False\n",
       "CRASH_DAY_OF_WEEK         False\n",
       "CRASH_MONTH               False\n",
       "DRIVER_ERROR              False\n",
       "dtype: bool"
      ]
     },
     "execution_count": 18,
     "metadata": {},
     "output_type": "execute_result"
    }
   ],
   "source": [
    "crash_df.isna().any()"
   ]
  },
  {
   "cell_type": "markdown",
   "metadata": {},
   "source": [
    "crash_df now constitutes meangingful data which covers 269,476 crashes, clean of null values."
   ]
  },
  {
   "cell_type": "code",
   "execution_count": 19,
   "metadata": {},
   "outputs": [
    {
     "name": "stdout",
     "output_type": "stream",
     "text": [
      "<class 'pandas.core.frame.DataFrame'>\n",
      "Int64Index: 269476 entries, 1 to 466055\n",
      "Data columns (total 15 columns):\n",
      "CRASH_RECORD_ID           269476 non-null object\n",
      "POSTED_SPEED_LIMIT        269476 non-null int64\n",
      "TRAFFIC_CONTROL_DEVICE    269476 non-null object\n",
      "WEATHER_CONDITION         269476 non-null object\n",
      "LIGHTING_CONDITION        269476 non-null object\n",
      "FIRST_CRASH_TYPE          269476 non-null object\n",
      "TRAFFICWAY_TYPE           269476 non-null object\n",
      "ALIGNMENT                 269476 non-null object\n",
      "ROADWAY_SURFACE_COND      269476 non-null object\n",
      "ROAD_DEFECT               269476 non-null object\n",
      "NUM_UNITS                 269476 non-null int64\n",
      "CRASH_HOUR                269476 non-null int64\n",
      "CRASH_DAY_OF_WEEK         269476 non-null int64\n",
      "CRASH_MONTH               269476 non-null int64\n",
      "DRIVER_ERROR              269476 non-null int64\n",
      "dtypes: int64(6), object(9)\n",
      "memory usage: 32.9+ MB\n"
     ]
    }
   ],
   "source": [
    "crash_df.info()"
   ]
  },
  {
   "cell_type": "markdown",
   "metadata": {},
   "source": [
    "### Categorical variables in crash_df"
   ]
  },
  {
   "cell_type": "markdown",
   "metadata": {},
   "source": [
    "What values do each column of crash_df contain?"
   ]
  },
  {
   "cell_type": "code",
   "execution_count": 20,
   "metadata": {},
   "outputs": [
    {
     "name": "stdout",
     "output_type": "stream",
     "text": [
      "POSTED_SPEED_LIMIT [30 45 25 40 15 35  0 20 10  5 55  9 39 34 50  3 12 60  7  6 33 49 32 65\n",
      " 70  2  1 11 36 99 63 24 38 16 31]\n",
      "TRAFFIC_CONTROL_DEVICE ['NO CONTROLS' 'TRAFFIC SIGNAL' 'STOP SIGN/FLASHER' 'UNKNOWN'\n",
      " 'OTHER WARNING SIGN' 'LANE USE MARKING' 'OTHER' 'OTHER REG. SIGN'\n",
      " 'SCHOOL ZONE' 'FLASHING CONTROL SIGNAL' 'PEDESTRIAN CROSSING SIGN'\n",
      " 'YIELD' 'POLICE/FLAGMAN' 'RR CROSSING SIGN' 'RAILROAD CROSSING GATE'\n",
      " 'OTHER RAILROAD CROSSING' 'DELINEATORS' 'NO PASSING'\n",
      " 'BICYCLE CROSSING SIGN']\n",
      "WEATHER_CONDITION ['CLEAR' 'RAIN' 'SNOW' 'CLOUDY/OVERCAST' 'FOG/SMOKE/HAZE' 'OTHER'\n",
      " 'UNKNOWN' 'FREEZING RAIN/DRIZZLE' 'SLEET/HAIL' 'SEVERE CROSS WIND GATE'\n",
      " 'BLOWING SNOW' 'BLOWING SAND, SOIL, DIRT']\n",
      "LIGHTING_CONDITION ['DAYLIGHT' 'DARKNESS, LIGHTED ROAD' 'DARKNESS' 'DAWN' 'DUSK' 'UNKNOWN']\n",
      "FIRST_CRASH_TYPE ['REAR END' 'ANGLE' 'PARKED MOTOR VEHICLE' 'SIDESWIPE SAME DIRECTION'\n",
      " 'TURNING' 'REAR TO FRONT' 'PEDESTRIAN' 'PEDALCYCLIST' 'FIXED OBJECT'\n",
      " 'REAR TO SIDE' 'SIDESWIPE OPPOSITE DIRECTION' 'OTHER OBJECT' 'HEAD ON'\n",
      " 'OTHER NONCOLLISION' 'REAR TO REAR' 'ANIMAL' 'TRAIN' 'OVERTURNED']\n",
      "TRAFFICWAY_TYPE ['NOT DIVIDED' 'FOUR WAY' 'ONE-WAY' 'DIVIDED - W/MEDIAN BARRIER'\n",
      " 'DIVIDED - W/MEDIAN (NOT RAISED)' 'OTHER' 'UNKNOWN' 'PARKING LOT' 'ALLEY'\n",
      " 'CENTER TURN LANE' 'FIVE POINT, OR MORE' 'T-INTERSECTION' 'RAMP'\n",
      " 'TRAFFIC ROUTE' 'DRIVEWAY' 'NOT REPORTED' 'UNKNOWN INTERSECTION TYPE'\n",
      " 'Y-INTERSECTION' 'ROUNDABOUT' 'L-INTERSECTION']\n",
      "ALIGNMENT ['STRAIGHT AND LEVEL' 'CURVE, LEVEL' 'STRAIGHT ON GRADE'\n",
      " 'STRAIGHT ON HILLCREST' 'CURVE ON HILLCREST' 'CURVE ON GRADE']\n",
      "ROADWAY_SURFACE_COND ['DRY' 'WET' 'UNKNOWN' 'ICE' 'SNOW OR SLUSH' 'OTHER' 'SAND, MUD, DIRT']\n",
      "ROAD_DEFECT ['UNKNOWN' 'NO DEFECTS' 'WORN SURFACE' 'SHOULDER DEFECT'\n",
      " 'DEBRIS ON ROADWAY' 'OTHER' 'RUT, HOLES']\n",
      "NUM_UNITS [ 2  3  1  4  5  8  6  7  9 10 11 12 15 18 16]\n",
      "CRASH_HOUR [18  2 14 13  7 20 10 19  8 22 15 16 17 12  0  9 21  4  1 11  6 23  5  3]\n",
      "CRASH_DAY_OF_WEEK [2 7 6 5 1 4 3]\n",
      "CRASH_MONTH [ 7 11  2  8  9  6  3  4  5 10 12  1]\n",
      "DRIVER_ERROR [1 0]\n"
     ]
    }
   ],
   "source": [
    "col_list = list(crash_df.columns)\n",
    "del col_list[0] #drop CRASH_RECORD_ID, we only need it as a key to join up with other datasets\n",
    "\n",
    "for col in col_list:\n",
    "    print(col,crash_df[col].unique())  #print the name of each column of crash_df and set out the unique values of that column"
   ]
  },
  {
   "cell_type": "markdown",
   "metadata": {},
   "source": [
    "Let's focus on the categorical features in crash_df. Is it possible to clean up each categorical feature further so they are more amenable to use with sci-kit learn predictors? Too many unique values make implementation of models and using those models to make predictions very tricky. As a first step, we should take a look at the distribution of the unique value for each categorical feature in crash_df."
   ]
  },
  {
   "cell_type": "code",
   "execution_count": 21,
   "metadata": {},
   "outputs": [
    {
     "data": {
      "image/png": "[encoded data removed]",
      "text/plain": [
       "<Figure size 1512x1512 with 8 Axes>"
      ]
     },
     "metadata": {
      "needs_background": "light"
     },
     "output_type": "display_data"
    }
   ],
   "source": [
    "# these are the features in crash_df that we want to remove\n",
    "# so that we are left with categorical values\n",
    "crash_remove = ['CRASH_RECORD_ID',\n",
    "                'POSTED_SPEED_LIMIT',\n",
    "                'NUM_UNITS',\n",
    "                'CRASH_HOUR',\n",
    "                'CRASH_DAY_OF_WEEK',\n",
    "                'CRASH_MONTH',\n",
    "                'DRIVER_ERROR']\n",
    "\n",
    "# these are the categorical features left in crash_df that we want to graph\n",
    "crash_cat = [feature for feature in list(crash_df.columns) if feature not in crash_remove]\n",
    "\n",
    "# let's visualise each categorical feature in crash_df \n",
    "# investigating the frequency of each unique value in each such categorical feature\n",
    "\n",
    "fig,axes = plt.subplots(3,3, figsize=(21,21), sharey=True)\n",
    "for col, ax in zip(crash_df[crash_cat].columns, axes.flatten()):\n",
    "    pd.DataFrame(crash_df[col].value_counts()).transpose().plot(kind='bar',stacked=True,rot=0,ax=ax, legend=True)\n",
    "plt.subplots_adjust(wspace=0.05, hspace=0.1)\n",
    "fig.delaxes(axes[2,2])\n",
    "plt.suptitle('Frequency of unique values in each categorical feature for crash_df', y=0.1,fontsize=25);"
   ]
  },
  {
   "cell_type": "markdown",
   "metadata": {},
   "source": [
    "<div class=\"alert alert-block alert-info\">\n",
    "    \n",
    "We can simplify each categorical feature as follows:\n",
    "\n",
    "1) **TRAFFIC_CONTROL_DEVICE** - can be binned into 2 unique features \"With control\" and \"Without Control\"\n",
    "\n",
    "2) **WEATHER_CONDITION** - should be binned into 2 unique features \"Good\" and \"Bad\"\n",
    "\n",
    "3) **ROADWAY_SURFACE_COND** - should simply be 2 unique features \"Dry\" and \"Not Dry\"\n",
    "\n",
    "4) **ROAD_DEFECT** - should simply be 2 features \"Defect\" and \"No Defect\".\n",
    "\n",
    "5) **ALIGNMENT** - overwhelmingly, this is \"STRAIGHT AND LEVEL\", we should just remove this feature, it has very little predictive value.\n",
    "\n",
    "6) **TRAFFICWAY_TYPE**  - should also simply be \"Not divided\" and \"Divided\", since \"NOT_DIVIDED\" constitutes roughly half the instances in this feature.\n",
    "\n",
    "7) **LIGHTING_CONDITION** - should simply be \"Daylight\" and \"Not Daylight\"\n",
    "\n",
    "8) **FIRST_CRASH_TYPE** merits further detailed investigation. </div>"
   ]
  },
  {
   "cell_type": "code",
   "execution_count": 22,
   "metadata": {},
   "outputs": [
    {
     "data": {
      "text/plain": [
       "REAR END                        73970\n",
       "TURNING                         46367\n",
       "SIDESWIPE SAME DIRECTION        44458\n",
       "PARKED MOTOR VEHICLE            37102\n",
       "ANGLE                           34302\n",
       "FIXED OBJECT                    10733\n",
       "PEDESTRIAN                       6073\n",
       "PEDALCYCLIST                     3970\n",
       "SIDESWIPE OPPOSITE DIRECTION     3885\n",
       "HEAD ON                          2650\n",
       "OTHER OBJECT                     1900\n",
       "REAR TO FRONT                    1698\n",
       "REAR TO SIDE                      992\n",
       "OTHER NONCOLLISION                701\n",
       "REAR TO REAR                      285\n",
       "ANIMAL                            228\n",
       "OVERTURNED                        140\n",
       "TRAIN                              22\n",
       "Name: FIRST_CRASH_TYPE, dtype: int64"
      ]
     },
     "execution_count": 22,
     "metadata": {},
     "output_type": "execute_result"
    }
   ],
   "source": [
    "## investigate FIRST_CRASH_TYPE in detail\n",
    "crash_df['FIRST_CRASH_TYPE'].value_counts()"
   ]
  },
  {
   "cell_type": "markdown",
   "metadata": {},
   "source": [
    "The approach here should be to make the simplifying assumption that there are 3 types of \"FIRST_CRASH_TYPE\", namely, \"Rear End\", \"Turning\" and \"Others\". This will help account for the 2 largest categories \"REAR_END\" and \"TURNING\"."
   ]
  },
  {
   "cell_type": "markdown",
   "metadata": {},
   "source": [
    "Let's implement the strategy for each categorical variable in crash_df as discussed above."
   ]
  },
  {
   "cell_type": "code",
   "execution_count": 23,
   "metadata": {},
   "outputs": [],
   "source": [
    "# TRAFFIC_CONTROL_DEVICE\n",
    "crash_df['TRAFFIC_CONTROL_DEVICE'] = crash_df['TRAFFIC_CONTROL_DEVICE'].apply(lambda x: 'Without Control' \\\n",
    "                                                                              if x == 'NO CONTROLS' else 'With Control')\n",
    "\n",
    "# WEATHER_CONDITION\n",
    "crash_df['WEATHER_CONDITION'] = crash_df['WEATHER_CONDITION'].apply(lambda x: 'Good' \\\n",
    "                                                                              if x == 'CLEAR' else 'Bad')\n",
    "\n",
    "# ROADWAY_SURFACE_COND\n",
    "crash_df['ROADWAY_SURFACE_COND'] = crash_df['ROADWAY_SURFACE_COND'].apply(lambda x: 'Dry' \\\n",
    "                                                                              if x == 'DRY' else 'Not Dry')\n",
    "\n",
    "# ROAD_DEFECT\n",
    "crash_df['ROAD_DEFECT'] = crash_df['ROAD_DEFECT'].apply(lambda x: 'No Defect' if x == 'NO DEFECTS' else 'Defect')\n",
    "\n",
    "# ALIGNMENT\n",
    "crash_df.drop(['ALIGNMENT'], axis=1, inplace=True)\n",
    "\n",
    "#TRAFFICWAY_TYPE\n",
    "crash_df['TRAFFICWAY_TYPE'] = crash_df['TRAFFICWAY_TYPE'].apply(lambda x: 'Not Divided'\\\n",
    "                                                                if x == 'NOT DIVIDED' else 'Divided')\n",
    "\n",
    "# LIGHTING_CONDITION\n",
    "crash_df['LIGHTING_CONDITION'] = crash_df['LIGHTING_CONDITION'].apply(lambda x: 'Daylight'\\\n",
    "                                                                      if x == 'DAYLIGHT' else 'Not Daylight')\n",
    "\n",
    "# FIRST_CRASH_TYPE\n",
    "first_crash_cols = list(crash_df['FIRST_CRASH_TYPE'].unique()) # this creates a list of the values to be binned together\n",
    "first_crash_cols.remove('REAR END')\n",
    "first_crash_cols.remove('TURNING')\n",
    "\n",
    "# create a dictionary of the values to be categorised as \"OTHERS\"\n",
    "first_crash_dict = {i: 'OTHERS' for i in first_crash_cols}\n",
    "\n",
    "# replace values which are not 'REAR END' or 'TURNING' with 'OTHERS'\n",
    "crash_df['FIRST_CRASH_TYPE'].replace(first_crash_dict, inplace=True)"
   ]
  },
  {
   "cell_type": "markdown",
   "metadata": {},
   "source": [
    "### Numerical values in crash_df"
   ]
  },
  {
   "cell_type": "markdown",
   "metadata": {},
   "source": [
    "<div class=\"alert alert-block alert-info\">\n",
    "\n",
    "Now that we have cleaned up the categorical features, we can look at the numerical features. The strategy here will be to turn the numerical features into categories so that we can, as a next step, turn them into dummy values.\n",
    "\n",
    "1) we will bin the various speed limits in **POSTED_SPEED_LIMIT** into 5 different categories of below 20, below 40, below 60, below 80 and below 100. We should also bin **CRASH_HOUR** and **CRASH_MONTH** into day/night hours and seasons respectively. \n",
    "\n",
    "2) Let's also substitute each number for **CRASH_DAY_OF_WEEK** into its actual names, assuming that the first day of the week is Sunday (such that 1=Sunday)  \n",
    "\n",
    "3) Finally, let's drop **NUM_UNITS**. It is a measure of how many vehicles/pedestrian/road user is involved in a crash. More (or less) units being involved in a crash does not intuitively have any explanatory value for whether driver_error is involved or not.</div>"
   ]
  },
  {
   "cell_type": "code",
   "execution_count": 24,
   "metadata": {},
   "outputs": [],
   "source": [
    "# bin the SPEED_LIMIT\n",
    "crash_df['SPEED_LIMIT'] = pd.cut(crash_df['POSTED_SPEED_LIMIT'], 5, labels=['20','40','60','80','100'])\n",
    "crash_df.drop(['POSTED_SPEED_LIMIT'],axis=1,inplace=True)\n",
    "\n",
    "# bin the CRASH_HOUR into 3 groups\n",
    "hour_bins = [-1, 7, 18, 24] # we need the bins to extend into negative figures to treat negative figures as under 21s.\n",
    "hour_labels = ['Night', 'Daytime', 'Evening']\n",
    "crash_df['CRASH_HOUR'] = pd.cut(crash_df['CRASH_HOUR'], bins=hour_bins, labels = hour_labels)\n",
    "\n",
    "# bin the CRASH_MONTH\n",
    "month_bins = [0, 3, 6, 9, 12] # we need the bins to extend into negative figures to treat negative figures as under 21s.\n",
    "month_labels = ['winter', 'spring', 'summer', 'autumn']\n",
    "crash_df['CRASH_MONTH'] = pd.cut(crash_df['CRASH_MONTH'], bins=month_bins, labels = month_labels)\n",
    "\n",
    "# replace day of the week into the actual names of the days of the week\n",
    "crash_df['CRASH_DAY_OF_WEEK'].replace(to_replace={1:'Sun',2:'Mon',3:'Tues',4:'Wed',5:'Thu',6:'Fri',7:'Sat'},value=None, inplace=True)\n",
    "\n",
    "# drop NUM_UNITS\n",
    "crash_df.drop(['NUM_UNITS'],axis=1, inplace=True)"
   ]
  },
  {
   "cell_type": "markdown",
   "metadata": {},
   "source": [
    "### Double check whether crash_df has been cleaned"
   ]
  },
  {
   "cell_type": "markdown",
   "metadata": {},
   "source": [
    "Are there any more null values?"
   ]
  },
  {
   "cell_type": "code",
   "execution_count": 25,
   "metadata": {},
   "outputs": [
    {
     "data": {
      "text/plain": [
       "CRASH_RECORD_ID           False\n",
       "TRAFFIC_CONTROL_DEVICE    False\n",
       "WEATHER_CONDITION         False\n",
       "LIGHTING_CONDITION        False\n",
       "FIRST_CRASH_TYPE          False\n",
       "TRAFFICWAY_TYPE           False\n",
       "ROADWAY_SURFACE_COND      False\n",
       "ROAD_DEFECT               False\n",
       "CRASH_HOUR                False\n",
       "CRASH_DAY_OF_WEEK         False\n",
       "CRASH_MONTH               False\n",
       "DRIVER_ERROR              False\n",
       "SPEED_LIMIT               False\n",
       "dtype: bool"
      ]
     },
     "execution_count": 25,
     "metadata": {},
     "output_type": "execute_result"
    }
   ],
   "source": [
    "# double check crash_df has no null values\n",
    "crash_df.isna().any()"
   ]
  },
  {
   "cell_type": "markdown",
   "metadata": {},
   "source": [
    "Have a look again at the values of crash_df. We have cleaned up the various unique values by grouping them into fewer categories. This will make sklearn models run more efficiently."
   ]
  },
  {
   "cell_type": "code",
   "execution_count": 26,
   "metadata": {},
   "outputs": [
    {
     "name": "stdout",
     "output_type": "stream",
     "text": [
      "TRAFFIC_CONTROL_DEVICE ['Without Control' 'With Control']\n",
      "WEATHER_CONDITION ['Good' 'Bad']\n",
      "LIGHTING_CONDITION ['Daylight' 'Not Daylight']\n",
      "FIRST_CRASH_TYPE ['REAR END' 'OTHERS' 'TURNING']\n",
      "TRAFFICWAY_TYPE ['Not Divided' 'Divided']\n",
      "ROADWAY_SURFACE_COND ['Dry' 'Not Dry']\n",
      "ROAD_DEFECT ['Defect' 'No Defect']\n",
      "CRASH_HOUR [Daytime, Night, Evening]\n",
      "Categories (3, object): [Night < Daytime < Evening]\n",
      "CRASH_DAY_OF_WEEK ['Mon' 'Sat' 'Fri' 'Thu' 'Sun' 'Wed' 'Tues']\n",
      "CRASH_MONTH [summer, autumn, winter, spring]\n",
      "Categories (4, object): [winter < spring < summer < autumn]\n",
      "DRIVER_ERROR [1 0]\n",
      "SPEED_LIMIT [40, 60, 20, 80, 100]\n",
      "Categories (5, object): [20 < 40 < 60 < 80 < 100]\n"
     ]
    }
   ],
   "source": [
    "col_list = list(crash_df.columns)\n",
    "del col_list[0] #drop CRASH_RECORD_ID, we only need it as a key to join up with other datasets\n",
    "\n",
    "for col in col_list:\n",
    "    print(col,crash_df[col].unique())  #print the name of each column of crash_df and set out the unique values of that column"
   ]
  },
  {
   "cell_type": "code",
   "execution_count": 27,
   "metadata": {},
   "outputs": [
    {
     "name": "stdout",
     "output_type": "stream",
     "text": [
      "<class 'pandas.core.frame.DataFrame'>\n",
      "Int64Index: 269476 entries, 1 to 466055\n",
      "Data columns (total 13 columns):\n",
      "CRASH_RECORD_ID           269476 non-null object\n",
      "TRAFFIC_CONTROL_DEVICE    269476 non-null object\n",
      "WEATHER_CONDITION         269476 non-null object\n",
      "LIGHTING_CONDITION        269476 non-null object\n",
      "FIRST_CRASH_TYPE          269476 non-null object\n",
      "TRAFFICWAY_TYPE           269476 non-null object\n",
      "ROADWAY_SURFACE_COND      269476 non-null object\n",
      "ROAD_DEFECT               269476 non-null object\n",
      "CRASH_HOUR                269476 non-null category\n",
      "CRASH_DAY_OF_WEEK         269476 non-null object\n",
      "CRASH_MONTH               269476 non-null category\n",
      "DRIVER_ERROR              269476 non-null int64\n",
      "SPEED_LIMIT               269476 non-null category\n",
      "dtypes: category(3), int64(1), object(9)\n",
      "memory usage: 23.4+ MB\n"
     ]
    }
   ],
   "source": [
    "crash_df.info()"
   ]
  },
  {
   "cell_type": "markdown",
   "metadata": {
    "heading_collapsed": true
   },
   "source": [
    "# Modelling crash_df only"
   ]
  },
  {
   "cell_type": "markdown",
   "metadata": {
    "hidden": true
   },
   "source": [
    "## Preparing crash_df for modelling"
   ]
  },
  {
   "cell_type": "code",
   "execution_count": 28,
   "metadata": {
    "hidden": true
   },
   "outputs": [],
   "source": [
    "# prepare the crash_df data for modelling\n",
    "# this includes using SMOTE to address class imbalance\n",
    "\n",
    "# split crash_df into target and predictors\n",
    "target = crash_df['DRIVER_ERROR']\n",
    "crash_predictors = crash_df.drop(['DRIVER_ERROR','CRASH_RECORD_ID'], axis=1)\n",
    "\n",
    "# one hot encode crash_predictors\n",
    "ohe_crash = OneHotEncoder()\n",
    "crash_predictors_1hot = ohe_crash.fit_transform(crash_predictors)\n",
    "\n",
    "# split predictors into test and training sets\n",
    "X_train, X_test, y_train, y_test = train_test_split(crash_predictors_1hot, target, test_size=0.25, random_state=42)\n",
    "\n",
    "# fit SMOTE to training data\n",
    "smote = SMOTE()\n",
    "X_train_resampled, y_train_resampled = smote.fit_sample(X_train,y_train)\n",
    "\n",
    "# function to evaluate each model\n",
    "def model_evaluation(y_test,pred):\n",
    "    \n",
    "    acc = accuracy_score(y_test, pred) # check the accuracy\n",
    "    precision = precision_score(y_test,pred) # check the precision\n",
    "    recall = recall_score(y_test, pred) # check the recall\n",
    "\n",
    "    # check the AUC of predictions\n",
    "    fpr, tpr, thresholds = roc_curve(y_test,pred)\n",
    "    roc_auc = auc(fpr,tpr)\n",
    "\n",
    "    return print('Accuracy is {0}\\nPrecision/Specificity is {1}\\nRecall/Sensitivity is {2}\\nAUC is {3}'\\\n",
    "                 .format(acc, precision, recall, roc_auc))"
   ]
  },
  {
   "cell_type": "markdown",
   "metadata": {
    "heading_collapsed": true,
    "hidden": true
   },
   "source": [
    "## Logistic Regression"
   ]
  },
  {
   "cell_type": "code",
   "execution_count": 29,
   "metadata": {
    "hidden": true
   },
   "outputs": [
    {
     "name": "stdout",
     "output_type": "stream",
     "text": [
      "Accuracy is 0.7584052012053022\n",
      "Precision/Specificity is 0.9670369114802481\n",
      "Recall/Sensitivity is 0.7683191533184404\n",
      "AUC is 0.6897804609489662\n"
     ]
    }
   ],
   "source": [
    "# instantiate logistic regression\n",
    "crash_logreg = LogisticRegression(fit_intercept=False, C=1e16, solver='liblinear')\n",
    "\n",
    "# fit a logistic regression model using the training set\n",
    "crash_logreg.fit(X_train_resampled,y_train_resampled)\n",
    "\n",
    "pred = crash_logreg.predict(X_test)\n",
    "\n",
    "# evaluate model\n",
    "model_evaluation(y_test,pred)"
   ]
  },
  {
   "cell_type": "code",
   "execution_count": 30,
   "metadata": {
    "hidden": true
   },
   "outputs": [],
   "source": [
    "# logreg cross validation score\n",
    "crash_logreg_cv_score = np.mean(cross_val_score(crash_logreg, X_train_resampled, y_train_resampled, cv=5, scoring='accuracy'))"
   ]
  },
  {
   "cell_type": "code",
   "execution_count": 31,
   "metadata": {
    "hidden": true
   },
   "outputs": [
    {
     "data": {
      "text/plain": [
       "<sklearn.metrics._plot.confusion_matrix.ConfusionMatrixDisplay at 0x13607009668>"
      ]
     },
     "execution_count": 31,
     "metadata": {},
     "output_type": "execute_result"
    },
    {
     "data": {
      "image/png": "[encoded data removed]",
      "text/plain": [
       "<Figure size 432x288 with 2 Axes>"
      ]
     },
     "metadata": {
      "needs_background": "light"
     },
     "output_type": "display_data"
    }
   ],
   "source": [
    "plot_confusion_matrix(crash_logreg,X_test,y_test)"
   ]
  },
  {
   "cell_type": "markdown",
   "metadata": {
    "hidden": true
   },
   "source": [
    "## Decision Tree"
   ]
  },
  {
   "cell_type": "code",
   "execution_count": 32,
   "metadata": {
    "hidden": true
   },
   "outputs": [
    {
     "name": "stdout",
     "output_type": "stream",
     "text": [
      "Accuracy is 0.8329647167094658\n",
      "Precision/Specificity is 0.9540392898413699\n",
      "Recall/Sensitivity is 0.8633014877132944\n",
      "AUC is 0.6229724748067883\n"
     ]
    }
   ],
   "source": [
    "# instantiate Decision Tree Classifier\n",
    "crash_tree_clf = DecisionTreeClassifier(criterion='entropy', random_state=42)\n",
    "\n",
    "# fit the model\n",
    "crash_tree_clf.fit(X_train_resampled,y_train_resampled)\n",
    "\n",
    "# make prediction using the test set\n",
    "pred = crash_tree_clf.predict(X_test)\n",
    "\n",
    "# evaluate model\n",
    "model_evaluation(y_test,pred)"
   ]
  },
  {
   "cell_type": "code",
   "execution_count": 33,
   "metadata": {
    "hidden": true
   },
   "outputs": [
    {
     "data": {
      "text/plain": [
       "0.812372458469065"
      ]
     },
     "execution_count": 33,
     "metadata": {},
     "output_type": "execute_result"
    }
   ],
   "source": [
    "# tree_clf cross validation score\n",
    "crash_tree_cv_score = np.mean(cross_val_score(crash_tree_clf, X_train_resampled, y_train_resampled, cv=5, scoring='accuracy'))\n",
    "crash_tree_cv_score"
   ]
  },
  {
   "cell_type": "code",
   "execution_count": 34,
   "metadata": {
    "hidden": true
   },
   "outputs": [
    {
     "data": {
      "text/plain": [
       "36"
      ]
     },
     "execution_count": 34,
     "metadata": {},
     "output_type": "execute_result"
    }
   ],
   "source": [
    "crash_tree_clf.get_depth()"
   ]
  },
  {
   "cell_type": "code",
   "execution_count": 35,
   "metadata": {
    "hidden": true
   },
   "outputs": [
    {
     "name": "stdout",
     "output_type": "stream",
     "text": [
      "Mean training score: 0.5877116716898608\n",
      "Mean test score: 0.7707254078285265\n",
      "Best Parameter Combination during Grid Search:{'criterion': 'gini', 'max_depth': None, 'min_samples_leaf': 0.2, 'min_samples_split': 0.1}\n"
     ]
    }
   ],
   "source": [
    "# parameter grid for GridSearch CV\n",
    "crash_tree_param_grid = {'criterion':['gini','entropy'],\n",
    "                 'max_depth':[None, 3, 15, 25, 37],\n",
    "                 'min_samples_split':[0.1, 0.5, 1.0],\n",
    "                 'min_samples_leaf':[0.2, 0.5]}\n",
    "\n",
    "# instantiate GridSearchCV\n",
    "crash_tree_grid_search = GridSearchCV(crash_tree_clf,crash_tree_param_grid, cv=3, return_train_score=True)\n",
    "\n",
    "# fit to data\n",
    "crash_tree_grid_search.fit(X_train_resampled,y_train_resampled)\n",
    "\n",
    "# mean training score\n",
    "print('Mean training score: {0}'.format(np.mean(crash_tree_grid_search.cv_results_['mean_train_score'])))\n",
    "\n",
    "# mean test score\n",
    "print('Mean test score: {0}'.format(crash_tree_grid_search.score(X_test,y_test)))\n",
    "\n",
    "# Best params using GridSearchCV\n",
    "print(f'Best Parameter Combination during Grid Search:{crash_tree_grid_search.best_params_}')"
   ]
  },
  {
   "cell_type": "code",
   "execution_count": 36,
   "metadata": {
    "hidden": true
   },
   "outputs": [
    {
     "data": {
      "text/plain": [
       "<sklearn.metrics._plot.confusion_matrix.ConfusionMatrixDisplay at 0x13606fc77f0>"
      ]
     },
     "execution_count": 36,
     "metadata": {},
     "output_type": "execute_result"
    },
    {
     "data": {
      "image/png": "[encoded data removed]",
      "text/plain": [
       "<Figure size 432x288 with 2 Axes>"
      ]
     },
     "metadata": {
      "needs_background": "light"
     },
     "output_type": "display_data"
    }
   ],
   "source": [
    "plot_confusion_matrix(crash_tree_clf,X_test,y_test)"
   ]
  },
  {
   "cell_type": "markdown",
   "metadata": {
    "hidden": true
   },
   "source": [
    "## XGBoost"
   ]
  },
  {
   "cell_type": "code",
   "execution_count": 37,
   "metadata": {
    "hidden": true
   },
   "outputs": [
    {
     "name": "stdout",
     "output_type": "stream",
     "text": [
      "Accuracy is 0.8139351927444374\n",
      "Precision/Specificity is 0.9642083623949195\n",
      "Recall/Sensitivity is 0.8322955780534563\n",
      "AUC is 0.6868439320182615\n"
     ]
    }
   ],
   "source": [
    "# instantiate XGB Classifier\n",
    "crash_xgb_clf = xgb.XGBClassifier()\n",
    "\n",
    "#  fit the model\n",
    "crash_xgb_clf.fit(X_train_resampled,y_train_resampled)\n",
    "\n",
    "# make predictions using the test set\n",
    "pred = crash_xgb_clf.predict(X_test)\n",
    "\n",
    "# evaluation of model\n",
    "model_evaluation(y_test,pred)"
   ]
  },
  {
   "cell_type": "code",
   "execution_count": 38,
   "metadata": {
    "hidden": true
   },
   "outputs": [
    {
     "data": {
      "text/plain": [
       "<sklearn.metrics._plot.confusion_matrix.ConfusionMatrixDisplay at 0x13606fc91d0>"
      ]
     },
     "execution_count": 38,
     "metadata": {},
     "output_type": "execute_result"
    },
    {
     "data": {
      "image/png": "[encoded data removed]",
      "text/plain": [
       "<Figure size 432x288 with 2 Axes>"
      ]
     },
     "metadata": {
      "needs_background": "light"
     },
     "output_type": "display_data"
    }
   ],
   "source": [
    "plot_confusion_matrix(crash_xgb_clf,X_test,y_test)"
   ]
  },
  {
   "cell_type": "markdown",
   "metadata": {
    "hidden": true
   },
   "source": [
    "## Random Forest "
   ]
  },
  {
   "cell_type": "code",
   "execution_count": 39,
   "metadata": {
    "hidden": true
   },
   "outputs": [
    {
     "name": "stdout",
     "output_type": "stream",
     "text": [
      "Accuracy is 0.8359482848194273\n",
      "Precision/Specificity is 0.953598996358314\n",
      "Recall/Sensitivity is 0.8670881062154412\n",
      "AUC is 0.6203972986392352\n"
     ]
    }
   ],
   "source": [
    "# instantiate Decision Tree Classifier\n",
    "crash_forest_clf = RandomForestClassifier()\n",
    "\n",
    "# fit the model\n",
    "crash_forest_clf.fit(X_train_resampled,y_train_resampled)\n",
    "\n",
    "# make prediction using the test set\n",
    "pred = crash_forest_clf.predict(X_test)\n",
    "\n",
    "# evaluate model\n",
    "model_evaluation(y_test,pred)"
   ]
  },
  {
   "cell_type": "code",
   "execution_count": 40,
   "metadata": {
    "hidden": true
   },
   "outputs": [
    {
     "name": "stdout",
     "output_type": "stream",
     "text": [
      "Mean Cross Validation Score for Random Forest Calssifier: 0.8145517967273651\n"
     ]
    }
   ],
   "source": [
    "crash_forest = RandomForestClassifier()\n",
    "crash_mean_rf_cv_score = np.mean(cross_val_score(crash_forest, X_train_resampled, y_train_resampled, cv=3))\n",
    "print(f'Mean Cross Validation Score for Random Forest Calssifier: {crash_mean_rf_cv_score}')"
   ]
  },
  {
   "cell_type": "markdown",
   "metadata": {
    "hidden": true
   },
   "source": [
    "## Voting Classifier -  making this an ensemble model"
   ]
  },
  {
   "cell_type": "code",
   "execution_count": 41,
   "metadata": {
    "hidden": true
   },
   "outputs": [
    {
     "name": "stdout",
     "output_type": "stream",
     "text": [
      "Accuracy is 0.8359482848194273\n",
      "Precision/Specificity is 0.953598996358314\n",
      "Recall/Sensitivity is 0.8670881062154412\n",
      "AUC is 0.6203972986392352\n"
     ]
    }
   ],
   "source": [
    "# instantiate the voting classifier\n",
    "crash_voting_clf = VotingClassifier(estimators=[('crash_logreg',crash_logreg),\n",
    "                                          ('crash_tree_clf',crash_tree_clf),\n",
    "                                          ('crash_forest_clf',crash_forest_clf),\n",
    "                                          ('crash_xgb_clf', crash_xgb_clf)],\n",
    "                                    voting = 'hard')\n",
    "\n",
    "# fit the voting classifier on the date\n",
    "crash_voting_clf.fit(X_train_resampled,y_train_resampled)\n",
    "\n",
    "# make predictions using the test set and the voting classifier\n",
    "crash_voting_clf_pred = crash_voting_clf.predict(X_test)\n",
    "\n",
    "# evaluate the accuracy of the model\n",
    "model_evaluation(y_test,pred)"
   ]
  },
  {
   "cell_type": "code",
   "execution_count": 42,
   "metadata": {
    "hidden": true
   },
   "outputs": [
    {
     "data": {
      "text/plain": [
       "array([[ 2495,  1757],\n",
       "       [13277, 49840]], dtype=int64)"
      ]
     },
     "execution_count": 42,
     "metadata": {},
     "output_type": "execute_result"
    }
   ],
   "source": [
    "confusion_matrix(y_test,crash_voting_clf_pred)"
   ]
  },
  {
   "cell_type": "markdown",
   "metadata": {},
   "source": [
    "# EDA of vehicles dataset"
   ]
  },
  {
   "cell_type": "markdown",
   "metadata": {},
   "source": [
    "The vehicles dataset contains data about the vehicles that are involved in the crashes within the overall dataset (including those crashes we are investigating). The intention is to merge certain features of the vehicles dataset with crash_df above (which is data relating only to the crashes we are investigating) and test whether those features can help predict whether a certain crash is caused by a **driver error**."
   ]
  },
  {
   "cell_type": "code",
   "execution_count": 28,
   "metadata": {},
   "outputs": [
    {
     "name": "stdout",
     "output_type": "stream",
     "text": [
      "<class 'pandas.core.frame.DataFrame'>\n",
      "RangeIndex: 950955 entries, 0 to 950954\n",
      "Data columns (total 72 columns):\n",
      "CRASH_UNIT_ID               950955 non-null int64\n",
      "CRASH_RECORD_ID             950955 non-null object\n",
      "RD_NO                       944309 non-null object\n",
      "CRASH_DATE                  950955 non-null object\n",
      "UNIT_NO                     950955 non-null int64\n",
      "UNIT_TYPE                   949530 non-null object\n",
      "NUM_PASSENGERS              142939 non-null float64\n",
      "VEHICLE_ID                  928755 non-null float64\n",
      "CMRC_VEH_I                  17648 non-null object\n",
      "MAKE                        928750 non-null object\n",
      "MODEL                       928608 non-null object\n",
      "LIC_PLATE_STATE             850815 non-null object\n",
      "VEHICLE_YEAR                779056 non-null float64\n",
      "VEHICLE_DEFECT              928755 non-null object\n",
      "VEHICLE_TYPE                928755 non-null object\n",
      "VEHICLE_USE                 928755 non-null object\n",
      "TRAVEL_DIRECTION            928755 non-null object\n",
      "MANEUVER                    928755 non-null object\n",
      "TOWED_I                     105850 non-null object\n",
      "FIRE_I                      674 non-null object\n",
      "OCCUPANT_CNT                928755 non-null float64\n",
      "EXCEED_SPEED_LIMIT_I        2387 non-null object\n",
      "TOWED_BY                    77157 non-null object\n",
      "TOWED_TO                    48512 non-null object\n",
      "AREA_00_I                   37343 non-null object\n",
      "AREA_01_I                   246294 non-null object\n",
      "AREA_02_I                   164472 non-null object\n",
      "AREA_03_I                   90373 non-null object\n",
      "AREA_04_I                   95760 non-null object\n",
      "AREA_05_I                   144928 non-null object\n",
      "AREA_06_I                   141939 non-null object\n",
      "AREA_07_I                   121143 non-null object\n",
      "AREA_08_I                   162980 non-null object\n",
      "AREA_09_I                   36444 non-null object\n",
      "AREA_10_I                   52863 non-null object\n",
      "AREA_11_I                   105385 non-null object\n",
      "AREA_12_I                   103570 non-null object\n",
      "AREA_99_I                   99087 non-null object\n",
      "FIRST_CONTACT_POINT         922944 non-null object\n",
      "CMV_ID                      10115 non-null float64\n",
      "USDOT_NO                    5904 non-null object\n",
      "CCMC_NO                     1321 non-null object\n",
      "ILCC_NO                     957 non-null object\n",
      "COMMERCIAL_SRC              7282 non-null object\n",
      "GVWR                        5879 non-null object\n",
      "CARRIER_NAME                9704 non-null object\n",
      "CARRIER_STATE               9175 non-null object\n",
      "CARRIER_CITY                9015 non-null object\n",
      "HAZMAT_PLACARDS_I           208 non-null object\n",
      "HAZMAT_NAME                 39 non-null object\n",
      "UN_NO                       381 non-null object\n",
      "HAZMAT_PRESENT_I            7446 non-null object\n",
      "HAZMAT_REPORT_I             7213 non-null object\n",
      "HAZMAT_REPORT_NO            0 non-null float64\n",
      "MCS_REPORT_I                7263 non-null object\n",
      "MCS_REPORT_NO               5 non-null object\n",
      "HAZMAT_VIO_CAUSE_CRASH_I    7326 non-null object\n",
      "MCS_VIO_CAUSE_CRASH_I       7208 non-null object\n",
      "IDOT_PERMIT_NO              604 non-null object\n",
      "WIDE_LOAD_I                 89 non-null object\n",
      "TRAILER1_WIDTH              2109 non-null object\n",
      "TRAILER2_WIDTH              237 non-null object\n",
      "TRAILER1_LENGTH             1720 non-null float64\n",
      "TRAILER2_LENGTH             47 non-null float64\n",
      "TOTAL_VEHICLE_LENGTH        2081 non-null float64\n",
      "AXLE_CNT                    2963 non-null float64\n",
      "VEHICLE_CONFIG              8432 non-null object\n",
      "CARGO_BODY_TYPE             8071 non-null object\n",
      "LOAD_TYPE                   7730 non-null object\n",
      "HAZMAT_OUT_OF_SERVICE_I     7003 non-null object\n",
      "MCS_OUT_OF_SERVICE_I        7197 non-null object\n",
      "HAZMAT_CLASS                698 non-null object\n",
      "dtypes: float64(10), int64(2), object(60)\n",
      "memory usage: 522.4+ MB\n"
     ]
    }
   ],
   "source": [
    "vehicles.info()"
   ]
  },
  {
   "cell_type": "markdown",
   "metadata": {},
   "source": [
    "There are a lot of features here, it might be easier to pick out relevant features which we think may have explanatory value."
   ]
  },
  {
   "cell_type": "code",
   "execution_count": 29,
   "metadata": {},
   "outputs": [],
   "source": [
    "vehicles_col_incl = ['CRASH_RECORD_ID', # remember to include the key to join with the crash dataset\n",
    "                     'NUM_PASSENGERS',\n",
    "                     'MAKE',\n",
    "                     'MODEL',\n",
    "                     'LIC_PLATE_STATE',\n",
    "                     'VEHICLE_ID',\n",
    "                     'VEHICLE_YEAR',\n",
    "                     'VEHICLE_DEFECT',\n",
    "                     'VEHICLE_TYPE', \n",
    "                     'VEHICLE_USE',  \n",
    "                     'TRAVEL_DIRECTION',\n",
    "                     'MANEUVER',\n",
    "                     'EXCEED_SPEED_LIMIT_I',\n",
    "                     'FIRST_CONTACT_POINT',\n",
    "                     'OCCUPANT_CNT'\n",
    "                    ]\n",
    "\n",
    "vehicles_df = vehicles[vehicles_col_incl] # we want to work with vehicles_df going forward"
   ]
  },
  {
   "cell_type": "markdown",
   "metadata": {},
   "source": [
    "To reduce the size of the vehicle database we have to work with, let's list all the crash record IDs from crash_df and cross reference it with vehicles_df so that only vehicles which relate to the crashes we are investigating are in vehicles_df."
   ]
  },
  {
   "cell_type": "code",
   "execution_count": 30,
   "metadata": {},
   "outputs": [
    {
     "name": "stdout",
     "output_type": "stream",
     "text": [
      "<class 'pandas.core.frame.DataFrame'>\n",
      "Int64Index: 554856 entries, 4 to 950952\n",
      "Data columns (total 15 columns):\n",
      "CRASH_RECORD_ID         554856 non-null object\n",
      "NUM_PASSENGERS          95603 non-null float64\n",
      "MAKE                    542188 non-null object\n",
      "MODEL                   542103 non-null object\n",
      "LIC_PLATE_STATE         507207 non-null object\n",
      "VEHICLE_ID              542192 non-null float64\n",
      "VEHICLE_YEAR            478924 non-null float64\n",
      "VEHICLE_DEFECT          542192 non-null object\n",
      "VEHICLE_TYPE            542192 non-null object\n",
      "VEHICLE_USE             542192 non-null object\n",
      "TRAVEL_DIRECTION        542192 non-null object\n",
      "MANEUVER                542192 non-null object\n",
      "EXCEED_SPEED_LIMIT_I    2144 non-null object\n",
      "FIRST_CONTACT_POINT     539130 non-null object\n",
      "OCCUPANT_CNT            542192 non-null float64\n",
      "dtypes: float64(4), object(11)\n",
      "memory usage: 67.7+ MB\n"
     ]
    }
   ],
   "source": [
    "crash_ID_list = list(crash_df['CRASH_RECORD_ID'])\n",
    "\n",
    "vehicles_df = vehicles_df.loc[vehicles_df['CRASH_RECORD_ID'].isin(crash_ID_list)]\n",
    "vehicles_df.info()"
   ]
  },
  {
   "cell_type": "markdown",
   "metadata": {},
   "source": [
    "Whilst we are investigating 269,476 crashes, there are usually multiple vehicles involved in the same crash (and hence with the same crash record ID), this gives rise to a number of relevant vehicles which are in excess of 269,476.\n",
    "\n",
    "Let's take a look at what's inside vehicles_df. Remember, these are the vehicles that were involved in the crashes (crash_df) we are investigating and we are only investigating crashes with a definitive cause."
   ]
  },
  {
   "cell_type": "code",
   "execution_count": 31,
   "metadata": {},
   "outputs": [
    {
     "name": "stdout",
     "output_type": "stream",
     "text": [
      "NUM_PASSENGERS [nan  1.  2.  4.  3.  5.  7.  6. 27. 11. 10.  8.  9. 13. 12. 29. 15. 14.\n",
      " 23. 35. 28. 36. 34. 25. 19. 43. 17. 18. 32. 42. 59. 38. 24. 26. 20. 40.\n",
      " 16. 21. 37.]\n",
      "MAKE ['BUICK' 'HONDA' 'SUBARU' 'SCION' nan 'NEW FLYER'\n",
      " 'TOYOTA MOTOR COMPANY, LTD.' 'CHEVROLET' 'KIA MOTORS CORP' 'VOLKSWAGEN'\n",
      " 'STERLING' 'LEXUS' 'MERCURY' 'TOYOTA' 'NISSAN' 'HYUNDAI' 'FORD'\n",
      " 'CHRYSLER' 'PONTIAC' 'JEEP' 'UNKNOWN' 'INFINITI' 'MITSUBISHI' 'KIA'\n",
      " 'DODGE' 'MERCEDES-BENZ' 'MAZDA' 'ACURA' 'LAND ROVER' 'PORSCHE' 'BMW'\n",
      " 'GREAT DANE TRAILERS INC.' 'FREIGHTLINER CORP.' 'GENERAL MOTORS CORP.'\n",
      " 'AUDI' 'ISUZU' 'HINO' 'MASERATI' '(UNLISTED MAKE)' 'MACK TRUCKS, INC.'\n",
      " 'CADILLAC' 'SUZUKI' 'GENERAL MOTORS CORPORATION (GMC)' 'VOLVO'\n",
      " '(HOMEMADE TRAILER)' 'SAAB' 'KENWORTH MOTOR TRUCK COMPANY'\n",
      " 'FREIGHTLINER CORPORATION' 'SATURN'\n",
      " 'MACK TRAILER MANUFACTURING COMPANY, INC. (DETRIOT, MI)' 'LINCOLN'\n",
      " 'ACURA (DIV. OF AMERICAN HONDA MOTOR CO.)' 'OLDSMOBILE'\n",
      " 'ACE TRAILER OF AMERICA' \"FLEET CAP'N TRAILERS\"\n",
      " 'INTERNATIONAL COACH MFG.' 'STARCRAFT CORP.' 'LINCOLN-CONTINENTAL'\n",
      " 'KENWORTH MOTOR TRUCK CO.' 'COOK SEMI TRAILER'\n",
      " 'EL DORADO INTERNATIONAL, INC.; EL DORADO MFG., LTD.' 'THOMAS & CO.'\n",
      " 'JAGUAR' 'RANGE ROVER OF NORTH AMERICA' 'SUBURBAN MOTORS, INC.'\n",
      " 'INTERNATIONAL TRAILER CORP.' 'EXCEL MOTOR HOME TRUCK' 'TESLA MOTORS'\n",
      " 'ALFA ROMEO' 'GEO' 'FIAT' '(HOMEMADE MOTORCYCLE, MOPED.ETC.)'\n",
      " 'TOWN & COUNTRY MANUFACTURING' 'AUTOCAR'\n",
      " 'PETERBILT MOTORS CO., DIVISION PACCAR, INC.' 'BLUEBIRD INTERNATIONAL'\n",
      " 'HYUNDAI TRAILERS' 'AM GENERAL/HUMMER' 'KEN TRAILER' 'CARAVAN INDUSTRIES'\n",
      " 'BANTAM CRANE' 'DAEWOO MOTORS' 'WORLD TRAILERS, INC., OCALA, FL'\n",
      " 'INTERNATIONAL TRAILER CORPORATION' 'HARLEY-DAVIDSON' 'RYDER' 'RAMBLER'\n",
      " 'VESPA' 'MINI' 'DUCATI' 'AMTRAN CORP, GENSIS BUSES' 'MUSTANG'\n",
      " 'UTILITY TRAILER MANUFACTURING COMPANY'\n",
      " 'WABCO CONSTRUCTION & MINING EQUIPMENT GROUP'\n",
      " 'MACK TRAILER MFG. CO., INC., DETRIOT, MI' 'CROSS TRUCK EQUIPMENT CO.'\n",
      " 'DART, KW' 'PLYMOUTH' 'BOXER TRAILER' 'UTILITY TRAILER'\n",
      " 'BLUE BIRD BODY CO.' 'CUSHMAN TURF-OMC LINCOLN' 'HUMMER'\n",
      " 'PREVOST CAR / BUS (SAINTE CLAIRE, QUEBEC)'\n",
      " 'PETERBILT MOTORS COMPANY (DIVISION OF PACCAR, INC.)'\n",
      " 'PREVOST CAR, BUS, SAINTE CLAIRE, QUEBEC' 'ENGLISH FORD (BRITISH)'\n",
      " 'CUB CADET (MANUFACTURED BY INTERNATIONAL HARVESTER COMPANY)'\n",
      " 'MOTOR COACH INDUSTRIES, INC.' 'ELGIN SWEEPER COMPANY. ELGIN, IL'\n",
      " 'GILL MFG. CO.' 'HINDUSTAN' 'YAMAHA' 'SCOOTALONG' 'TOW LOW'\n",
      " 'INTERNATIONAL HARVESTER' 'SPARTAN MOTORS, INC. (CHARLOTTE, MI)' 'PTV'\n",
      " 'TESLA' 'CAN-AM' 'GILL MANUFACTURING COMPANY' 'STERLING INDUSTRIAL CORP.'\n",
      " 'INTERNATIONAL HARVESTER CO.' 'THOMAS BUILT BUS CO.' 'ICL CARGO TRAILER'\n",
      " 'FLEETWOOD ENTERPRISES' 'CHARGER' 'DODD MFG. CO., INC.' 'KON KWEST MFG.'\n",
      " 'RAMSEY TRAILERS' 'GENERAL' 'THOMAS BUILT BUS COMPANY'\n",
      " 'TRUCK & TRAILER EQUIPMENT COMPANY (\"EMJAY\" TRAILERS)' 'FERRARI' 'COOPER'\n",
      " 'MINISCOOTER' 'GRUMANN-OLSEN' 'SMART'\n",
      " 'BOBCAT SKID STEER LOADER, (MFD. BY MELROE DIV.)' 'KTM'\n",
      " 'AMERICAN ROAD EQUIPMENT (OMAHA, NB)'\n",
      " 'HINES MANUFACTURING COMPANY (ROCKY MOUNT, NC)' 'TRANSIT'\n",
      " 'VICTORY IMPLEMENT COMPANY'\n",
      " 'UTILITY TRAILER MFG. CO.(\"UTILITY\" TRAILERS)' 'HEILITE TRAILERS, INC.'\n",
      " 'EALGE INTERNATIONAL, INC., BROWNSVILL, TEXAS' 'STOUGHTON TRAILERS, INC.'\n",
      " 'FEDERAL' 'DEERE, JOHN; DEERE & CO.' 'INTERNATIONAL COACH MANUFACTURING'\n",
      " 'NAVISTAR' 'FLEXIBLE' 'WORK HORSE MFG.'\n",
      " 'LINCOLN ELECTRIC CO., INC. CLEVELAND, OH ; LINCOLN WELDER'\n",
      " 'ACURA SLX (SPORTS UTILITY)'\n",
      " 'NATIONAL CRANE CORP., SUBIDAIRY WALTER KIDDE'\n",
      " 'CENTURION INTERNATIONAL, INC. (WACO, TX)' 'TRUCO'\n",
      " 'CUB CADET (MFD. BY INTERNATIONAL HARVESTER CO.)'\n",
      " 'SPARTAN MOTORS, INC. (MFD. IN CHARLOTTE, MI)' 'KAWASAKI MOTORS CORP.'\n",
      " 'AIRSTREAM TRAILERS'\n",
      " 'UTILIMASTER (DIVISION OF HOLIDAY RAMBLER CORPORATION)'\n",
      " 'AMTRAN CORPORATION (GENSIS BUSES)' 'FIAT-ABARTH' 'AJAX ELECTRIC CORP.'\n",
      " 'LOCOMOBILE' 'HINOMOTO TRACTOR SALES USA, INC., HOUSTON,TEXAS'\n",
      " 'CCC (CRAIN CARRIER)' 'TRIUMPH' 'VANGUARD (CANADA)' 'LANDOLL CORP.'\n",
      " 'BIG TEX' 'POLAR MANUFACTURING COMPANY' 'KON KWEST MANUFACTURING'\n",
      " 'FLEETCRAFT CORP.' 'FREEWAY TRAVELERS, INC.'\n",
      " 'EIDAL INTERNATIONAL CORPORATION' 'MIDAS INTERNATIONAL CORPORATION'\n",
      " 'INTERNATIONAL HARVESTER COMPANY' 'ALL TERRAIN - NO VMO'\n",
      " 'ESCAPADE MOTOR HOME' 'AMERICAN TRAILERS INC. OF OKLAHOMA CITY'\n",
      " 'PETTIBONE MERCURY (SUBSIDIARY MERCURY MANUFACTURING COMPANY)'\n",
      " 'FLEETWOOD ENTERPRISES, INC.' 'MALIBU CAMPERS' 'CITY DUMPER TRAILER'\n",
      " 'CASCADE CORP.' 'CALDWELL (DIVISION OF SMITH INTERNATIONAL, INC.)'\n",
      " 'HAULMARK INDUSTRIES, INC.' 'CATERPILLAR TRACTOR COMPANY'\n",
      " 'DEERE, JOHN COMPANY'\n",
      " 'TRUCKING TRAILER (MANUFACTURED BY V.M.T CORPORATION)'\n",
      " 'HOLIDAY ROYAL TRAVEL TRAILER' '(RECONSTRUCTED TRAILERS)'\n",
      " 'AMERICAN TRACTOR EQUIPMENT CORPORATION' 'STRICK TRAILERS CORPORATION'\n",
      " 'FLYING L TRAILER, INC., FALLS CITY, NB' 'PELICAN ALUMINUM MANUFACTURING'\n",
      " 'CHEVALLERO MOTOR HOME' 'EAST SE TRAILER' 'FRANKLIN'\n",
      " 'GALBREATH, INC. WINAMAC, INDIANA' 'BUSSE BROWN TRAILER'\n",
      " 'TOYOCAR VAN CONTAINER TRAILER' 'ECONOMY-WISCONSIN'\n",
      " 'PIERCE MANUFACTURING, INC.(APPLETON, WI)' 'STERLINE FLATBED TRAILER'\n",
      " 'CIMATTI' 'CENTURION INTERNATIONAL, INC., WACO,TX' 'COX TRAILERS'\n",
      " 'A-1 TRAILER' 'FLEETCRAFT CORPORATION' 'HACKNEY & SONS, INC,'\n",
      " 'U-HAUL COMPANY (DIVISION PARKHURST MANUFACTURING COMPANY)'\n",
      " 'MAXIM IND., INC.(MFR. OF MAXIM FIRE TRUCKS)' 'TRAIL KING TRAVEL TRAILER'\n",
      " 'WESTERN STAR' 'ECO-BIKE ELEC MOTORCYCLE' 'TRAINLINER' 'RAMLIN'\n",
      " 'BP (MANUFACTURED BY SS TRAILER COMPANY)'\n",
      " 'TRUCK EQUIPMENT SERVICE COMPANY' 'FRONTIER HOMES CORPORATION'\n",
      " 'HILLTOP MANUFACTURING, INC. (EL DORADO, AR)' 'NEVAL MOTORCYCLES LIMITED'\n",
      " 'FONTAINE TRUCK EQUIPMENT COMPANY' 'GENESIS' 'MEADE' 'LANCER'\n",
      " 'STERLING INDUSTRIAL CORPORATION' 'DODD MANUFACTURING COMPANY, INC.'\n",
      " 'HEARTHSIDE MOBILE HOMES DIVISION MODULINE INTERNATIONAL'\n",
      " 'DELTA TRUCK TRAILER COMPANY, INC.' 'TIMPTE, INC.' 'CHECKER'\n",
      " 'FRANKLIN COACH COMPANY, INC.' 'BLUE BIRD BODY COMPANY'\n",
      " 'PORT TRAILER MANUFACTURING COMPANY' 'ACADIAN (GM OF CANADA)'\n",
      " 'CARRIER KING TRAILER' 'SEAGRAVE FIRE APPARTUS, CLINTONVILLE,WI'\n",
      " 'BENTLEY' 'ENGINE - NO VMO' 'GENERAL ENGINES COMPANY, INC.'\n",
      " 'G. & C. MANUFACTURING COMPANY' 'KASSBORTH' 'HUMBLER'\n",
      " 'SPARTAN PRODUCTS, WEST ST. PAUL, MINN.' 'QUALITY TRAILER'\n",
      " 'ACE TRAVELER CORPORATION' 'SPRINTER' 'TAUNUS (GERMAN FORD)'\n",
      " 'DONG FENG (EAST WIND)' 'STARLITE MANUFACTURING COMPANY' 'LOTUS' 'SPYDER'\n",
      " 'CABLE CRANE & EXCAVATOR DIVISION, FMC CORP.'\n",
      " '(UNLISTED CONSTRUCTION EQUIPMENT MAKE)' 'INTENATIONAL INDUSTRIES, INC.'\n",
      " 'ALUMA-LITE (MANUFACTURED BY HOLIDY RAMBLER CORPORATION)'\n",
      " 'ACURA CL (SPORTS COUPE)' 'GRADALL' 'BENELLI' 'FRIESS TRAILER'\n",
      " 'CRIMSON HOMES (DIVISION OF WINSTON INDUSTRIES, INC.)'\n",
      " 'GRUMMAN MOTOR HOME' 'LIFT TRUCK, INC.' 'RAMSES'\n",
      " 'MINI-CRUISER (MANUFACTURED BY R.B.R. CORPORATION)' 'FOST JOE DOG'\n",
      " 'HUSQVARNA' 'YUE LOONG MOTOR COMPANY (YLN)' 'AMC TRAILER' 'DAIMLER'\n",
      " 'ELGIN' 'PACE ARROW' 'VADOR' 'COMMERICAL VEHICLES, INC., TULSA, OKLA.'\n",
      " 'PIERCE MFG.,INC.(MFR.OF PIERCE DUPLEX,APPLETON,WI)'\n",
      " 'TRUCK EQUIPMENT SERVICE CO.' 'W-W TRAILERS (STOCK TRAILERS)'\n",
      " 'SUPERIOR TRAILER WORKS, LOS ANGELES, CA' 'HIRE DUMP TRAILER'\n",
      " 'NISSAN DIESEL MOTOR CO.' 'A & B TRAILER MFG. CO., INC., CROWN POINT, IN'\n",
      " 'TEREX, EUCLID & TEREX PRODUCTS' 'CHAPPY (MFD. BY YAMAHA MOTOR CORP.)'\n",
      " 'AVION (MFD. BY FLEETWOOD ENTP.)' 'CONTINENTAL'\n",
      " 'AIR-FLO MFG. CO., INC. FORT WORTH, TX' 'EIDAL INTERNATIONAL CORP.'\n",
      " 'MONTE ALUMINUM TRAILER DUMP' 'YUKON DELTA' 'WORK HORSE MANUFACTURING'\n",
      " 'FORTE TRAILER' 'COLEMAN' 'NUMBER ONE' 'MOTOC SEMI FLATBED TRAILER'\n",
      " 'VAN GUARD TRAILER, LTD.'\n",
      " 'CABLE CRANE & EXCAVATOR DIVISION (DRESSER, IN)' 'MONTE' 'NOVA BUS'\n",
      " 'ALLIED AMERICAN BUILDERS CORPORATION' 'TRANSCRAFT CORPORATION'\n",
      " 'BOATOTER (MANUFACTURED BY THOMAS MANUFACTURING)'\n",
      " 'H & B TRAILER COMPANY (DAMASCUS, AR)'\n",
      " 'VERMEER MANUFACTURING COMPANY, INC.' 'APOLLO HOMES'\n",
      " 'LOW PRO CUSTOM TRAILER' 'VAN CAR CORPORATION' 'STARCRAFT CORPORATION'\n",
      " 'B & M MANUFACTURING COMPANY (SOUTH CAMDENTON, MO)' 'ABC HOMES'\n",
      " 'COACHMEN INDUSTRIES, INC.' 'ARGOSY MOTOR HOME TRUCK'\n",
      " 'FNM FORD (ALSO SEE ENGLISH, FRENCH,GERMAN,AND ITAL'\n",
      " 'CYCLE KAMP, INC. (ANAHEIM, CA)' 'TOW MOBLIE FORKLIFT'\n",
      " 'CARRIE-CRAFT (DIVISION OF THRIFT CTS. OF AMERICA)'\n",
      " 'GENERAL AMER AERO COACH' 'AMERICAN TRAILER SPECIALISTS' 'TRAIL BLAZER'\n",
      " 'VANETTE' 'LML CORPORATION' 'STAGE COACH MANUFACTURING COMPANY'\n",
      " 'AERO LINER COMPANY' 'BOMBARDIER, LTD.' 'FIESTA (IMPORTED BY FORD)'\n",
      " 'ALEXANDER-REYNOLDS CORPORATION' 'TRAILBLAZER TRAILER'\n",
      " 'WRANGLER RECREATIONAL PRODUCTS, FLORENCE, ALABAMA' 'INDIAN'\n",
      " 'CHEVELLE MOBILE HOMES, INC.' 'CONSTRUCTION MACHINERY COMPANY' 'AVENGER'\n",
      " 'FLEET-AIRE CAMPER COMPANY' 'INGERSOLL-RAND COMPANY (WOODCLIFF, NJ)'\n",
      " 'GERARD LOWBOY TRAILER' 'FEDERAL TRAILER COMPANY' 'PIAZIO'\n",
      " 'UNITED TRAILER SERVICE & SUPPLY COMPANY' 'IMPERIAL' 'TRAILSTAR TRAILER'\n",
      " 'SCHIEN BODY & EQUIPMENT COMPANY' 'BIRD'\n",
      " 'CIMARRON MANUFACTURING COMPANY (OKLAHOMA CITY, OK)' 'PIERCE ARROW'\n",
      " 'HUSS SALES, INC., TOLEDO, OH' \"FORD'S MOBILE HOME MANUFACTURING\"\n",
      " 'PACEMAKER MOBILE HOMES & TRAVEL TRAILERS' 'EAGLE'\n",
      " 'PULLMAN TRAILMOBILE (DIV. OF PULLMAN, INC.) (CHICAGO, IL)'\n",
      " 'PEERLESS INTERNATIONAL COMPANY, INC.' 'SAVAGE COACH MANUFACTURING, INC.'\n",
      " 'BOUNDER MOTOR HOME (MANUFACTURED BY FLEETWOOD) (DECATUR, IN)'\n",
      " 'HILBILT MANUFACTURING COMPANY (BENTON, AR)' 'SAFARI' 'RALLYMASTER'\n",
      " 'BRODERSON MANUFACTURING CORPORATION'\n",
      " 'KENWORTH NORTHWEST, INC., SEATTLE, WA' 'WESTERN'\n",
      " 'CSM MANUFACTURING COMPANY (OKLAHOMA CITY, OK)'\n",
      " 'ASTRO MOBILE HOMES MANUFACTURING COMPANY' 'AJAX TRAILER COMPANY'\n",
      " 'HAULER-TRAILER (MANUFACTURED BY NORDINE MANUFACTURING)'\n",
      " 'WELLS CARGO, INC.' 'B & CUSTOM BUILT TRAILERS, NEWPORT, ARKANSAS'\n",
      " 'COMMERCIAL VEHICLES, INC. (TULSA, OK)' 'FRANCIS TRAVEL TRAILER'\n",
      " 'GENERAL MOPED COMPANY (NEW YORK, NY)' 'NISSAN DIESEL MOTOR COMPANY'\n",
      " 'PACE AMERICAN, INC. (MIDDLEBURY, IN)' 'LAMBORGHINI'\n",
      " 'CASE, J.I. COMPANY (SUBSIDIARY OF TENNECO, INC.)'\n",
      " 'U-HAUL CO, DIVISION PARKHURST MANUFACTURING CO.'\n",
      " 'NORTH AMERICAN MFG. CO.' 'WESTERN AUTO SUPPLY CO. (WIZARD)'\n",
      " 'SANTA FE SPRINGS DIV. DIVCO-WAYNE INDUSTRIES' 'CUMMINS ENGINE COMPANY'\n",
      " 'PEERLESS INTERNATIONAL CO., INC.'\n",
      " 'PENNCO IND.. INC., (SUBSIDIARY OF DEC INTERNATIONA'\n",
      " 'TOWN & COUNTRY MFG.' 'CALDWELL DIV., SMITH INTERNATIONAL, INC.'\n",
      " 'MARTIN TRAILERS, LTD., ST. LAURENT, MONTREAL'\n",
      " 'LULL ENGINEERING CO., -MARSHALL SEEBURG & SONS' 'PONTIAC (CANADIAN)'\n",
      " 'ALLIS-CHALMERS CORP.' 'HINES MFG. CO., ROCKY MOUNT, NORTH CAROLINA'\n",
      " 'WESTERN COACH CORP.'\n",
      " '\"CLASSIC MOTOR CARRIAGES, INC. (HALLANDALE, FLORIDA)\"'\n",
      " 'EAST DUMP TRAILER' 'CATERPILLAR TRACTOR CO.' 'NABORS TRAILERS, INC.'\n",
      " 'ROYALS INTERNATIONAL, MILLERSBURG, IND.' 'AMERICAN MOTORS'\n",
      " 'DROTT MANUFACTUING , DIVISION J. I. CASE CO.' 'BUILT RITE TRAILER'\n",
      " 'WALKER TRACTOR MFG.' 'AMERICAN WAY HOMES CORP.'\n",
      " 'ALUMA-LITE (MFD. BY HOLIDY RAMBLER CORP.)' 'STANDARD'\n",
      " 'CIMARRON MFG. CO., OKLAHOMA CITY, OK'\n",
      " 'DAKOTA MFG. CO., INC., MITCHELL, SD'\n",
      " 'TRANSPORT TRAILERS, INC., CEDAR RAPIDS'\n",
      " 'NECEDAH FLYERS (MFD. BY TWIN CITY RACING)' 'VILLAGER TRAVEL TRAILER'\n",
      " 'AZTEC PRODUCTS, INC., MANSFIELD, TEXAS'\n",
      " 'CARTER TRAILER CO., INC., NEWPORT, ARK.' 'GRAN SPREE MINI CAMPER'\n",
      " 'LINCO TRAILER HOME' 'SNYDER TRAILER CO.' 'JOHNSON CORP.'\n",
      " 'LINCOLN PARK MOBILE HOMES, INC., SHIPSHEWNAN, IN'\n",
      " 'MIDAS INTERNATIONAL CORP.' 'CHICAGO PNEUMATIC TOOL CO.' 'DATSUN'\n",
      " 'CONSTRUCTION MACHINERY CO.' 'CLEMENT-BRASWELL' 'LUNDGREEN FLATBED'\n",
      " 'JCB EXCAVATORS, INC. WHITEMARSH,MARYLAND' 'JEWEL TRAILER, INC.'\n",
      " 'MINI-CRUISER (MFD. BY R.B.R. CORP.)' 'CROWN'\n",
      " 'OTTAWA TRUCK DIV., GULF & WESTERN MFG. CO.' 'TOKEN FLATBED TRAILER'\n",
      " 'HILBILT MFG. CO., BENTON, ARKANSAS' 'W.F. MICKEY BODY CO., INC.' 'GROVE'\n",
      " 'TRANSCRAFT CORP.' 'GLASTRON INC., NEW BRAUNFELS, TX'\n",
      " 'COLT (MFD. BY SUZUKI MOTOR CORP.)' 'NEW BAME TRAILER' 'AUTO TRAILER CO.'\n",
      " 'CRIMSON HOMES, DIV. WINSTON INDUSTRIES, INC.'\n",
      " 'LEYLAND TRACTORS; BRITISH LEYLAND'\n",
      " 'AMC (LAWN & GARDEN TRACTORS BY AMMERICAN MOTORS)'\n",
      " 'BUDD CO., THE (FORMERLY GINCHY MFG. CORP.)'\n",
      " 'UNITED TRAILER SERVICE & SUPPLY CO.' 'VAN AMERICAN, INC., GOSHEN, IN'\n",
      " 'MERKUR' 'MORGAN EQUIPMENT CO.' 'TOWN & COUNTRY MFG. CO.' 'EXCELSIOR'\n",
      " 'THUNDERBIRD CASTLES, DIV. THUNDERBIRD PRODUCTS' 'MYCO INDUSTRIES'\n",
      " 'DMH CO., DIV. OF NATIONAL GYPSUM CO., ST.LOUIS MI.'\n",
      " 'DELTA TRUCK TRAILER CO., INC.' 'MCNAMEE COACH CORP.'\n",
      " 'ESCORT TRAILER CORP., SEATTLE, WA' 'SIERRA CAMPERS MFG.'\n",
      " 'GOLD STAR MOBILE HOMES, INC.'\n",
      " 'TRAIL KING INDUSTRIES, DIV W.A.S.INC.SOUTH DAKOTA'\n",
      " 'FONTAINE TRUCK EQUIPMENT CO.' 'WANAMAKER TRAILER' 'ODYSSEY'\n",
      " 'MCBURNIE COACH CRAFT, INC., SANTEE,CA' 'ROAD RUNNER'\n",
      " 'WAVERLY STRUCTURERS, NORTH CAROLINA'\n",
      " 'PARKMASTER, DIVISION AMERICAN STERLING ENTERPRISES' 'PUCH'\n",
      " '(UNLISTED FARM/GARDEN EQUIPMENT MAKE)' 'POCLAIN DIV., J. I. CASE'\n",
      " 'BENSON TRUCK BODIES, INC., MINERAL WELLS, WEST VA.'\n",
      " 'OTTAWA TRUCK DIV., (GULF WESTERN MFG. CO.)' 'WOLFE MFG. CO.'\n",
      " 'OPEL (IMPORTED BY BUICK)' 'HEIL CO., THE' 'LEISURE PRODUCTS, INC.'\n",
      " 'ROLLS ROYCE' 'GOODYEAR CAMPER MFG., INC., LINCOLN, NB' 'OLSON'\n",
      " 'GAST MANUFACTURING CO.' 'INTERCONSULT MFG. CO.'\n",
      " 'CAPACITY OF  TEXAS, INC., LONGVIEW, TEXAS'\n",
      " 'AMERICAN ROAD TRAILER CAMPER' 'DORSEY TRAILERS, INC.'\n",
      " 'COMMERCIAL STRUCTURES, NAPPANEE, INDIANA' 'BRAVO TRAILER'\n",
      " 'GENERAL ELECTRIC' 'CHEVRON CORP., ELKHART, INDIANA' 'ROYAL BROTHERS'\n",
      " 'GARELLI' 'ORIOLE TRAILER MFG. CO.' \"FORD'S MOBILE HOME MFG.\" 'SAFTI'\n",
      " 'BSA' 'PACE AMERICAN, INC., MIDDLEBURY, IN' 'CAPRI' 'AURORA' 'GILSON'\n",
      " 'GALION MFG, INC. (HERCULES) ; DIVISION DRESSER INDUST, INC.' 'STAR'\n",
      " 'AXLE & EQUIPMENT SALES CO., NAPERVILLE, IN'\n",
      " 'AMERICAN TRAILER & MFG. CO. (SEE ALSO TRANSPORTER)'\n",
      " '(UNLISTED MANUFACTURER)' 'ROADRUNNER MFG. CORP.'\n",
      " 'BEAR CAT MFG., INC., WICKENBURG, AZ'\n",
      " '\"IMPERIAL -- CODES BELOW ARE ONLY FOR 1980 AND EARLIER MODEL'\n",
      " 'POWER BOX UTILITY TRAILER(MFD. BY PUCKETT BROS. MF'\n",
      " 'COMMANDO (YARD TRACTORS--MFD. BY DAYBROOK-OTTAWA'\n",
      " 'AL TUCKER TRAILER CO.' 'BURRO, INC., PLYMOUTH , MN'\n",
      " 'LIFTALL FORKLIFT(VMA WA LOFT, MFD.BY LION FORKLIFT'\n",
      " \"RAMBLER - MANUFACTURED PRIOR TO '66 (1966 AND LATER RAMBLERS\"\n",
      " 'KEN CRAFT TRAILER' 'FLYING DUTCHMAN' 'AMERICAN EAGLE (ALSO EAGLE)'\n",
      " 'FRONTIER HOMES CORP.' 'BUSHOG DIV., SUBSIDIARY OF ALLIED PRODUCTS CORP.'\n",
      " 'VERSATILE POWER CORP., GRANTSBURG WISCONSIN' 'A & M COACH'\n",
      " 'NEW CASTLE (MFD. BY TOWN & COUNTRY MFG. CO.)' 'FLEET-AIRE CAMPER CO.'\n",
      " 'NORTON' 'ASTRO MOBILE HOMES MFG. CO.' 'ALEXANDER-REYNOLDS CORP.'\n",
      " 'DRAG MASTER UTILITY TRAILER' 'BURRIS STOCK TRAILER'\n",
      " 'PROMARK PRODUCTS CORP.' 'TRANS-TRAIL TRAILER' 'NAVAJO HORSE TRAILER'\n",
      " 'CANADIAN TRAILMOBILE, LTD.'\n",
      " 'HEARTHSIDE MOBILE HOMES DIV.MODULINE INTERNATIONAL'\n",
      " 'SATURN HOMES, DIVISION HARRELSON CORP.'\n",
      " 'ASSICUATED TRUCK & TRAILER, TIGARD, OR'\n",
      " 'WESTERN PRODUCTS DIV., DOUGLAS DYNAMICS, INC.'\n",
      " 'IME (INDUSTRIAL & MUNICIPAL ENGINEERING, INC.)'\n",
      " 'CHARGER PICK-UP CAMPERS'\n",
      " 'DUPLEX TRUCK DIV. (DIV OF THE NOLAN CO,MIDVALE, OH'\n",
      " 'ELECTRIC VEHICLE CORP. (MINNEAPOLIS, MINNESOTA)' 'MCKAY MFG. CO., INC.'\n",
      " 'GENERAL MOPED CO., NEW YORK, NY' 'NEW DIMENSION' 'VAN TECH' 'SURELOAD'\n",
      " 'INTERSTATE PRODUCTS' 'HAULER-TRAILER(MFD. BY NORDINE MFG.)'\n",
      " 'HYSTER CORP.' 'ELDER TRAILER & BODY' 'SEBRING HOME CORP.'\n",
      " '\"(ASSEMBLED FROM PARTS, HOMEMADE)\"'\n",
      " '\"MCBURNIE COACH CRAFT, INC., SANTEE, CA\"'\n",
      " 'KUBOTA, TRACTOR CORP., COMPTON, CALIFORNIA' 'BORN FREE' 'GENERAC CORP.'\n",
      " 'COLUMBIA' 'COLUMBIA TRAILER CO., LTD. VANCOUVER, CANADA'\n",
      " 'TAHOE MOTOR HOME' 'MIDDLEBURY(MFD. BY COACHMAN HOMES, DIV.OF COACHMEN'\n",
      " 'TRUCKING TRAILER (MFD. BY V.M.T CORP.)' 'OSHKOSH MOTOR TRUCK CO.'\n",
      " 'CITY WELDING & MFG. CO.(ALUMINUM TRUCK BODIES)'\n",
      " 'ALLIED AMERICAN BUILDERS CORP.' 'BETTEN FRANCE TRANSPORTATION, KENTUCKY'\n",
      " 'SUZULIGHT SU' 'ALCAN AMERICAN, INC.'\n",
      " 'SPERRY NEW HOLLAND, (DIV. SPERRY CORP.), NEW HOLLAND, PA'\n",
      " 'ABCO TRAILER MFG. CO.' 'ALLIED'\n",
      " 'AMC (LAWN & GARDEN TRACTORS BY AMERICAN MOTORS)'\n",
      " 'COCHRAN WESTERN CORP. (SUBSIDIARY OF WESTERN MOTOR' 'CAT'\n",
      " 'BELSHE TRAILER' 'DURANT' 'CHEROKEE CAMPER' 'VAN CAMP EQUIPMENT'\n",
      " 'PICK-UP MFG.' 'P & H' 'FRUEHAUF CORP' 'HILO SNYDER TRAVEL TRAILER'\n",
      " 'HALLMARK MOTOR HOME' 'STARCRAFT MFG. CO.' 'CONTINENTAL WHEEL & TRAILER'\n",
      " 'NORTHERN CRUISERS'\n",
      " '\"ALLISON\\'S FIBERGLASS MFG., INC (PORT ORANGE., FLORIDA).\"'\n",
      " 'MUSTANG TRAILER MANUFACTURING, INC.,QUITMAN, ARKAN'\n",
      " 'COMUTER VEHICLES,INC.' 'STARLINE TRAILER MFG. CO.' 'BEE BOB TRAILER'\n",
      " 'THEURER ALTANTIC, INC.(\"THEURER\" TRAILERS)'\n",
      " 'TRUCK & TRAILER EQUIPMENT CO.(\"EMJAY\" TRAILERS)'\n",
      " 'BIG BEAR (MKD. BY FLEXO PRODUCT CO)'\n",
      " 'EUCLID, INC. (SUBSIDIARY OF WHITE MOTOR CORP.)'\n",
      " 'DART TRUCK, PACCAR, INC.'\n",
      " 'DILLON ENTERPRISES, INC., NORTH LIBERTY, INDIANA' 'SUN' 'POLAR MFG. CO.'\n",
      " 'TEM KEN TRAILERS MFG.' 'MCCAIN INDUSTRIES' 'BLUE RIBBON COACH CO.'\n",
      " 'ALFA ROMEO GIULIA SPRINT' 'KENSINGTON WELDING & TRAILER CO.'\n",
      " 'CARRY-ALL(SCRAPERS, ROOTERS AND CHISELS BY MURRAY)'\n",
      " 'AYR-WAY CAMPERS, DIV. K. V. MOLDED PRODUCTS, INC.' 'DEMCO'\n",
      " 'SCANIA(SAAB-SCANIA OF AMERICA, INC.) ORANGE,CT'\n",
      " 'MUD CAT DIV., NATIONAL CAR RENTAL SYSTEM, INC.'\n",
      " '\"FIBERFAB, INC. (MINNEAPOLIS, MINN.)\"' 'DODGE WOODCRAFT'\n",
      " 'GABRIEL AUTO CARRIER' 'WILLIAMSEN TRUCK EQUIPMENT CORP., SALT LAKE, UT'\n",
      " 'DITCH WITCH' 'PULLMAN TRAILMOBILE, DIV. PULLMAN INC., CHGO, IL'\n",
      " 'AMERICAN CLIPPER CORP., MORGAN HILL, CALIFORNIA'\n",
      " 'HILLTOP MFG., INC., EL DORADO, ARKANSAS'\n",
      " 'AMERICAN ROAD EQUIPMENT, OMAHA, NB' 'ALL TERRAIN - TRACKS AND WHEELS'\n",
      " 'AJAX TRAILER CO.' 'ALPHA' 'CARRIAGE, INC.'\n",
      " 'RAVENS METAL PRODUCTS, INC.(RAVENS TRAILERS)' 'YELLOWSTONE, INC.'\n",
      " 'CONROY INDUSTRIES, NEW BRAUNFELS, TEXAS' 'JAMES'\n",
      " 'ABC COACH CO., FROM 1960 ON SEE VOUGHT INDUSTRIES' 'HAULETTE TRAILER'\n",
      " 'BLAZER' 'CHRIS-CRAFT CORP., HOLLAND, MICHIGAN'\n",
      " 'UTILIMASTER. DIVISION OF HOLIDAY RAMBLER CORP.' 'GLOBE'\n",
      " 'KENT MFG. CO., INC.' 'MAXWELL' 'CORVETTE TRAVEL TRAILER' 'PETERSON'\n",
      " 'VICTORY IMPLEMENT CO.' 'CARRY CRAFT TRAILERS' 'GEM' 'B M C'\n",
      " 'ALMA TRAILER CO.' 'BARRINGTON HOMES (SUBS. FLEETWOOD ENTERPRISES)' 'LMC'\n",
      " 'FEDERAL TRAILER CO.' 'PEABODY SOLID WASTE MANAGEMENT' 'RC MOTOR HOME'\n",
      " 'UNITED MFG. CO.' 'LUV-IT MFG.' 'IDEAL INDUSTRIES'\n",
      " 'MAGIC TILT TRAILER MFG. CO., INC.,(BOAT TRAILERS)' 'STEPPER TRAILER'\n",
      " 'EAGER BEAVER TRAILER' 'CHEETAH' 'CHAPARRAL' 'ACME TRAILER MFG. CO.'\n",
      " 'SHOPMADE FLATBED TRAILER' 'ROADMASTER MFG.CO.'\n",
      " 'INTERSTATE TRAVEL TRAILER' 'CHAMP CORP. (VMA WAS CHAP)'\n",
      " 'TALBERT MFG. CO.' 'AUSTIN' 'BROOKLYN TRAILER' 'MG' 'J.L.G. INDUSTRIES'\n",
      " 'K LINE TRAILER' 'SIMON UTILITY TRAILER' 'WAYNE SWEEPER' 'ASTON-MARTIN'\n",
      " 'HIAB CRANE' 'ALEX FIEGELSON CO.'\n",
      " 'CHINYUANCHI CASTING CORP., TAIPAI, TAIWAN'\n",
      " 'PETTIBONE MICHIGAN CORP., SUBSIDIARY MERCURY MFG. CO.' 'BRONCCO'\n",
      " 'PETER PIRSCH & SONS CO., KENOSHA, WI' 'BARTOLINI CHASSIS TRAILER'\n",
      " 'GOLF CART - MOTORIZED' 'CONY TRUCK (JAPAN)'\n",
      " 'DUNBAR FAPPLE, BATAVIA, ILLINIOS' 'TEXAS BRAGG' 'MOTO GUZZI' 'ZIM'\n",
      " 'MORGAN MOBILE, INC.' 'VESELY CO.' 'A.J. TRAVELUTE TRAILER MFG. CO.'\n",
      " 'PUMA' 'ARISTOCRAT TRAILER SALES, DIV. I.B. PERCH CO.' 'CLASSIC'\n",
      " 'HICKEY TRAIL-BLAZER' 'EASTON CAR & CONSTRUCTION'\n",
      " 'KING TRAILER CO., INC.' 'ALLIED MFG. CO.' 'VENTOURA CORP.'\n",
      " 'GO CART - MOTORIZED' 'ROVER' 'CMI CORP.'\n",
      " 'WHEELER TRUCK TRAILER, MORLEY, MISSOURI' 'STREAMLINE TRAILER CO.'\n",
      " 'INDEPENDENT MFG. CO., INC.' 'PEUGEOT'\n",
      " 'E-Z UTILITY TRAILER(MFD. BY DUTCHIE), LEOLA, PA' 'FELPS TRAILER'\n",
      " 'SAGE MFG. CO.' 'ADVANCE MACHINE CO.' 'PANTHER'\n",
      " 'LANES PACESETTER TRAILER' 'ALUMA CRAFT' 'ACORN EQUIPMENT CORP.'\n",
      " 'KALLIO CO., FREMONT, NB' 'ELKHART MFG. CO.'\n",
      " 'IMPALA MOBILE HOMES & TRAVEL TRAILERS' 'UNIT CRANE & SHOVEL' 'URAL'\n",
      " 'HUMBEE SURREY' 'GIANNINI' 'A-A WELDING SERVICE' 'NORDIC'\n",
      " 'ALEXANDRIA MOBILE HOME (MFD. BY MARIETTA HOMES)'\n",
      " '(HOMEMADE OR ASSEMBLED FROM PARTS)' 'PORT TRAILER MFG. CO.'\n",
      " 'TRAIL-EASY TRAVEL TRAILER' 'PENTON' 'FAT CAT(MFD. BY R & R MFG. CO.)'\n",
      " 'RENAULT' 'TRANSPORTATION MFG. CORP., ROSWELL, NM'\n",
      " 'LONDON MOTORS CORPORATION' 'TRANSPORTER, AMERICAN TRAILER & MFG. CO.'\n",
      " 'MONTE CARLO MOBILE HOME' 'MAL TRACTOR'\n",
      " 'MERCURY MARINE, DIV OF BRUNSWICK' 'CENTURY AUTO BODY & TRAILER MFG. CO.'\n",
      " 'PRIVATE COACH, DIVISION F & L  CONSTRUCTION' 'ROLLS-ROYCE'\n",
      " 'MAXON EAGLE (MFD. BY MAXON INDU' 'HYLANDER UTILITY TRAILER'\n",
      " 'FRAUSE PLOW CORP. INC.' 'MONO' 'LIBERTY COACH CO.'\n",
      " 'LIEBER INDUSTRIES, INC.'\n",
      " 'LEDWELL & SON ENTERPRISES, INC., TEXARKANA, TX' 'WORK-N-PLAY' 'FORESTER'\n",
      " 'MONON TRAILER, DIV. OF EVANS PRODUCTS CO.' 'BEALL FLATBED TRAILER'\n",
      " 'JOHN A. MCKAY' 'PETTIBONE MERCURY, SUBSIDIARY MERCURY MFG. CO.'\n",
      " 'NUTTALL TRAILERS' 'MOBILITY, INC., MINNEAPOLIS, MINN.'\n",
      " 'FROST TRAILER CO.' 'EZ TOW MANUFACTURING CO., MADISON, CT' 'HENRY J.'\n",
      " 'THOMPSON' 'TITAN TRAILER CORP., DIV. CONCORD MOBILE HOMES'\n",
      " 'ROYAL ENFIELD' 'FIRST AMERICAN COACH' 'PEARSON, BEN, MFG. CO., INC.'\n",
      " 'WINDJAMMER MOTORCOACH' 'BENLO CO.' 'LONGLIFE'\n",
      " 'A & J INDUSTRIES CUSTOM FIBERGLASSING' 'PELICAN ALUMINUM MFG.'\n",
      " 'LBT, DIVISION FRUEHAUF CORP.' 'VOLUNTEER MFG. CORP.'\n",
      " 'WEST COACH MFG. CO.' 'CASS (MFD. BY CUSTOM ASSEMBLY)'\n",
      " 'KWICK KIT CEMENT MIXER' 'REDI-GO TRAVELER' 'TRAILMASTER TANKS, INC.'\n",
      " 'ALLIED STEEL AND TRACTOR PRODUCTS' 'WINNEBAGO INDUSTRIES, INC.'\n",
      " 'AMERICAN TRACTOR EQUIPMENT CORP.' 'MB (MOTO BETA)' 'WHITE MOTOR CORP.'\n",
      " 'LIBERTY TRAVEL TRAILERS' 'HYDE CORP.'\n",
      " 'BABETTA (MFD. BY JAWA, IMPORTED BY AMERICAN JAWA)' 'CYCLESCOOT'\n",
      " 'CLIFF HALL, INC.' 'GOLF CART OPEN BODY'\n",
      " 'BUDDY MOBILE HOMES, INC,; DIV. SKYLINE HOMES' 'STACK TRUCK, INC.'\n",
      " 'AUTOCARRIER AND A.C.' 'TAHITI SKI TRAILERS'\n",
      " '(ASSEMBLED FROM PARTS,HOMEMADE)' 'MASTER HOUSE (MFD. BY HIGHLANDER)'\n",
      " 'RUSH INDUS., INC., ELKHART, IN' 'STRALE' 'LODAL, INC., KINGSFORD, MI'\n",
      " 'CIRCLE K KENNIMORE, OKLAHOMA CITY, OK'\n",
      " 'LOAD RITE TRAILERS, DIV. OF PENNSBURY MFG., INC'\n",
      " 'ROLLS INTERNATIONAL TRAILER(MOBILE HOME)' 'TOWMASTER' 'VIKING'\n",
      " 'MORGAN TRAILER MFG. CO.' 'POWERLINE PRODUCTS, DIV. WHITE OAK,INC.'\n",
      " 'NEW HOLLAND, (DIV. OF SPERRY NEW HOLLAND)' 'MONTONE MFG. CO.'\n",
      " 'CASE, J.I., CO.; SUBSIDIARY TENNECO, INC.'\n",
      " 'PEERLESS DIV., DIV. TECUMSEH PRODUCTS CO.'\n",
      " 'LAYTON MFG. DIV., M.D. KNWLTON CO.' 'TRANS CANADA RENT-A-TRAILER SYSTEM'\n",
      " 'VULCAN TRAILER MFG.' 'BOMAG TRAILER' 'BAKER-YORK FORKLIFT'\n",
      " 'AMERICAN STEEL WORKS' 'MARTIN LOWBOY SEMI TRAILER' 'TOYOCO'\n",
      " 'AMERICAN LA FRNCE, DIVISION A-T-O,INC'\n",
      " 'C.D. OSBORN & CO., GRAND RAPIDS, MICH.' 'COTNER UTILITY TRAILER'\n",
      " 'PRIME MOVER' 'CROSSROADS' 'ROKON'\n",
      " 'TRUCK TRAILERS SALES & SERVICE, INC., YANKTON, SD' 'ACME MFG. CO., INC.'\n",
      " 'SISU USA, INC. (MAGNUM TERMINAL TRACTOR)' 'GENERAL ENGINES CO., INC.'\n",
      " 'FLAIR INDUSTRIES OF ILLINOIS, INC., MACOMB, ILL.' 'FREEWAY, INC.'\n",
      " 'CHRYSLER CORP. MARINE DIV.' 'JAYCO, INC.' 'ASTON MARTIN'\n",
      " 'PREMIER TRAILER' 'NORTH AMERICAN BUS INDUSTRIES' 'LANDOLL CORPORATION'\n",
      " 'LIGHT EQUIPMENT (DIVISION OF J.I. CASE COMPANY)'\n",
      " 'FRANKLING EQUIPMENT COMPANY']\n",
      "MODEL ['ENCORE' 'CRV' 'FORESTER' ... 'SCIROCCO' 'E-TRON' 'J-10']\n",
      "LIC_PLATE_STATE ['IL' nan 'XX' 'IN' 'OH' 'WI' 'CA' 'FL' 'MI' 'VA' 'WV' 'NJ' 'TN' 'PA' 'MO'\n",
      " 'TX' 'KY' 'SC' 'NV' 'GA' 'ME' 'IA' 'NB' 'MS' 'MN' 'AL' 'OR' 'AZ' 'CO'\n",
      " 'ND' 'MD' 'WA' 'NC' 'OK' 'KS' 'AR' 'NY' 'UT' 'LA' 'ID' 'VT' 'MA' 'HI'\n",
      " 'NM' 'SD' 'MT' 'CT' 'DE' 'WY' 'NH' 'DC' 'AK' 'RI']\n"
     ]
    },
    {
     "name": "stdout",
     "output_type": "stream",
     "text": [
      "VEHICLE_ID [827212. 792247. 792252. ... 957603. 958526. 958527.]\n",
      "VEHICLE_YEAR [  nan 2014. 2018. 2008. 2012. 2004. 2001. 2016. 2007. 2006. 2010. 2017.\n",
      " 2013. 2015. 2003. 2011. 2002. 1998. 1999. 2019. 2000. 2009. 1995. 2021.\n",
      " 2005. 1994. 2020. 1997. 1988. 1920. 1992. 1996. 1979. 1991. 1984. 1989.\n",
      " 1993. 2204. 1990. 2111. 2917. 2108. 3217. 1929. 1986. 1970. 2026. 1967.\n",
      " 1975. 2106. 9999. 1987. 2914. 1981. 1965. 2105. 1964. 1983. 1900. 1982.\n",
      " 1985. 2110. 2104. 1969. 7007. 1916. 2998. 2918. 2308. 1966. 2107. 5555.\n",
      " 2100. 2103. 1974. 1977. 2915. 1960. 2209. 2213. 1980. 2109. 2049. 2206.\n",
      " 1971. 2218. 2207. 1976. 1978. 3016. 2205. 2210. 2996. 3017. 1963. 2112.\n",
      " 2916. 2202. 2222. 1972. 5015. 2208. 1968. 2913. 2088. 1952. 1973. 1951.\n",
      " 2203. 2912. 2101. 2201. 2402. 3013. 2994. 2114. 1911. 2033. 3003. 2040.\n",
      " 3023. 2102. 2099. 2022. 5007. 1941. 2096. 1901. 2028. 2041. 3007. 2997.\n",
      " 2117. 2919. 3012. 2818. 1962. 2083. 1961. 7999. 2025. 9900. 2412. 5012.\n",
      " 3027. 2992.]\n",
      "VEHICLE_DEFECT ['NONE' 'UNKNOWN' nan 'STEERING' 'OTHER' 'BRAKES' 'TIRES' 'ENGINE/MOTOR'\n",
      " 'SUSPENSION' 'WHEELS' 'WINDOWS' 'LIGHTS' 'FUEL SYSTEM' 'SIGNALS'\n",
      " 'RESTRAINT SYSTEM' 'CARGO' 'TRAILER COUPLING' 'EXHAUST']\n",
      "VEHICLE_TYPE ['PASSENGER' nan 'BUS UP TO 15 PASS.' 'OTHER VEHICLE WITH TRAILER'\n",
      " 'PICKUP' 'SPORT UTILITY VEHICLE (SUV)' 'BUS OVER 15 PASS.' 'VAN/MINI-VAN'\n",
      " 'UNKNOWN/NA' 'TRACTOR W/O SEMI-TRAILER' 'OTHER' 'TRUCK - SINGLE UNIT'\n",
      " 'TRACTOR W/ SEMI-TRAILER' 'SINGLE UNIT TRUCK WITH TRAILER'\n",
      " 'MOTORCYCLE (OVER 150CC)' 'MOPED OR MOTORIZED BICYCLE'\n",
      " 'ALL-TERRAIN VEHICLE (ATV)' 'AUTOCYCLE' 'FARM EQUIPMENT'\n",
      " 'MOTOR DRIVEN CYCLE' 'RECREATIONAL OFF-HIGHWAY VEHICLE (ROV)'\n",
      " '3-WHEELED MOTORCYCLE (2 REAR WHEELS)' 'SNOWMOBILE']\n",
      "VEHICLE_USE ['PERSONAL' nan 'CTA' 'TAXI/FOR HIRE' 'TOW TRUCK' 'NOT IN USE'\n",
      " 'UNKNOWN/NA' 'OTHER' 'RIDESHARE SERVICE' 'POLICE'\n",
      " 'COMMERCIAL - SINGLE UNIT' 'COMMERCIAL - MULTI-UNIT'\n",
      " 'CONSTRUCTION/MAINTENANCE' 'DRIVER EDUCATION' 'STATE OWNED' 'SCHOOL BUS'\n",
      " 'FIRE' 'AMBULANCE' 'CAMPER/RV - SINGLE UNIT' 'LAWN CARE/LANDSCAPING'\n",
      " 'AGRICULTURE' 'CAMPER/RV - TOWED/MULTI-UNIT' 'OTHER TRANSIT'\n",
      " 'MASS TRANSIT' 'MILITARY' 'HOUSE TRAILER']\n",
      "TRAVEL_DIRECTION ['W' 'S' 'N' nan 'E' 'SE' 'UNKNOWN' 'NW' 'SW' 'NE']\n",
      "MANEUVER ['STRAIGHT AHEAD' 'STARTING IN TRAFFIC' nan 'TURNING LEFT' 'PARKED'\n",
      " 'BACKING' 'SLOW/STOP IN TRAFFIC' 'PASSING/OVERTAKING' 'OTHER'\n",
      " 'UNKNOWN/NA' 'CHANGING LANES' 'TURNING RIGHT' 'AVOIDING VEHICLES/OBJECTS'\n",
      " 'ENTERING TRAFFIC LANE FROM PARKING' 'MERGING' 'U-TURN'\n",
      " 'ENTER FROM DRIVE/ALLEY' 'LEAVING TRAFFIC LANE TO PARK'\n",
      " 'PARKED IN TRAFFIC LANE' 'SKIDDING/CONTROL LOSS' 'DRIVING WRONG WAY'\n",
      " 'TURNING ON RED' 'NEGOTIATING A CURVE' 'DRIVERLESS' 'DISABLED'\n",
      " 'DIVERGING' 'SLOW/STOP - LEFT TURN' 'SLOW/STOP - RIGHT TURN'\n",
      " 'SLOW/STOP - LOAD/UNLOAD']\n",
      "EXCEED_SPEED_LIMIT_I [nan 'N' 'Y']\n",
      "FIRST_CONTACT_POINT ['FRONT-RIGHT' 'OTHER' 'ROOF' 'TOTAL (ALL AREAS)' nan 'SIDE-LEFT' 'FRONT'\n",
      " 'SIDE-RIGHT' 'FRONT-LEFT' 'REAR-LEFT' 'REAR' 'UNKNOWN' 'NONE'\n",
      " 'UNDER CARRIAGE' 'REAR-RIGHT']\n",
      "OCCUPANT_CNT [ 1.  2. nan  3.  0.  5.  4.  6.  8.  7. 28. 12. 11.  9. 10. 14. 13. 30.\n",
      " 16. 36. 99. 29. 37. 35. 26. 20. 15. 44. 18. 19. 33. 24. 43. 60. 39. 25.\n",
      " 27. 21. 41. 17. 38.]\n"
     ]
    }
   ],
   "source": [
    "col_list = list(vehicles_df.columns)\n",
    "del col_list[0] #drop CRASH_RECORD_ID, we only need it as a key to join up with other datasets\n",
    "\n",
    "for col in col_list:\n",
    "    print(col,vehicles_df[col].unique())  #print the name of each column of vehicles_df and set out the unique values of that column"
   ]
  },
  {
   "cell_type": "markdown",
   "metadata": {},
   "source": [
    "## Dealing with null values in vehicles dataset"
   ]
  },
  {
   "cell_type": "markdown",
   "metadata": {},
   "source": [
    "Let's also see how many null values there are in each feature:"
   ]
  },
  {
   "cell_type": "code",
   "execution_count": 32,
   "metadata": {},
   "outputs": [
    {
     "name": "stdout",
     "output_type": "stream",
     "text": [
      "NUM_PASSENGERS True     0.827698\n",
      "False    0.172302\n",
      "Name: NUM_PASSENGERS, dtype: float64\n",
      "MAKE False    0.977169\n",
      "True     0.022831\n",
      "Name: MAKE, dtype: float64\n",
      "MODEL False    0.977016\n",
      "True     0.022984\n",
      "Name: MODEL, dtype: float64\n",
      "LIC_PLATE_STATE False    0.914124\n",
      "True     0.085876\n",
      "Name: LIC_PLATE_STATE, dtype: float64\n",
      "VEHICLE_ID False    0.977176\n",
      "True     0.022824\n",
      "Name: VEHICLE_ID, dtype: float64\n",
      "VEHICLE_YEAR False    0.86315\n",
      "True     0.13685\n",
      "Name: VEHICLE_YEAR, dtype: float64\n",
      "VEHICLE_DEFECT False    0.977176\n",
      "True     0.022824\n",
      "Name: VEHICLE_DEFECT, dtype: float64\n",
      "VEHICLE_TYPE False    0.977176\n",
      "True     0.022824\n",
      "Name: VEHICLE_TYPE, dtype: float64\n",
      "VEHICLE_USE False    0.977176\n",
      "True     0.022824\n",
      "Name: VEHICLE_USE, dtype: float64\n",
      "TRAVEL_DIRECTION False    0.977176\n",
      "True     0.022824\n",
      "Name: TRAVEL_DIRECTION, dtype: float64\n",
      "MANEUVER False    0.977176\n",
      "True     0.022824\n",
      "Name: MANEUVER, dtype: float64\n",
      "EXCEED_SPEED_LIMIT_I True     0.996136\n",
      "False    0.003864\n",
      "Name: EXCEED_SPEED_LIMIT_I, dtype: float64\n",
      "FIRST_CONTACT_POINT False    0.971658\n",
      "True     0.028342\n",
      "Name: FIRST_CONTACT_POINT, dtype: float64\n",
      "OCCUPANT_CNT False    0.977176\n",
      "True     0.022824\n",
      "Name: OCCUPANT_CNT, dtype: float64\n"
     ]
    }
   ],
   "source": [
    "col_list = list(vehicles_df.columns)\n",
    "del col_list[0] #drop CRASH_RECORD_ID, we only need it as a key to join up with other datasets\n",
    "\n",
    "for col in col_list:\n",
    "    print(col,vehicles_df[col].isna().value_counts(normalize=True))  #print the name of each column of vehicles_df and set out the proportion of that column"
   ]
  },
  {
   "cell_type": "markdown",
   "metadata": {},
   "source": [
    "<div class=\"alert alert-block alert-info\">\n",
    "\n",
    "Now that we can see the contents of vehicles_df more clearly, we may determine an approach for each of the features as follows:\n",
    "\n",
    "1) **NUM_PASSENGERS** - there are so many null values associated with this feature. In fact, 83% of the rows are null value. It makes sense to drop this feature entirely;\n",
    "\n",
    "2) **VEHICLE_YEAR** - There are some very weird data points that are clearly wrong. We believe this feature has some explanatory value so instead of dropping this feature, we would work with this by binning it into 3 categories:a) model year of vehicles from the last 10 years, b) model year of vehicles from the last 30 years and c) model year of vehicles from the last 50 years.  Thus we would impute any value greater than \"2010\" into category a) and any value lower than \"1970\" into category c).\n",
    "\n",
    "3) **EXCEED_SPEED_LIMIT_I** - Each feature in vehicles_df has a relatively small proportion of null values. The strategy in each case would be to bin each row in the dataset with null values because we want, for instance, to know definitively whether vehicle defects could predict driver error. However, this cannot be the case with this feature.  An exceedingly high proportion of rows are null values for this feature. To make it worse, we cannot impute a Y or N to those null values (thus retaining this feature) without introducing bias into the data. It's a shame, but the approach is to drop this feature.\n",
    "\n",
    "4) **OCCUPANT_CNT** - the count of occupants in the vehicle in question can be binned into 2 broad categories: a) 4 or fewer occupants or b) more than 4 occupants.  4 is picked as a cut-off because 4 is how many people would be able to comfortably fit into a conventional car.\n",
    "\n",
    "5) **Other Null values**. Most of the features in vehicles_df have a very low proportion of null values in comparison to the overall dataset. To work only with data with definitive values for features we believe to have explanatory values, it would be safe to drop those null values. That is why the approach to null values in vehicles_df is to drop any rows with any null data in them.</div>"
   ]
  },
  {
   "cell_type": "code",
   "execution_count": 33,
   "metadata": {},
   "outputs": [],
   "source": [
    "# implement the steps described above\n",
    "#drop specified features\n",
    "vehicles_df.drop(['NUM_PASSENGERS','EXCEED_SPEED_LIMIT_I'],axis=1,inplace=True) \n",
    "\n",
    "#drop rows to contain null values \n",
    "vehicles_df.dropna(axis=0, inplace=True) \n",
    "\n",
    "#binning OCCUPANT_CNT\n",
    "vehicles_df['4_OR_LESS_OCCUPANTS'] = vehicles_df['OCCUPANT_CNT'].apply(lambda x: 'FALSE' if x > 4 else 'TRUE')\n",
    "vehicles_df.drop(['OCCUPANT_CNT'], axis=1, inplace=True)\n",
    "\n",
    "#binning VEHICLE_YEAR\n",
    "#any vehicles earlier than 2007 is OLD, any later than 2014 is NEW, any in between is MEDIUM\n",
    "vehicles_df['VEHICLE_AGE'] = pd.qcut(vehicles_df['VEHICLE_YEAR'], 3, labels=['OLD','MEDIUM','NEW'])\n",
    "vehicles_df.drop(['VEHICLE_YEAR'], axis=1, inplace=True)"
   ]
  },
  {
   "cell_type": "code",
   "execution_count": 34,
   "metadata": {},
   "outputs": [
    {
     "name": "stdout",
     "output_type": "stream",
     "text": [
      "<class 'pandas.core.frame.DataFrame'>\n",
      "Int64Index: 461442 entries, 6 to 950952\n",
      "Data columns (total 13 columns):\n",
      "CRASH_RECORD_ID        461442 non-null object\n",
      "MAKE                   461442 non-null object\n",
      "MODEL                  461442 non-null object\n",
      "LIC_PLATE_STATE        461442 non-null object\n",
      "VEHICLE_ID             461442 non-null float64\n",
      "VEHICLE_DEFECT         461442 non-null object\n",
      "VEHICLE_TYPE           461442 non-null object\n",
      "VEHICLE_USE            461442 non-null object\n",
      "TRAVEL_DIRECTION       461442 non-null object\n",
      "MANEUVER               461442 non-null object\n",
      "FIRST_CONTACT_POINT    461442 non-null object\n",
      "4_OR_LESS_OCCUPANTS    461442 non-null object\n",
      "VEHICLE_AGE            461442 non-null category\n",
      "dtypes: category(1), float64(1), object(11)\n",
      "memory usage: 46.2+ MB\n"
     ]
    }
   ],
   "source": [
    "vehicles_df.info()"
   ]
  },
  {
   "cell_type": "markdown",
   "metadata": {},
   "source": [
    "To recap - vehicles_df now consists of: i) features concerning vehicles which we believe to have explanatory value and ii) they will be about vehicles which were involved in the crashes capture by crash_df. As it turns out, these are categorical features."
   ]
  },
  {
   "cell_type": "markdown",
   "metadata": {},
   "source": [
    "## Building in the target"
   ]
  },
  {
   "cell_type": "markdown",
   "metadata": {},
   "source": [
    "We want to be able to build in **DRIVER_ERROR** from crash_df into vehicles_df, such that if a certain crash was the result of a driver error, we would want the vehicle(s) involved in that particular crash to also be associated with a driver error. For instance, if two vehicles were involved in a crash that was caused by a driver error, the two rows describing the vehicles in vehicles_df must also have a column **DRIVER_ERROR** which has a value of 1 in that column for each such row."
   ]
  },
  {
   "cell_type": "code",
   "execution_count": 34,
   "metadata": {},
   "outputs": [],
   "source": [
    "crash_plus_vehicles_df = pd.merge(crash_df,vehicles_df, on='CRASH_RECORD_ID', how='right')"
   ]
  },
  {
   "cell_type": "code",
   "execution_count": 44,
   "metadata": {},
   "outputs": [
    {
     "data": {
      "text/html": [
       "<div>\n",
       "<style scoped>\n",
       "    .dataframe tbody tr th:only-of-type {\n",
       "        vertical-align: middle;\n",
       "    }\n",
       "\n",
       "    .dataframe tbody tr th {\n",
       "        vertical-align: top;\n",
       "    }\n",
       "\n",
       "    .dataframe thead th {\n",
       "        text-align: right;\n",
       "    }\n",
       "</style>\n",
       "<table border=\"1\" class=\"dataframe\">\n",
       "  <thead>\n",
       "    <tr style=\"text-align: right;\">\n",
       "      <th></th>\n",
       "      <th>CRASH_RECORD_ID</th>\n",
       "      <th>MAKE</th>\n",
       "      <th>MODEL</th>\n",
       "      <th>LIC_PLATE_STATE</th>\n",
       "      <th>VEHICLE_ID</th>\n",
       "      <th>VEHICLE_DEFECT</th>\n",
       "      <th>VEHICLE_TYPE</th>\n",
       "      <th>VEHICLE_USE</th>\n",
       "      <th>TRAVEL_DIRECTION</th>\n",
       "      <th>MANEUVER</th>\n",
       "      <th>FIRST_CONTACT_POINT</th>\n",
       "      <th>4_OR_LESS_OCCUPANTS</th>\n",
       "      <th>VEHICLE_AGE</th>\n",
       "    </tr>\n",
       "  </thead>\n",
       "  <tbody>\n",
       "    <tr>\n",
       "      <td>6</td>\n",
       "      <td>ecf9e646f89a73ed3df0f373e4fbd18e91f5a595004019...</td>\n",
       "      <td>HONDA</td>\n",
       "      <td>CRV</td>\n",
       "      <td>IL</td>\n",
       "      <td>792247.0</td>\n",
       "      <td>NONE</td>\n",
       "      <td>PASSENGER</td>\n",
       "      <td>PERSONAL</td>\n",
       "      <td>W</td>\n",
       "      <td>STRAIGHT AHEAD</td>\n",
       "      <td>OTHER</td>\n",
       "      <td>TRUE</td>\n",
       "      <td>MEDIUM</td>\n",
       "    </tr>\n",
       "    <tr>\n",
       "      <td>7</td>\n",
       "      <td>ecf9e646f89a73ed3df0f373e4fbd18e91f5a595004019...</td>\n",
       "      <td>SUBARU</td>\n",
       "      <td>FORESTER</td>\n",
       "      <td>IL</td>\n",
       "      <td>792252.0</td>\n",
       "      <td>NONE</td>\n",
       "      <td>PASSENGER</td>\n",
       "      <td>PERSONAL</td>\n",
       "      <td>S</td>\n",
       "      <td>STRAIGHT AHEAD</td>\n",
       "      <td>ROOF</td>\n",
       "      <td>TRUE</td>\n",
       "      <td>NEW</td>\n",
       "    </tr>\n",
       "    <tr>\n",
       "      <td>10</td>\n",
       "      <td>55a20437d79a3176ac805c65b13940186970246ab14ce5...</td>\n",
       "      <td>SCION</td>\n",
       "      <td>XB</td>\n",
       "      <td>IL</td>\n",
       "      <td>794765.0</td>\n",
       "      <td>UNKNOWN</td>\n",
       "      <td>PASSENGER</td>\n",
       "      <td>PERSONAL</td>\n",
       "      <td>N</td>\n",
       "      <td>STARTING IN TRAFFIC</td>\n",
       "      <td>TOTAL (ALL AREAS)</td>\n",
       "      <td>TRUE</td>\n",
       "      <td>MEDIUM</td>\n",
       "    </tr>\n",
       "    <tr>\n",
       "      <td>14</td>\n",
       "      <td>012618108e2df088485e86bc1cf9c1989719e6a19f84b0...</td>\n",
       "      <td>NEW FLYER</td>\n",
       "      <td>NEW FLYER</td>\n",
       "      <td>IL</td>\n",
       "      <td>795379.0</td>\n",
       "      <td>NONE</td>\n",
       "      <td>BUS UP TO 15 PASS.</td>\n",
       "      <td>CTA</td>\n",
       "      <td>E</td>\n",
       "      <td>TURNING LEFT</td>\n",
       "      <td>SIDE-LEFT</td>\n",
       "      <td>TRUE</td>\n",
       "      <td>MEDIUM</td>\n",
       "    </tr>\n",
       "    <tr>\n",
       "      <td>15</td>\n",
       "      <td>012618108e2df088485e86bc1cf9c1989719e6a19f84b0...</td>\n",
       "      <td>TOYOTA MOTOR COMPANY, LTD.</td>\n",
       "      <td>CAMRY</td>\n",
       "      <td>IL</td>\n",
       "      <td>795384.0</td>\n",
       "      <td>UNKNOWN</td>\n",
       "      <td>PASSENGER</td>\n",
       "      <td>PERSONAL</td>\n",
       "      <td>E</td>\n",
       "      <td>TURNING LEFT</td>\n",
       "      <td>FRONT</td>\n",
       "      <td>TRUE</td>\n",
       "      <td>OLD</td>\n",
       "    </tr>\n",
       "    <tr>\n",
       "      <td>...</td>\n",
       "      <td>...</td>\n",
       "      <td>...</td>\n",
       "      <td>...</td>\n",
       "      <td>...</td>\n",
       "      <td>...</td>\n",
       "      <td>...</td>\n",
       "      <td>...</td>\n",
       "      <td>...</td>\n",
       "      <td>...</td>\n",
       "      <td>...</td>\n",
       "      <td>...</td>\n",
       "      <td>...</td>\n",
       "      <td>...</td>\n",
       "    </tr>\n",
       "    <tr>\n",
       "      <td>950941</td>\n",
       "      <td>0d60cf09490ec740fa95eeb85f43fc8affa77a72943ab1...</td>\n",
       "      <td>TOYOTA</td>\n",
       "      <td>COROLLA</td>\n",
       "      <td>IL</td>\n",
       "      <td>957303.0</td>\n",
       "      <td>NONE</td>\n",
       "      <td>PASSENGER</td>\n",
       "      <td>PERSONAL</td>\n",
       "      <td>E</td>\n",
       "      <td>STRAIGHT AHEAD</td>\n",
       "      <td>REAR-LEFT</td>\n",
       "      <td>TRUE</td>\n",
       "      <td>MEDIUM</td>\n",
       "    </tr>\n",
       "    <tr>\n",
       "      <td>950947</td>\n",
       "      <td>44726ec7e2f81a8c737fb044ff30cfa75ce5a92faf1679...</td>\n",
       "      <td>NISSAN</td>\n",
       "      <td>OTHER (EXPLAIN IN NARRATIVE)</td>\n",
       "      <td>IL</td>\n",
       "      <td>957602.0</td>\n",
       "      <td>UNKNOWN</td>\n",
       "      <td>PASSENGER</td>\n",
       "      <td>UNKNOWN/NA</td>\n",
       "      <td>N</td>\n",
       "      <td>TURNING LEFT</td>\n",
       "      <td>TOTAL (ALL AREAS)</td>\n",
       "      <td>TRUE</td>\n",
       "      <td>MEDIUM</td>\n",
       "    </tr>\n",
       "    <tr>\n",
       "      <td>950948</td>\n",
       "      <td>44726ec7e2f81a8c737fb044ff30cfa75ce5a92faf1679...</td>\n",
       "      <td>JEEP</td>\n",
       "      <td>GRAND CHEROKEE</td>\n",
       "      <td>IL</td>\n",
       "      <td>957603.0</td>\n",
       "      <td>NONE</td>\n",
       "      <td>PASSENGER</td>\n",
       "      <td>PERSONAL</td>\n",
       "      <td>N</td>\n",
       "      <td>STRAIGHT AHEAD</td>\n",
       "      <td>FRONT</td>\n",
       "      <td>TRUE</td>\n",
       "      <td>NEW</td>\n",
       "    </tr>\n",
       "    <tr>\n",
       "      <td>950951</td>\n",
       "      <td>5d289ce68c3e4f55f399178250e25f3e36be318191af6c...</td>\n",
       "      <td>TOYOTA</td>\n",
       "      <td>RAV4</td>\n",
       "      <td>IL</td>\n",
       "      <td>958526.0</td>\n",
       "      <td>NONE</td>\n",
       "      <td>SPORT UTILITY VEHICLE (SUV)</td>\n",
       "      <td>PERSONAL</td>\n",
       "      <td>S</td>\n",
       "      <td>CHANGING LANES</td>\n",
       "      <td>REAR</td>\n",
       "      <td>TRUE</td>\n",
       "      <td>NEW</td>\n",
       "    </tr>\n",
       "    <tr>\n",
       "      <td>950952</td>\n",
       "      <td>5d289ce68c3e4f55f399178250e25f3e36be318191af6c...</td>\n",
       "      <td>DODGE</td>\n",
       "      <td>JOURNEY</td>\n",
       "      <td>IL</td>\n",
       "      <td>958527.0</td>\n",
       "      <td>NONE</td>\n",
       "      <td>VAN/MINI-VAN</td>\n",
       "      <td>PERSONAL</td>\n",
       "      <td>S</td>\n",
       "      <td>STRAIGHT AHEAD</td>\n",
       "      <td>TOTAL (ALL AREAS)</td>\n",
       "      <td>TRUE</td>\n",
       "      <td>NEW</td>\n",
       "    </tr>\n",
       "  </tbody>\n",
       "</table>\n",
       "<p>461442 rows × 13 columns</p>\n",
       "</div>"
      ],
      "text/plain": [
       "                                          CRASH_RECORD_ID  \\\n",
       "6       ecf9e646f89a73ed3df0f373e4fbd18e91f5a595004019...   \n",
       "7       ecf9e646f89a73ed3df0f373e4fbd18e91f5a595004019...   \n",
       "10      55a20437d79a3176ac805c65b13940186970246ab14ce5...   \n",
       "14      012618108e2df088485e86bc1cf9c1989719e6a19f84b0...   \n",
       "15      012618108e2df088485e86bc1cf9c1989719e6a19f84b0...   \n",
       "...                                                   ...   \n",
       "950941  0d60cf09490ec740fa95eeb85f43fc8affa77a72943ab1...   \n",
       "950947  44726ec7e2f81a8c737fb044ff30cfa75ce5a92faf1679...   \n",
       "950948  44726ec7e2f81a8c737fb044ff30cfa75ce5a92faf1679...   \n",
       "950951  5d289ce68c3e4f55f399178250e25f3e36be318191af6c...   \n",
       "950952  5d289ce68c3e4f55f399178250e25f3e36be318191af6c...   \n",
       "\n",
       "                              MAKE                         MODEL  \\\n",
       "6                            HONDA                           CRV   \n",
       "7                           SUBARU                      FORESTER   \n",
       "10                           SCION                            XB   \n",
       "14                       NEW FLYER                     NEW FLYER   \n",
       "15      TOYOTA MOTOR COMPANY, LTD.                         CAMRY   \n",
       "...                            ...                           ...   \n",
       "950941                      TOYOTA                       COROLLA   \n",
       "950947                      NISSAN  OTHER (EXPLAIN IN NARRATIVE)   \n",
       "950948                        JEEP                GRAND CHEROKEE   \n",
       "950951                      TOYOTA                          RAV4   \n",
       "950952                       DODGE                       JOURNEY   \n",
       "\n",
       "       LIC_PLATE_STATE  VEHICLE_ID VEHICLE_DEFECT  \\\n",
       "6                   IL    792247.0           NONE   \n",
       "7                   IL    792252.0           NONE   \n",
       "10                  IL    794765.0        UNKNOWN   \n",
       "14                  IL    795379.0           NONE   \n",
       "15                  IL    795384.0        UNKNOWN   \n",
       "...                ...         ...            ...   \n",
       "950941              IL    957303.0           NONE   \n",
       "950947              IL    957602.0        UNKNOWN   \n",
       "950948              IL    957603.0           NONE   \n",
       "950951              IL    958526.0           NONE   \n",
       "950952              IL    958527.0           NONE   \n",
       "\n",
       "                       VEHICLE_TYPE VEHICLE_USE TRAVEL_DIRECTION  \\\n",
       "6                         PASSENGER    PERSONAL                W   \n",
       "7                         PASSENGER    PERSONAL                S   \n",
       "10                        PASSENGER    PERSONAL                N   \n",
       "14               BUS UP TO 15 PASS.         CTA                E   \n",
       "15                        PASSENGER    PERSONAL                E   \n",
       "...                             ...         ...              ...   \n",
       "950941                    PASSENGER    PERSONAL                E   \n",
       "950947                    PASSENGER  UNKNOWN/NA                N   \n",
       "950948                    PASSENGER    PERSONAL                N   \n",
       "950951  SPORT UTILITY VEHICLE (SUV)    PERSONAL                S   \n",
       "950952                 VAN/MINI-VAN    PERSONAL                S   \n",
       "\n",
       "                   MANEUVER FIRST_CONTACT_POINT 4_OR_LESS_OCCUPANTS  \\\n",
       "6            STRAIGHT AHEAD               OTHER                TRUE   \n",
       "7            STRAIGHT AHEAD                ROOF                TRUE   \n",
       "10      STARTING IN TRAFFIC   TOTAL (ALL AREAS)                TRUE   \n",
       "14             TURNING LEFT           SIDE-LEFT                TRUE   \n",
       "15             TURNING LEFT               FRONT                TRUE   \n",
       "...                     ...                 ...                 ...   \n",
       "950941       STRAIGHT AHEAD           REAR-LEFT                TRUE   \n",
       "950947         TURNING LEFT   TOTAL (ALL AREAS)                TRUE   \n",
       "950948       STRAIGHT AHEAD               FRONT                TRUE   \n",
       "950951       CHANGING LANES                REAR                TRUE   \n",
       "950952       STRAIGHT AHEAD   TOTAL (ALL AREAS)                TRUE   \n",
       "\n",
       "       VEHICLE_AGE  \n",
       "6           MEDIUM  \n",
       "7              NEW  \n",
       "10          MEDIUM  \n",
       "14          MEDIUM  \n",
       "15             OLD  \n",
       "...            ...  \n",
       "950941      MEDIUM  \n",
       "950947      MEDIUM  \n",
       "950948         NEW  \n",
       "950951         NEW  \n",
       "950952         NEW  \n",
       "\n",
       "[461442 rows x 13 columns]"
      ]
     },
     "execution_count": 44,
     "metadata": {},
     "output_type": "execute_result"
    }
   ],
   "source": [
    "vehicles_df"
   ]
  },
  {
   "cell_type": "code",
   "execution_count": 38,
   "metadata": {},
   "outputs": [
    {
     "data": {
      "text/plain": [
       "CRASH_RECORD_ID           False\n",
       "TRAFFIC_CONTROL_DEVICE    False\n",
       "WEATHER_CONDITION         False\n",
       "LIGHTING_CONDITION        False\n",
       "FIRST_CRASH_TYPE          False\n",
       "TRAFFICWAY_TYPE           False\n",
       "ROADWAY_SURFACE_COND      False\n",
       "ROAD_DEFECT               False\n",
       "CRASH_HOUR                False\n",
       "CRASH_DAY_OF_WEEK         False\n",
       "CRASH_MONTH               False\n",
       "DRIVER_ERROR              False\n",
       "SPEED_LIMIT               False\n",
       "MAKE                      False\n",
       "MODEL                     False\n",
       "LIC_PLATE_STATE           False\n",
       "VEHICLE_ID                False\n",
       "VEHICLE_DEFECT            False\n",
       "VEHICLE_TYPE              False\n",
       "VEHICLE_USE               False\n",
       "TRAVEL_DIRECTION          False\n",
       "MANEUVER                  False\n",
       "FIRST_CONTACT_POINT       False\n",
       "4_OR_LESS_OCCUPANTS       False\n",
       "VEHICLE_AGE               False\n",
       "dtype: bool"
      ]
     },
     "execution_count": 38,
     "metadata": {},
     "output_type": "execute_result"
    }
   ],
   "source": [
    "crash_plus_vehicles_df.isna().any()"
   ]
  },
  {
   "cell_type": "code",
   "execution_count": 53,
   "metadata": {},
   "outputs": [
    {
     "data": {
      "text/plain": [
       "1    0.942099\n",
       "0    0.057901\n",
       "Name: DRIVER_ERROR, dtype: float64"
      ]
     },
     "execution_count": 53,
     "metadata": {},
     "output_type": "execute_result"
    }
   ],
   "source": [
    "test = crash_plus_vehicles_df[['CRASH_RECORD_ID','DRIVER_ERROR']]\n",
    "test['DRIVER_ERROR'].value_counts(normalize=True)"
   ]
  },
  {
   "cell_type": "code",
   "execution_count": 54,
   "metadata": {},
   "outputs": [
    {
     "name": "stdout",
     "output_type": "stream",
     "text": [
      "<class 'pandas.core.frame.DataFrame'>\n",
      "Int64Index: 461442 entries, 6 to 950952\n",
      "Data columns (total 13 columns):\n",
      "CRASH_RECORD_ID        461442 non-null object\n",
      "MAKE                   461442 non-null object\n",
      "MODEL                  461442 non-null object\n",
      "LIC_PLATE_STATE        461442 non-null object\n",
      "VEHICLE_ID             461442 non-null float64\n",
      "VEHICLE_DEFECT         461442 non-null object\n",
      "VEHICLE_TYPE           461442 non-null object\n",
      "VEHICLE_USE            461442 non-null object\n",
      "TRAVEL_DIRECTION       461442 non-null object\n",
      "MANEUVER               461442 non-null object\n",
      "FIRST_CONTACT_POINT    461442 non-null object\n",
      "4_OR_LESS_OCCUPANTS    461442 non-null object\n",
      "VEHICLE_AGE            461442 non-null category\n",
      "dtypes: category(1), float64(1), object(11)\n",
      "memory usage: 46.2+ MB\n"
     ]
    }
   ],
   "source": [
    "vehicles_df.info()"
   ]
  },
  {
   "cell_type": "code",
   "execution_count": 36,
   "metadata": {},
   "outputs": [],
   "source": [
    "vehicles_plus_crash_df = pd.merge(vehicles_df,crash_df, on='CRASH_RECORD_ID', how='right')"
   ]
  },
  {
   "cell_type": "code",
   "execution_count": 40,
   "metadata": {},
   "outputs": [],
   "source": [
    "vehicles_plus_crash_df.dropna(inplace=True)"
   ]
  },
  {
   "cell_type": "code",
   "execution_count": 41,
   "metadata": {},
   "outputs": [
    {
     "name": "stdout",
     "output_type": "stream",
     "text": [
      "<class 'pandas.core.frame.DataFrame'>\n",
      "Int64Index: 461442 entries, 0 to 461441\n",
      "Data columns (total 25 columns):\n",
      "CRASH_RECORD_ID           461442 non-null object\n",
      "MAKE                      461442 non-null object\n",
      "MODEL                     461442 non-null object\n",
      "LIC_PLATE_STATE           461442 non-null object\n",
      "VEHICLE_ID                461442 non-null float64\n",
      "VEHICLE_DEFECT            461442 non-null object\n",
      "VEHICLE_TYPE              461442 non-null object\n",
      "VEHICLE_USE               461442 non-null object\n",
      "TRAVEL_DIRECTION          461442 non-null object\n",
      "MANEUVER                  461442 non-null object\n",
      "FIRST_CONTACT_POINT       461442 non-null object\n",
      "4_OR_LESS_OCCUPANTS       461442 non-null object\n",
      "VEHICLE_AGE               461442 non-null category\n",
      "TRAFFIC_CONTROL_DEVICE    461442 non-null object\n",
      "WEATHER_CONDITION         461442 non-null object\n",
      "LIGHTING_CONDITION        461442 non-null object\n",
      "FIRST_CRASH_TYPE          461442 non-null object\n",
      "TRAFFICWAY_TYPE           461442 non-null object\n",
      "ROADWAY_SURFACE_COND      461442 non-null object\n",
      "ROAD_DEFECT               461442 non-null object\n",
      "CRASH_HOUR                461442 non-null category\n",
      "CRASH_DAY_OF_WEEK         461442 non-null object\n",
      "CRASH_MONTH               461442 non-null category\n",
      "DRIVER_ERROR              461442 non-null int64\n",
      "SPEED_LIMIT               461442 non-null category\n",
      "dtypes: category(4), float64(1), int64(1), object(19)\n",
      "memory usage: 79.2+ MB\n"
     ]
    }
   ],
   "source": [
    "vehicles_plus_crash_df.info()"
   ]
  },
  {
   "cell_type": "code",
   "execution_count": 55,
   "metadata": {},
   "outputs": [],
   "source": [
    "# make a df of just CRASH_RECORD_ID and DRIVER_ERROR from crash_df\n",
    "vehicle_error_df = crash_df[['CRASH_RECORD_ID','DRIVER_ERROR']]\n",
    "\n",
    "# filter vehicle_error_df into a further dataframe where DRIVER_ERROR is 0 in all cases\n",
    "vehicle_no_error_only = vehicle_error_df.loc[vehicle_error_df['DRIVER_ERROR'] == 0]\n",
    "\n",
    "# make list of a CRASH_RECORD_ID in vehicle_error_only for cross referencing\n",
    "crash_record_cross_ref = list(vehicle_no_error_only['CRASH_RECORD_ID'])\n",
    "\n"
   ]
  },
  {
   "cell_type": "markdown",
   "metadata": {},
   "source": [
    "## EDA of categorical variables of vehicles_df"
   ]
  },
  {
   "cell_type": "code",
   "execution_count": 50,
   "metadata": {},
   "outputs": [
    {
     "data": {
      "image/png": "[encoded data removed]",
      "text/plain": [
       "<Figure size 1296x1512 with 11 Axes>"
      ]
     },
     "metadata": {
      "needs_background": "light"
     },
     "output_type": "display_data"
    }
   ],
   "source": [
    "# these are the features in vehicles that we want to remove\n",
    "# so that we are left with categorical values\n",
    "vehicles_remove = ['CRASH_RECORD_ID',\n",
    "                'VEHICLE_ID']\n",
    "\n",
    "# these are the categorical features left in crash_df that we want to graph\n",
    "vehicles_cat = [feature for feature in list(vehicles_df.columns) if feature not in vehicles_remove]\n",
    "\n",
    "# let's visualise each categorical feature in crash_df \n",
    "# investigating the frequency of each unique value in each such categorical feature\n",
    "\n",
    "fig,axes = plt.subplots(4,3, figsize=(18,21), sharey=True)\n",
    "for col, ax in zip(vehicles_df[vehicles_cat].columns, axes.flatten()):\n",
    "    pd.DataFrame(vehicles_df[col].value_counts()).transpose().plot(kind='bar',stacked=True,rot=0,ax=ax, legend=False)\n",
    "plt.subplots_adjust(wspace=0.05, hspace=0.1)\n",
    "fig.delaxes(axes[3,2])\n",
    "plt.suptitle('Frequency of unique values in each categorical feature for vehicles_df', y=0.1,fontsize=25);"
   ]
  },
  {
   "cell_type": "code",
   "execution_count": null,
   "metadata": {},
   "outputs": [],
   "source": [
    "col_list = list(vehicles_df.columns)\n",
    "del col_list[0] #drop CRASH_RECORD_ID, we only need it as a key to join up with other datasets\n",
    "\n",
    "for col in col_list:\n",
    "    print(col,vehicles_df[col].unique())  #print the name of each column of vehicles_df and set out the unique values of that column"
   ]
  },
  {
   "cell_type": "code",
   "execution_count": null,
   "metadata": {},
   "outputs": [],
   "source": [
    "vehicles_df.info()"
   ]
  },
  {
   "cell_type": "code",
   "execution_count": null,
   "metadata": {},
   "outputs": [],
   "source": [
    "vehicles_df.isna().any()"
   ]
  },
  {
   "cell_type": "markdown",
   "metadata": {},
   "source": [
    "Vehicles_df is now cleared of null values and contain only variables we consider to have explanatory value. Worth recalling that vehicles_df only consists of vehicles involved in the crashes which have their data recorded in crash_df. These are **461,525** vehicles."
   ]
  },
  {
   "cell_type": "markdown",
   "metadata": {},
   "source": [
    "# Exploring and cleaning the people database"
   ]
  },
  {
   "cell_type": "markdown",
   "metadata": {},
   "source": [
    "The final step in the EDA is to clean up the people database and to merge it with the crash_plus_vehicles_df to obtain an overall dataframe with features that we believe to have explanatory value in predicting which car crashes occur as a result of driver error."
   ]
  },
  {
   "cell_type": "code",
   "execution_count": null,
   "metadata": {},
   "outputs": [],
   "source": [
    "people.info()"
   ]
  },
  {
   "cell_type": "markdown",
   "metadata": {},
   "source": [
    "<div class=\"alert alert-block alert-info\">\n",
    "    \n",
    "1) As before, we want to identify features which we believe woudl have explanatory value in order to reduce the size of the persons dataset we have to work with. These will be features which are relevant to the driver.  It is worth highlighting that while **CELL_PHONE_USE** appears to be one such feature relevant to the driver, it appears to contain a large proportion of null values. It is difficult to impute values to these null values without generating bias and so this feature is not included.\n",
    "\n",
    "2) Another thing to note is since we want to predict driver error, it makes sense to zero in on the people in the database who are the drivers of the vehicles. We should prune this database and remove all non-drivers. This would be the driver_df\n",
    "\n",
    "3) We would also want to clean up driver_df further by including only features which we believe to have explanatory value.\n",
    "\n",
    "4) Finally, We also only want to identify the drivers of vehicles which are in crash_plus_vehicles_df.  We can use **VEHICLE_DF** as a key to join crash_plus_vehicles_df with driver_df. Hence, we should definitely include **VEHICLE_ID** in driver_df. </div>"
   ]
  },
  {
   "cell_type": "code",
   "execution_count": null,
   "metadata": {},
   "outputs": [],
   "source": [
    "# implement the steps above\n",
    "# identify the features which we believe have explanatory value \n",
    "people_col_incl = ['VEHICLE_ID',\n",
    "                  'PERSON_TYPE',\n",
    "                  'SEX',\n",
    "                  'AGE',\n",
    "                  'SAFETY_EQUIPMENT',\n",
    "                  'AIRBAG_DEPLOYED',\n",
    "                  'EJECTION',\n",
    "                  'DRIVER_ACTION',\n",
    "                  'DRIVER_VISION',\n",
    "                  'PHYSICAL_CONDITION',\n",
    "                  'BAC_RESULT']\n",
    "\n",
    "people_df = people[people_col_incl]\n",
    "\n",
    "# create a dataframe only where the people are drivers\n",
    "driver_df = people_df[people_df['PERSON_TYPE']=='DRIVER']"
   ]
  },
  {
   "cell_type": "code",
   "execution_count": null,
   "metadata": {},
   "outputs": [],
   "source": [
    "driver_df.info()"
   ]
  },
  {
   "cell_type": "markdown",
   "metadata": {},
   "source": [
    "Let's look at the contents of driver_df and also investigate the proportion of null values in driver_df."
   ]
  },
  {
   "cell_type": "code",
   "execution_count": null,
   "metadata": {},
   "outputs": [],
   "source": [
    "col_list = list(driver_df.columns)\n",
    "del col_list[0] #drop VEHICLE_ID, we only need it as a key to join up with other datasets\n",
    "\n",
    "for col in col_list:\n",
    "    print(col,driver_df[col].unique())  #print the name of each column of driver_df and set out the unique values of that column"
   ]
  },
  {
   "cell_type": "code",
   "execution_count": null,
   "metadata": {},
   "outputs": [],
   "source": [
    "col_list = list(driver_df.columns)\n",
    "del col_list[0] #drop VEHICLE_ID, we only need it as a key to join up with other datasets\n",
    "\n",
    "for col in col_list:\n",
    "    print(col,driver_df[col].isna().value_counts(normalize=True))  #print the name of each column of vehicles_df and set out the proportion of that column"
   ]
  },
  {
   "cell_type": "markdown",
   "metadata": {},
   "source": [
    "<div class=\"alert alert-block alert-info\">\n",
    "\n",
    "As part of the EDA to clean up driver_df, we need to implement the following:\n",
    "\n",
    "1) to ensure that we are only working with definitive values, we should remove rows in driver_df with null values. These null values will be in relation to **AGE** and **SEX**.  These null values are difficult to replace without introducing bias and given that we have **461,525** vehicles to work with, dropping a quarter of the 800,000 drivers in driver_df should not have too big an impact in terms of finding the drivers of those vehicles.\n",
    "\n",
    "2) we need to bin **AGE** to make it easy to work with. Let's divide up the groups into 4 categories - under 21s, under 45s, under 60s and over 60s.\n",
    "\n",
    "3) lastly, we need to identify which of the drivers were associated with the vehicles that are captured in our crash_plus_vehicles dataframe.</div>"
   ]
  },
  {
   "cell_type": "code",
   "execution_count": null,
   "metadata": {},
   "outputs": [],
   "source": [
    "driver_df.info()"
   ]
  },
  {
   "cell_type": "code",
   "execution_count": null,
   "metadata": {},
   "outputs": [],
   "source": [
    "#implement the above\n",
    "# drop all rows with null values in driver_df\n",
    "\n",
    "driver_df.dropna(axis=0, inplace=True)\n",
    "driver_df.isna().any()\n",
    "\n",
    "# bin the age into four groups\n",
    "# under 21s, under 45s, under 60s, over 60s\n",
    "bins = [-120, 21, 45, 60, 120] # we need the bins to extend into negative figures to treat negative figures as under 21s.\n",
    "labels = ['Under_21', 'Under_45', 'Under_60', 'Over_60s']\n",
    "driver_df['AGE'] = pd.cut(driver_df['AGE'], bins=bins, labels = labels)\n",
    "\n",
    "# identify which vehicles are in vehicles_df \n",
    "vehicle_ID_list = list(vehicles_df['VEHICLE_ID'])\n",
    "\n",
    "# trim driver_df such that it only contains drivers associated with vehicles in the crash_plus_vehicles dataframe\n",
    "driver_df = driver_df.loc[driver_df['VEHICLE_ID'].isin(vehicle_ID_list)]\n",
    "\n",
    "# drop PERSON_TYPE - every datapoint in this dataframe is about a driver\n",
    "driver_df.drop(['PERSON_TYPE'], axis=1, inplace=True)"
   ]
  },
  {
   "cell_type": "code",
   "execution_count": null,
   "metadata": {},
   "outputs": [],
   "source": [
    "driver_df.isna().any()"
   ]
  },
  {
   "cell_type": "markdown",
   "metadata": {
    "heading_collapsed": true
   },
   "source": [
    "## Merging dataframes and final steps"
   ]
  },
  {
   "cell_type": "markdown",
   "metadata": {
    "hidden": true
   },
   "source": [
    "<div class=\"alert alert-block alert-info\">\n",
    "    \n",
    "We now have 3 cleaned dataframes from the crash, vehicles and driver database (crash_df, vehicles_df and driver_df respectively). Let's refresh our memory as to how each of them looks like. The steps to joining up all 3 dataframes are as follows:\n",
    "\n",
    "\n",
    "1) As an intermediate step, we will join crash_df to vehicles_df with a right join, such that vehicles_df is the dataframe on the right and using **CRASH_RECORD_ID** as the key. This is because we want to retain all the data in vehicles_df and discard the rows in crash_df which do not have a matching **CRASH_RECORD_ID** in vehicles_df.  We do this and produce crash_plus_vehicles_df.\n",
    "\n",
    "2) As the next step, we will join crash_plus_vehicles_df to driver_df with a right join, such that driver_df is the dataframe on the right and using **VEHICLE_ID** as the key.  This is because we want to retain all the data in driver_df and we don't want any rows in our overall dataframe which describes a vehicle without also having an driver associated with it. This will result in the final dataframe which we will simply call df.\n",
    "\n",
    "The limiting factor is thus the number of datapoints we have in driver_df. The final df which we work with ought to ahve the same number of datapoints as driver_df (which should be **360788**).\n",
    "\n",
    "</div>"
   ]
  },
  {
   "cell_type": "code",
   "execution_count": null,
   "metadata": {
    "hidden": true
   },
   "outputs": [],
   "source": [
    "# implement the strategy for joining described above\n",
    "crash_plus_vehicles_df = pd.merge(crash_df,vehicles_df, on='CRASH_RECORD_ID', how='right')\n",
    "df = pd.merge(crash_plus_vehicles_df, driver_df, on = 'VEHICLE_ID', how='right')"
   ]
  },
  {
   "cell_type": "markdown",
   "metadata": {
    "hidden": true
   },
   "source": [
    "There are a total of **367,088** datapoints for us to work with. Now let's drop **VEHICLE_ID** and **CRASH_RECORD_ID** - these keys have served their purpose once we joined up the datasets. We can then separate the target from the rest of the data, which we will turn into dummy values to serve as our predictors"
   ]
  },
  {
   "cell_type": "code",
   "execution_count": null,
   "metadata": {
    "hidden": true
   },
   "outputs": [],
   "source": [
    "# drop VEHICLE_ID and CRASH_RECORD_ID\n",
    "df.drop(['VEHICLE_ID','CRASH_RECORD_ID'], axis=1, inplace=True)"
   ]
  },
  {
   "cell_type": "markdown",
   "metadata": {},
   "source": [
    "# Feature Selection"
   ]
  },
  {
   "cell_type": "markdown",
   "metadata": {
    "heading_collapsed": true
   },
   "source": [
    "## Feature Selection - by intuition"
   ]
  },
  {
   "cell_type": "markdown",
   "metadata": {
    "hidden": true
   },
   "source": [
    "Let's have a look again at the features in df. We should aim to be more granular about which features we should use to predict **DRIVER_ERROR**. Even more features can be dropped; for instance **EJECTION** isn't really predictive of driver error - it is a consequence thereof. As a result, the data we use to predict can be trimmed still further. Let's do that to end up with a dataframe of **predictors**."
   ]
  },
  {
   "cell_type": "code",
   "execution_count": null,
   "metadata": {
    "hidden": true
   },
   "outputs": [],
   "source": [
    "df.columns"
   ]
  },
  {
   "cell_type": "code",
   "execution_count": null,
   "metadata": {
    "hidden": true
   },
   "outputs": [],
   "source": [
    "data_cols = ['WEATHER_CONDITION',\n",
    "             'LIGHTING_CONDITION',\n",
    "             'TRAFFICWAY_TYPE',\n",
    "             'ALIGNMENT',\n",
    "             'ROADWAY_SURFACE_COND',\n",
    "             'ROAD_DEFECT',\n",
    "             'CRASH_HOUR',\n",
    "             'CRASH_DAY_OF_WEEK',\n",
    "             'CRASH_MONTH',\n",
    "             'SPEED_LIMIT',\n",
    "             'VEHICLE_DEFECT',\n",
    "             'VEHICLE_TYPE',\n",
    "             'MANEUVER',\n",
    "             'SEX',\n",
    "             'AGE',\n",
    "             'DRIVER_ACTION',\n",
    "             'DRIVER_VISION',\n",
    "             'PHYSICAL_CONDITION',\n",
    "             'BAC_RESULT']\n",
    "\n",
    "predictors = df[data_cols]\n"
   ]
  },
  {
   "cell_type": "code",
   "execution_count": null,
   "metadata": {
    "hidden": true
   },
   "outputs": [],
   "source": [
    "# one hot encode the predictors and separate out the target we are predicting on.\n",
    "ohe_predictors = pd.get_dummies(predictors)\n",
    "target = df['DRIVER_ERROR']\n",
    "\n",
    "# train test split\n",
    "X_train, X_test, y_train, y_test = train_test_split(ohe_predictors, target, test_size=0.25, random_state=42)"
   ]
  },
  {
   "cell_type": "markdown",
   "metadata": {
    "heading_collapsed": true
   },
   "source": [
    "## Feature Selection- by Decision Tree"
   ]
  },
  {
   "cell_type": "markdown",
   "metadata": {
    "hidden": true
   },
   "source": [
    "Let's use a decision tree to do some feature selection."
   ]
  },
  {
   "cell_type": "code",
   "execution_count": null,
   "metadata": {
    "hidden": true
   },
   "outputs": [],
   "source": [
    "# train the tree\n",
    "tree_clf = DecisionTreeClassifier(criterion='entropy', max_depth=5)\n",
    "\n",
    "# fit the model on the training set\n",
    "tree_clf.fit(X_train,y_train)\n",
    "\n",
    "# work out which of the features are important\n",
    "importance = tree_clf.feature_importances_\n",
    "feature_list = []\n",
    "for i,v in enumerate(importance):\n",
    "    if v != 0:\n",
    "        feature_list.append(ohe_predictors.columns[i])\n",
    "\n",
    "feature_list"
   ]
  },
  {
   "cell_type": "markdown",
   "metadata": {
    "hidden": true
   },
   "source": [
    "<div class=\"alert alert-block alert-info\">\n",
    "    \n",
    "It looks like the following features are influential in predicting **DRIVER_ERROR**:\n",
    "\n",
    "1) **WEATHER_CONDITION**\n",
    "\n",
    "2) **ALIGNMENT**\n",
    "\n",
    "3) **ROADWAY_SURFACE_COND**\n",
    "\n",
    "4) **ROAD_DEFECT**\n",
    "\n",
    "5) **SPEED_LIMIT**\n",
    "\n",
    "6) **VEHICLE_DEFECT**\n",
    "\n",
    "7) **MANEUVER**\n",
    "\n",
    "8) **DRIVER_ACTION**\n",
    "\n",
    "9) **DRIVER_VISION**\n",
    "\n",
    "10) **PHYSICAL_CONDITION**\n",
    "</div>"
   ]
  },
  {
   "cell_type": "markdown",
   "metadata": {},
   "source": [
    "## Feature Selection - by Logistic Regression"
   ]
  },
  {
   "cell_type": "markdown",
   "metadata": {},
   "source": [
    "Let's try some feature selection using Logistic Regression"
   ]
  },
  {
   "cell_type": "code",
   "execution_count": null,
   "metadata": {},
   "outputs": [],
   "source": [
    "# instantiate logistic regression\n",
    "logreg = LogisticRegression(fit_intercept=False, C=1e16, solver='liblinear')\n",
    "\n",
    "# fit a logistic regression model using the training set\n",
    "logreg.fit(X_train,y_train)\n"
   ]
  },
  {
   "cell_type": "code",
   "execution_count": null,
   "metadata": {},
   "outputs": [],
   "source": [
    "mask = list(logreg.coef_.flatten() > 1)"
   ]
  },
  {
   "cell_type": "code",
   "execution_count": null,
   "metadata": {},
   "outputs": [],
   "source": [
    "ohe_predictors.columns[mask]"
   ]
  },
  {
   "cell_type": "markdown",
   "metadata": {},
   "source": [
    "<div class=\"alert alert-block alert-info\">\n",
    "    \n",
    "If we compare some of the features selected by way of Logistic Regression with some of the features selected by way of a Decision Tree, certain features seem to crop up repeatedly:\n",
    "\n",
    "1) **ROADWAY_SURFACE_COND**\n",
    "\n",
    "2) **ROAD_DEFECT**\n",
    "\n",
    "3) **SPEED_LIMIT**\n",
    "\n",
    "4) **VEHICLE_DEFECT**\n",
    "\n",
    "5) **MANEUVER**\n",
    "\n",
    "6) **DRIVER_ACTION**\n",
    "\n",
    "7) **DRIVER_VISION**\n",
    "\n",
    "8) **PHYSICAL_CONDITION**\n",
    "\n",
    "I propose using these 8 features in our model.\n",
    "</div>"
   ]
  },
  {
   "cell_type": "code",
   "execution_count": null,
   "metadata": {},
   "outputs": [],
   "source": [
    "# implement the above and set up a features dataframe that we use for modelling.\n",
    "selected_cols = ['ROADWAY_SURFACE_COND',\n",
    "             'ROAD_DEFECT',\n",
    "             'SPEED_LIMIT',\n",
    "             'VEHICLE_DEFECT',\n",
    "             'MANEUVER',\n",
    "             'DRIVER_ACTION',\n",
    "             'DRIVER_VISION',\n",
    "             'PHYSICAL_CONDITION']\n",
    "\n",
    "features = df[selected_cols]"
   ]
  },
  {
   "cell_type": "markdown",
   "metadata": {},
   "source": [
    "It's worth noting what **doesn't** crop up as a signficant feature even after using 2 different models - **AGE** and **SEX** do not seem to be features which can usefully predict **DRIVER_ERROR**. This is interesting because it puts paid to the (sexist) notion that men are better drivers and the (discriminatory) notion that young people are more reckless. That does not seem to be the case following the data."
   ]
  },
  {
   "cell_type": "markdown",
   "metadata": {},
   "source": [
    "# Modelling"
   ]
  },
  {
   "cell_type": "code",
   "execution_count": null,
   "metadata": {},
   "outputs": [],
   "source": [
    "# prepare the data by converting the data into dummy values and doing a train test split\n",
    "ohe_features = pd.get_dummies(features)\n",
    "X_train, X_test, y_train, y_test = train_test_split(ohe_features, target, test_size=0.25, random_state=42)"
   ]
  },
  {
   "cell_type": "markdown",
   "metadata": {},
   "source": [
    "## Class Imbalance?"
   ]
  },
  {
   "cell_type": "markdown",
   "metadata": {},
   "source": [
    "Before we start, it's worth checking whether there is a class imbalance problem when we are predicting on the target."
   ]
  },
  {
   "cell_type": "code",
   "execution_count": null,
   "metadata": {},
   "outputs": [],
   "source": [
    "target.value_counts(normalize=True)"
   ]
  },
  {
   "cell_type": "markdown",
   "metadata": {},
   "source": [
    "It looks like there are so many examples of **DRIVER_ERROR** being true, any model we pick is very likely to predict it. Let's resample the data and work with the resampled data instead."
   ]
  },
  {
   "cell_type": "code",
   "execution_count": null,
   "metadata": {},
   "outputs": [],
   "source": [
    "# fit SMOTE to training data\n",
    "smote = SMOTE()\n",
    "X_train_resampled, y_train_resampled = smote.fit_sample(X_train,y_train)"
   ]
  },
  {
   "cell_type": "code",
   "execution_count": null,
   "metadata": {},
   "outputs": [],
   "source": [
    "y_train_resampled.value_counts(normalize=True)"
   ]
  },
  {
   "cell_type": "code",
   "execution_count": null,
   "metadata": {},
   "outputs": [],
   "source": [
    "y_test.value_counts(normalize=True)"
   ]
  },
  {
   "cell_type": "markdown",
   "metadata": {},
   "source": [
    "## Decision Tree"
   ]
  },
  {
   "cell_type": "markdown",
   "metadata": {},
   "source": [
    "### Plain Vanilla Tree"
   ]
  },
  {
   "cell_type": "markdown",
   "metadata": {},
   "source": [
    "Let's fit a plain vanilla Decision Tree and evaluate the model."
   ]
  },
  {
   "cell_type": "code",
   "execution_count": null,
   "metadata": {},
   "outputs": [],
   "source": [
    "# instantiate Decision Tree Classifier\n",
    "tree_clf = DecisionTreeClassifier(criterion='entropy', random_state=42)\n",
    "\n",
    "# fit the model\n",
    "tree_clf.fit(X_train_resampled,y_train_resampled)\n",
    "\n",
    "# make prediction using the test set\n",
    "pred = tree_clf.predict(X_test)\n",
    "\n",
    "# check the AUC of predictions\n",
    "fpr, tpr, thresholds = roc_curve(y_test,pred)\n",
    "roc_auc = auc(fpr,tpr)\n",
    "roc_auc"
   ]
  },
  {
   "cell_type": "code",
   "execution_count": null,
   "metadata": {},
   "outputs": [],
   "source": [
    "tree_clf.get_depth()"
   ]
  },
  {
   "cell_type": "code",
   "execution_count": null,
   "metadata": {},
   "outputs": [],
   "source": [
    "tree_clf.score(X_train_resampled,y_train_resampled)"
   ]
  },
  {
   "cell_type": "code",
   "execution_count": null,
   "metadata": {},
   "outputs": [],
   "source": [
    "tree_clf.score(X_test,y_test)"
   ]
  },
  {
   "cell_type": "markdown",
   "metadata": {},
   "source": [
    "### Best depth parameter for decision tree"
   ]
  },
  {
   "cell_type": "markdown",
   "metadata": {},
   "source": [
    "What is the best depth parameter for our decision tree?"
   ]
  },
  {
   "cell_type": "code",
   "execution_count": null,
   "metadata": {},
   "outputs": [],
   "source": [
    "# identify the optimal tree depth\n",
    "max_depth = np.linspace(1,32,num=32)\n",
    "train_results = []\n",
    "test_results = []\n",
    "for m in max_depth:\n",
    "    clf = DecisionTreeClassifier(criterion='entropy',max_depth=m, random_state=42)\n",
    "    clf.fit(X_train_resampled,y_train_resampled)\n",
    "    train_hat = clf.predict(X_train_resampled)\n",
    "    fpr, tpr, thresholds = roc_curve(y_train_resampled,train_hat)\n",
    "    \n",
    "    # train results\n",
    "    train_auc_score = auc(fpr,tpr)\n",
    "    train_results.append(train_auc_score)\n",
    "    \n",
    "    #test results\n",
    "    test_hat = clf.predict(X_test)\n",
    "    fpr_test,tpr_test,thresh_test = roc_curve(y_test, test_hat)\n",
    "    test_auc_score = auc(fpr_test,tpr_test)\n",
    "    test_results.append(test_auc_score)\n",
    "\n",
    "plt.figure(figsize=(15,10))\n",
    "plt.plot(max_depth, train_results, 'b', label='Train AUC')\n",
    "plt.plot(max_depth, test_results, 'r', label = 'Test AUC')\n",
    "plt.xlabel('Tree Depth')\n",
    "plt.ylabel('AUC Score')\n",
    "plt.title('Finding the best tree depth')\n",
    "plt.legend();"
   ]
  },
  {
   "cell_type": "markdown",
   "metadata": {},
   "source": [
    "It looks like the optimal tree depth is **8**. After a tree depth of 8, the AUC score obtained on the test set actually decreases. "
   ]
  },
  {
   "cell_type": "markdown",
   "metadata": {},
   "source": [
    "### Best min_sample_split for decision tree"
   ]
  },
  {
   "cell_type": "code",
   "execution_count": null,
   "metadata": {},
   "outputs": [],
   "source": [
    "# identify the optimal tree depth\n",
    "mss = np.linspace(0.05,1,num=20, endpoint=True)\n",
    "train_results = []\n",
    "test_results = []\n",
    "for m in mss:\n",
    "    clf = DecisionTreeClassifier(criterion='entropy',min_samples_split=m, random_state=42)\n",
    "    clf.fit(X_train_resampled,y_train_resampled)\n",
    "    train_hat = clf.predict(X_train_resampled)\n",
    "    fpr, tpr, thresholds = roc_curve(y_train_resampled,train_hat)\n",
    "    \n",
    "    # train results\n",
    "    train_auc_score = auc(fpr,tpr)\n",
    "    train_results.append(train_auc_score)\n",
    "    \n",
    "    #test results\n",
    "    test_hat = clf.predict(X_test)\n",
    "    fpr_test,tpr_test,thresh_test = roc_curve(y_test, test_hat)\n",
    "    test_auc_score = auc(fpr_test,tpr_test)\n",
    "    test_results.append(test_auc_score)\n",
    "\n",
    "plt.figure(figsize=(15,10))\n",
    "plt.plot(mss, train_results, 'b', label='Train AUC')\n",
    "plt.plot(mss, test_results, 'r', label = 'Test AUC')\n",
    "plt.xlabel('Min. Sample Splits')\n",
    "plt.ylabel('AUC Score')\n",
    "plt.title('Finding the best Min. Sample Splits')\n",
    "plt.legend();"
   ]
  },
  {
   "cell_type": "markdown",
   "metadata": {},
   "source": [
    "The AUC for both the training and test sets decreases for any increase in minimum sample splits beyond **0.05**."
   ]
  },
  {
   "cell_type": "markdown",
   "metadata": {},
   "source": [
    "### Minimum Sample Leafs"
   ]
  },
  {
   "cell_type": "code",
   "execution_count": null,
   "metadata": {},
   "outputs": [],
   "source": [
    "# identify the optimal value for minimum sample leafs\n",
    "msl = np.linspace(0.01,0.5,num=50, endpoint=True)\n",
    "train_results = []\n",
    "test_results = []\n",
    "for m in msl:\n",
    "    clf = DecisionTreeClassifier(criterion='entropy',min_samples_leaf=m, random_state=42)\n",
    "    clf.fit(X_train_resampled,y_train_resampled)\n",
    "    train_hat = clf.predict(X_train_resampled)\n",
    "    fpr, tpr, thresholds = roc_curve(y_train_resampled,train_hat)\n",
    "    \n",
    "    # train results\n",
    "    train_auc_score = auc(fpr,tpr)\n",
    "    train_results.append(train_auc_score)\n",
    "    \n",
    "    #test results\n",
    "    test_hat = clf.predict(X_test)\n",
    "    fpr_test,tpr_test,thresh_test = roc_curve(y_test, test_hat)\n",
    "    test_auc_score = auc(fpr_test,tpr_test)\n",
    "    test_results.append(test_auc_score)\n",
    "\n",
    "plt.figure(figsize=(15,10))\n",
    "plt.plot(msl, train_results, 'b', label='Train AUC')\n",
    "plt.plot(msl, test_results, 'r', label = 'Test AUC')\n",
    "plt.xlabel('Min. Sample Leaf')\n",
    "plt.ylabel('AUC Score')\n",
    "plt.title('Finding the best Min. Sample Leaf')\n",
    "plt.legend();"
   ]
  },
  {
   "cell_type": "markdown",
   "metadata": {},
   "source": [
    "Min Sample leaf is optimal up to about **0.01**, the AUC score declines thereafter. "
   ]
  },
  {
   "cell_type": "markdown",
   "metadata": {},
   "source": [
    "### Retrain the classifier with the optimal values"
   ]
  },
  {
   "cell_type": "code",
   "execution_count": null,
   "metadata": {},
   "outputs": [],
   "source": [
    "# train the classifier with optimal values identified above\n",
    "tree_clf_optimal = DecisionTreeClassifier(criterion='entropy', \n",
    "                                      max_depth=8,\n",
    "                                      min_samples_split=0.05)\n",
    "\n",
    "# fit the optimal tree\n",
    "tree_clf_optimal.fit(X_train_resampled,y_train_resampled)\n",
    "\n",
    "# make a prediction using the optimal tree\n",
    "pred = tree_clf_optimal.predict(X_test)\n",
    "\n",
    "# check the AUC of predictions\n",
    "fpr, tpr, thresholds = roc_curve(y_test,pred)\n",
    "roc_auc = auc(fpr,tpr)\n",
    "roc_auc"
   ]
  },
  {
   "cell_type": "markdown",
   "metadata": {},
   "source": [
    "### Maximum Features"
   ]
  },
  {
   "cell_type": "code",
   "execution_count": null,
   "metadata": {},
   "outputs": [],
   "source": [
    "# identify the optimal tree depth\n",
    "m_features = list(range(1, X_train_resampled.shape[1]))\n",
    "train_results = []\n",
    "test_results = []\n",
    "for m in m_features:\n",
    "    clf = DecisionTreeClassifier(criterion='entropy',max_features=m, random_state=42)\n",
    "    clf.fit(X_train_resampled,y_train_resampled)\n",
    "    train_hat = clf.predict(X_train_resampled)\n",
    "    fpr, tpr, thresholds = roc_curve(y_train_resampled,train_hat)\n",
    "    \n",
    "    # train results\n",
    "    train_auc_score = auc(fpr,tpr)\n",
    "    train_results.append(train_auc_score)\n",
    "    \n",
    "    #test results\n",
    "    test_hat = clf.predict(X_test)\n",
    "    fpr_test,tpr_test,thresh_test = roc_curve(y_test, test_hat)\n",
    "    test_auc_score = auc(fpr_test,tpr_test)\n",
    "    test_results.append(test_auc_score)\n",
    "\n",
    "plt.figure(figsize=(15,10))\n",
    "plt.plot(m_features, train_results, 'b', label='Train AUC')\n",
    "plt.plot(m_features, test_results, 'r', label = 'Test AUC')\n",
    "plt.xlabel('Max Features')\n",
    "plt.ylabel('AUC Score')\n",
    "plt.title('Finding the optimal Max Features')\n",
    "plt.legend();"
   ]
  },
  {
   "cell_type": "markdown",
   "metadata": {},
   "source": [
    "[identify Max Features here]"
   ]
  },
  {
   "cell_type": "code",
   "execution_count": null,
   "metadata": {},
   "outputs": [],
   "source": [
    "# plot the ROC curve\n",
    "\n",
    "plt.figure(figsize=(10,8))\n",
    "plt.plot(fpr,tpr,lw=2,color='red', label='ROC Curve')\n",
    "plt.plot([0,1],[0,1], color='blue', lw=2, linestyle='--')\n",
    "plt.xlim([0.0,1.0])\n",
    "plt.ylim([0.0,1.05])\n",
    "\n",
    "plt.yticks([1/20.0 for i in range(21)])\n",
    "plt.xticks([1/20.0 for i in range(21)])\n",
    "plt.xlabel('False Positive Rate')\n",
    "plt.ylabel('True Positive Rate')\n",
    "plt.title('Receiver operating characteristic (ROC) Curve')\n",
    "plt.legend(loc='lower right');"
   ]
  },
  {
   "cell_type": "code",
   "execution_count": null,
   "metadata": {},
   "outputs": [],
   "source": [
    "# plot confusion matrix of the test set\n",
    "fig, ax = plt.subplots(figsize=(10,8))\n",
    "plot_confusion_matrix(tree, X_test,y_test, ax=ax)"
   ]
  },
  {
   "cell_type": "code",
   "execution_count": null,
   "metadata": {},
   "outputs": [],
   "source": [
    "forest.score(X_test,y_test)"
   ]
  },
  {
   "cell_type": "code",
   "execution_count": null,
   "metadata": {
    "scrolled": true
   },
   "outputs": [],
   "source": [
    "forest.predict(X_test)"
   ]
  },
  {
   "cell_type": "code",
   "execution_count": null,
   "metadata": {},
   "outputs": [],
   "source": [
    "def plot_feature_importances(model):\n",
    "    n_features = data_dummy.shape[1]\n",
    "    plt.figure(figsize=(8,8))\n",
    "    plt.barh(range(n_features), model.feature_importances_, align='center')\n",
    "    plt.yticks(np.arange(n_features),data_dummy.columns.values)\n",
    "    plt.xlabel('feature_importance')\n",
    "    plt.ylabel('Feature')"
   ]
  },
  {
   "cell_type": "code",
   "execution_count": null,
   "metadata": {},
   "outputs": [],
   "source": [
    "sklearn.__version__"
   ]
  },
  {
   "cell_type": "code",
   "execution_count": null,
   "metadata": {},
   "outputs": [],
   "source": []
  },
  {
   "cell_type": "code",
   "execution_count": null,
   "metadata": {},
   "outputs": [],
   "source": []
  }
 ],
 "metadata": {
  "hide_input": false,
  "kernelspec": {
   "display_name": "Python [conda env:learn-env] *",
   "language": "python",
   "name": "conda-env-learn-env-py"
  },
  "language_info": {
   "codemirror_mode": {
    "name": "ipython",
    "version": 3
   },
   "file_extension": ".py",
   "mimetype": "text/x-python",
   "name": "python",
   "nbconvert_exporter": "python",
   "pygments_lexer": "ipython3",
   "version": "3.6.9"
  },
  "toc": {
   "base_numbering": 1,
   "nav_menu": {},
   "number_sections": true,
   "sideBar": true,
   "skip_h1_title": false,
   "title_cell": "Table of Contents",
   "title_sidebar": "Contents",
   "toc_cell": false,
   "toc_position": {
    "height": "calc(100% - 180px)",
    "left": "10px",
    "top": "150px",
    "width": "348px"
   },
   "toc_section_display": true,
   "toc_window_display": false
  },
  "varInspector": {
   "cols": {
    "lenName": 16,
    "lenType": 16,
    "lenVar": 40
   },
   "kernels_config": {
    "python": {
     "delete_cmd_postfix": "",
     "delete_cmd_prefix": "del ",
     "library": "var_list.py",
     "varRefreshCmd": "print(var_dic_list())"
    },
    "r": {
     "delete_cmd_postfix": ") ",
     "delete_cmd_prefix": "rm(",
     "library": "var_list.r",
     "varRefreshCmd": "cat(var_dic_list()) "
    }
   },
   "types_to_exclude": [
    "module",
    "function",
    "builtin_function_or_method",
    "instance",
    "_Feature"
   ],
   "window_display": false
  }
 },
 "nbformat": 4,
 "nbformat_minor": 2
}
